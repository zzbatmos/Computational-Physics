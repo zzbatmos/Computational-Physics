{
  "nbformat": 4,
  "nbformat_minor": 0,
  "metadata": {
    "kernelspec": {
      "display_name": "Python 3",
      "language": "python",
      "name": "python3"
    },
    "language_info": {
      "codemirror_mode": {
        "name": "ipython",
        "version": 3
      },
      "file_extension": ".py",
      "mimetype": "text/x-python",
      "name": "python",
      "nbconvert_exporter": "python",
      "pygments_lexer": "ipython3",
      "version": "3.7.7"
    },
    "colab": {
      "name": "Writing_Python_Program.ipynb",
      "provenance": [],
      "include_colab_link": true
    }
  },
  "cells": [
    {
      "cell_type": "markdown",
      "metadata": {
        "id": "view-in-github",
        "colab_type": "text"
      },
      "source": [
        "<a href=\"https://colab.research.google.com/github/ACROS-UMBC/UMBC-PHYS640-440/blob/Fall2021/Writing_Python_Program.ipynb\" target=\"_parent\"><img src=\"https://colab.research.google.com/assets/colab-badge.svg\" alt=\"Open In Colab\"/></a>"
      ]
    },
    {
      "cell_type": "markdown",
      "metadata": {
        "deletable": true,
        "editable": true,
        "id": "RWkyUBJbzrHi"
      },
      "source": [
        "# Introduction to Computational Physics (PHYS 640)"
      ]
    },
    {
      "cell_type": "markdown",
      "metadata": {
        "deletable": true,
        "editable": true,
        "id": "hP7iAuikzrHk"
      },
      "source": [
        "## Writing Python Program"
      ]
    },
    {
      "cell_type": "markdown",
      "metadata": {
        "deletable": true,
        "editable": true,
        "id": "n25DmIoXzrHk"
      },
      "source": [
        "### By Zhibo Zhang, Physics Department, UMBC"
      ]
    },
    {
      "cell_type": "markdown",
      "metadata": {
        "deletable": true,
        "editable": true,
        "id": "WkTX3ay8zrHk"
      },
      "source": [
        "## 1)  Defining Functions"
      ]
    },
    {
      "cell_type": "markdown",
      "metadata": {
        "deletable": true,
        "editable": true,
        "id": "rw7zuQwSzrHk"
      },
      "source": [
        "In Python, functions are defined using the keyword **def**.  It must be followed by the function name and the parenthesized list of formal parameters. The statements that form the body of the function start at the next line, and must be indented."
      ]
    },
    {
      "cell_type": "code",
      "metadata": {
        "deletable": true,
        "editable": true,
        "jupyter": {
          "outputs_hidden": false
        },
        "id": "gNLNRYbNzrHk",
        "outputId": "19311b67-aff1-4d16-b6ec-11141ce9a65a"
      },
      "source": [
        "def print_something(something): # Here the name of the function is \"print_something\", \"something\" is the input parameter\n",
        "    print (something )                            # this is the body of the function\n",
        "    \n",
        "\n",
        "print_something('Hello World')\n",
        "\n",
        "f=print_something\n",
        "f('hello again')\n",
        "f('phys220')"
      ],
      "execution_count": null,
      "outputs": [
        {
          "output_type": "stream",
          "text": [
            "Hello World\n",
            "hello again\n",
            "phys220\n"
          ],
          "name": "stdout"
        }
      ]
    },
    {
      "cell_type": "markdown",
      "metadata": {
        "deletable": true,
        "editable": true,
        "id": "y_4PDNGGzrHl"
      },
      "source": [
        "The execution of a function introduces a new symbol table used for the local variables of the function. More precisely, all variable assignments in a function store the value in the local symbol table; whereas variable references first look in the local symbol table, then in the local symbol tables of enclosing functions, then in the global symbol table, and finally in the table of built-in names. Thus, global variables cannot be directly assigned a value within a function (unless named in a **global** statement), although they may be referenced. We will learn more about global vs. local variables later."
      ]
    },
    {
      "cell_type": "markdown",
      "metadata": {
        "deletable": true,
        "editable": true,
        "id": "gS7blp65zrHl"
      },
      "source": [
        "In this case, the local sysmbol list now knows \"print_something\" is a user defined function."
      ]
    },
    {
      "cell_type": "code",
      "metadata": {
        "deletable": true,
        "editable": true,
        "jupyter": {
          "outputs_hidden": false
        },
        "id": "2628opvSzrHl",
        "outputId": "b78d6ac0-1711-44fa-aaf3-4048db5edf28"
      },
      "source": [
        "print_something('here') "
      ],
      "execution_count": null,
      "outputs": [
        {
          "output_type": "stream",
          "text": [
            "here\n"
          ],
          "name": "stdout"
        }
      ]
    },
    {
      "cell_type": "markdown",
      "metadata": {
        "deletable": true,
        "editable": true,
        "id": "vWlMkYnFzrHm"
      },
      "source": [
        "Note that,  **without** \"()\", you are referring a function. **with** \"()\", means that you want to execute it."
      ]
    },
    {
      "cell_type": "code",
      "metadata": {
        "deletable": true,
        "editable": true,
        "jupyter": {
          "outputs_hidden": false
        },
        "id": "m32ojaJezrHm"
      },
      "source": [
        "def donothing():\n",
        "    print ('I dont want to do anything')\n",
        "donothing()"
      ],
      "execution_count": null,
      "outputs": []
    },
    {
      "cell_type": "markdown",
      "metadata": {
        "deletable": true,
        "editable": true,
        "id": "MeNsSuUCzrHm"
      },
      "source": [
        "If you want the function to return you something, use the key word **return**. The return statement returns with a value from a function. return without an expression argument returns **None**.Here is a simple example from homework."
      ]
    },
    {
      "cell_type": "code",
      "metadata": {
        "deletable": true,
        "editable": true,
        "jupyter": {
          "outputs_hidden": false
        },
        "id": "u7s4n0mlzrHm",
        "outputId": "92167e33-5d66-4129-d57f-77d0fb467a7d"
      },
      "source": [
        "def multiply(x):\n",
        "    multi = 1\n",
        "    for i in x:\n",
        "        multi *= i\n",
        "    return multi\n",
        "\n",
        "def summation(x):\n",
        "    s=0\n",
        "    for i in x:\n",
        "        s +=i\n",
        "    return s\n",
        "\n",
        "def mands(x):\n",
        "    s,m=0,1\n",
        "    for i in x:\n",
        "        s+=i\n",
        "        m*=i\n",
        "    return s, m\n",
        "\n",
        "a=[1,2,3,4,5]\n",
        "b=multiply(a)\n",
        "c = summation(a)\n",
        "x,y = mands(a)\n",
        "print (x,y)"
      ],
      "execution_count": null,
      "outputs": [
        {
          "output_type": "stream",
          "text": [
            "15 120\n"
          ],
          "name": "stdout"
        }
      ]
    },
    {
      "cell_type": "markdown",
      "metadata": {
        "deletable": true,
        "editable": true,
        "id": "OV4rG7NGzrHm"
      },
      "source": [
        "you can ask the function to return more than one values. for example:"
      ]
    },
    {
      "cell_type": "code",
      "metadata": {
        "deletable": true,
        "editable": true,
        "jupyter": {
          "outputs_hidden": false
        },
        "id": "yXOjzvpxzrHm"
      },
      "source": [
        "def fxy(x,y):\n",
        "    return (x*y,x+y)\n",
        "    \n",
        "(a,b)=fxy(3,4)\n",
        "\n",
        "print ('a=',a,'b=',b)\n"
      ],
      "execution_count": null,
      "outputs": []
    },
    {
      "cell_type": "markdown",
      "metadata": {
        "deletable": true,
        "editable": true,
        "id": "jH-0KxHPzrHm"
      },
      "source": [
        "## 2) More on Defining Functions"
      ]
    },
    {
      "cell_type": "markdown",
      "metadata": {
        "deletable": true,
        "editable": true,
        "id": "XXcwV9m0zrHm"
      },
      "source": [
        "### 2.1 Default Argument Values"
      ]
    },
    {
      "cell_type": "markdown",
      "metadata": {
        "deletable": true,
        "editable": true,
        "id": "r-FWH0iVzrHm"
      },
      "source": [
        "In many cases, you may want one or two input parameters to have some default values.  For example:"
      ]
    },
    {
      "cell_type": "code",
      "metadata": {
        "deletable": true,
        "editable": true,
        "jupyter": {
          "outputs_hidden": false
        },
        "id": "xaI2ZqVGzrHn"
      },
      "source": [
        "def multiply_or_sum(x,y=2,m_or_s='multiply'): # here x is a mandatory argument you have to give it a value; the default value for y is 3 and m_or_s is \"multiply\"\n",
        "    if (m_or_s=='multiply'):\n",
        "        return x*y\n",
        "    else:\n",
        "        return x+y\n",
        "print (multiply_or_sum(5,2,m_or_s='sum'))"
      ],
      "execution_count": null,
      "outputs": []
    },
    {
      "cell_type": "markdown",
      "metadata": {
        "deletable": true,
        "editable": true,
        "id": "biFaUJqczrHn"
      },
      "source": [
        "the function can be called in several ways:"
      ]
    },
    {
      "cell_type": "markdown",
      "metadata": {
        "deletable": true,
        "editable": true,
        "id": "idros9gpzrHn"
      },
      "source": [
        "1: giving only the mandatory argument"
      ]
    },
    {
      "cell_type": "code",
      "metadata": {
        "deletable": true,
        "editable": true,
        "jupyter": {
          "outputs_hidden": false
        },
        "id": "llJ-dTE0zrHn"
      },
      "source": [
        "print (multiply_or_sum(5,m_or_s='sum')) # meaning x=5 and the opertion is multiply"
      ],
      "execution_count": null,
      "outputs": []
    },
    {
      "cell_type": "markdown",
      "metadata": {
        "deletable": true,
        "editable": true,
        "id": "o0sgQXIxzrHn"
      },
      "source": [
        "2: giving optional argument"
      ]
    },
    {
      "cell_type": "code",
      "metadata": {
        "deletable": true,
        "editable": true,
        "jupyter": {
          "outputs_hidden": false
        },
        "id": "unN5aGE8zrHn"
      },
      "source": [
        "print (multiply_or_sum(4,m_or_s='sum'))# in this case 4 is given to x and 5 is given to y, and m_or_s remains its default value  \"multiply\""
      ],
      "execution_count": null,
      "outputs": []
    },
    {
      "cell_type": "markdown",
      "metadata": {
        "deletable": true,
        "editable": true,
        "id": "iOcyjP8_zrHn"
      },
      "source": [
        "3: giving all optional argument"
      ]
    },
    {
      "cell_type": "code",
      "metadata": {
        "deletable": true,
        "editable": true,
        "jupyter": {
          "outputs_hidden": false
        },
        "id": "8TW3NadBzrHn"
      },
      "source": [
        "print (multiply_or_sum(4,5,'multiply'))"
      ],
      "execution_count": null,
      "outputs": []
    },
    {
      "cell_type": "markdown",
      "metadata": {
        "deletable": true,
        "editable": true,
        "id": "7zPZMOP2zrHn"
      },
      "source": [
        "### 2.2 Keyword Arguments"
      ]
    },
    {
      "cell_type": "markdown",
      "metadata": {
        "deletable": true,
        "editable": true,
        "id": "NGoZoS2RzrHn"
      },
      "source": [
        "Functions can also be called using keyword arguments of the form kwarg=value. For instance,  all the following calls of our example function would be invalid"
      ]
    },
    {
      "cell_type": "code",
      "metadata": {
        "deletable": true,
        "editable": true,
        "jupyter": {
          "outputs_hidden": false
        },
        "id": "2YctJZLgzrHn"
      },
      "source": [
        "print (multiply_or_sum(x=3,m_or_s='s',y=10))\n",
        "print (multiply_or_sum(x=3,m_or_s='multiply'))\n",
        "print (multiply_or_sum(6,m_or_s='multiply'))"
      ],
      "execution_count": null,
      "outputs": []
    },
    {
      "cell_type": "markdown",
      "metadata": {
        "deletable": true,
        "editable": true,
        "id": "iad708_8zrHn"
      },
      "source": [
        "but this one is not"
      ]
    },
    {
      "cell_type": "code",
      "metadata": {
        "deletable": true,
        "editable": true,
        "jupyter": {
          "outputs_hidden": false
        },
        "id": "c3oBiSVrzrHn"
      },
      "source": [
        "print multiply_or_sum(y=3) # error because you always have to give the mandatory argument some value"
      ],
      "execution_count": null,
      "outputs": []
    },
    {
      "cell_type": "markdown",
      "metadata": {
        "deletable": true,
        "editable": true,
        "id": "Ye3FQQgczrHo"
      },
      "source": [
        "### 3) Python Variable Scope"
      ]
    },
    {
      "cell_type": "markdown",
      "metadata": {
        "deletable": true,
        "editable": true,
        "id": "KHsbYMqBzrHo"
      },
      "source": [
        "All functions, parameter, variables, etc exsit in certain \"scope\". In other words, you can only access a variable in its scope. Global variables are accessible inside and outside of functions. Local variables are only accessible inside the function. In the example below, the function can access both the global and the local variable. However, trying to access the local variable outside the function produces an error. "
      ]
    },
    {
      "cell_type": "code",
      "metadata": {
        "deletable": true,
        "editable": true,
        "jupyter": {
          "outputs_hidden": false
        },
        "id": "TRIe238gzrHo",
        "outputId": "c322adac-90fb-4615-b2ff-1d7db6f15a81"
      },
      "source": [
        "global_var = 'foo'\n",
        "def ex1():\n",
        "    local_var = 'bar'\n",
        "    print ('inside', global_var)\n",
        "    print ('inside', local_var)\n",
        "\n",
        "ex1()\n",
        "print (global_var)\n",
        "print (local_var)  # this gives an error"
      ],
      "execution_count": null,
      "outputs": [
        {
          "output_type": "stream",
          "text": [
            "inside foo\n",
            "inside bar\n",
            "foo\n"
          ],
          "name": "stdout"
        },
        {
          "output_type": "error",
          "ename": "NameError",
          "evalue": "name 'local_var' is not defined",
          "traceback": [
            "\u001b[0;31m---------------------------------------------------------------------------\u001b[0m",
            "\u001b[0;31mNameError\u001b[0m                                 Traceback (most recent call last)",
            "\u001b[0;32m<ipython-input-10-b75b747a6963>\u001b[0m in \u001b[0;36m<module>\u001b[0;34m\u001b[0m\n\u001b[1;32m      7\u001b[0m \u001b[0mex1\u001b[0m\u001b[0;34m(\u001b[0m\u001b[0;34m)\u001b[0m\u001b[0;34m\u001b[0m\u001b[0;34m\u001b[0m\u001b[0m\n\u001b[1;32m      8\u001b[0m \u001b[0mprint\u001b[0m \u001b[0;34m(\u001b[0m\u001b[0mglobal_var\u001b[0m\u001b[0;34m)\u001b[0m\u001b[0;34m\u001b[0m\u001b[0;34m\u001b[0m\u001b[0m\n\u001b[0;32m----> 9\u001b[0;31m \u001b[0mprint\u001b[0m \u001b[0;34m(\u001b[0m\u001b[0mlocal_var\u001b[0m\u001b[0;34m)\u001b[0m  \u001b[0;31m# this gives an error\u001b[0m\u001b[0;34m\u001b[0m\u001b[0;34m\u001b[0m\u001b[0m\n\u001b[0m",
            "\u001b[0;31mNameError\u001b[0m: name 'local_var' is not defined"
          ]
        }
      ]
    },
    {
      "cell_type": "markdown",
      "metadata": {
        "deletable": true,
        "editable": true,
        "id": "ObUyc9QazrHo"
      },
      "source": [
        "*Setting* a global variable from within a function is not simple. If you set a variable in a function with the same name as a global variable, you  are actually creating a new **local** variable. In the example below, var remains 'foo' even after the function is called.\n"
      ]
    },
    {
      "cell_type": "code",
      "metadata": {
        "deletable": true,
        "editable": true,
        "jupyter": {
          "outputs_hidden": false
        },
        "id": "qFxEggd6zrHo"
      },
      "source": [
        "var = 'foo'\n",
        "def ex2():\n",
        "    var = 'bar'\n",
        "    print ('inside the function var is ', var)\n",
        "\n",
        "ex2()\n",
        "print ('outside the function var is ', var)"
      ],
      "execution_count": null,
      "outputs": []
    },
    {
      "cell_type": "markdown",
      "metadata": {
        "deletable": true,
        "editable": true,
        "id": "q3AJYHpfzrHo"
      },
      "source": [
        "Then **How to set a global variable in side a function?** Although this is a pretty **dangeous** thing to do, this is how to do it: To set the global variable inside a function, you need to use the ***global*** statement. This declares the inner variable to have module scope. Now var remains 'bar' after the function is called.\n",
        "\n",
        "In Python, variables that are only referenced inside a function are implicitly *global*. If a variable is assigned a new value anywhere within the function’s body, it’s assumed to be a *local*. If a variable is ever assigned a new value inside the function, the variable is implicitly *local*, and you need to explicitly declare it as ‘*global*’.\n",
        "\n",
        "Though a bit surprising at first, a moment’s consideration explains this. On one hand, requiring global for assigned variables provides a bar against unintended side-effects. On the other hand, if global was required for all global references, you’d be using global all the time. You’d have to declare as global every reference to a built-in function or to a component of an imported module. This clutter would defeat the usefulness of the global declaration for identifying side-effects."
      ]
    },
    {
      "cell_type": "code",
      "metadata": {
        "deletable": true,
        "editable": true,
        "jupyter": {
          "outputs_hidden": false
        },
        "id": "m3oNAtMQzrHp",
        "outputId": "eabbaf0c-0d38-481b-f948-2c772c77e4ab"
      },
      "source": [
        "var_global = 'foo'\n",
        "\n",
        "def ex3():\n",
        "    #global var # here the keyword global let python know that the scope of varible \"var\" is global.\n",
        "    #print ('before change, inside the function var is ', var)\n",
        "    var = 'bar'\n",
        "    print(var_global)\n",
        "    print ('inside the function var is ', var)\n",
        "\n",
        "ex3()\n",
        "print ('outside the function var is ', var)"
      ],
      "execution_count": null,
      "outputs": [
        {
          "output_type": "stream",
          "text": [
            "foo\n",
            "inside the function var is  bar\n",
            "outside the function var is  bar\n"
          ],
          "name": "stdout"
        }
      ]
    },
    {
      "cell_type": "markdown",
      "metadata": {
        "deletable": true,
        "editable": true,
        "id": "l2jyXmHdzrHp"
      },
      "source": [
        "You need to be very careful with global variables. Try **not** to change global variable in functions, unless absolutly necessary. Modifying global variables in functions is a dangeous thing and can easily cause troubles. See example below:"
      ]
    },
    {
      "cell_type": "code",
      "metadata": {
        "deletable": true,
        "editable": true,
        "jupyter": {
          "outputs_hidden": false
        },
        "id": "6NrKQhaUzrHp"
      },
      "source": [
        "gx=8;gy=9\n",
        "\n",
        "def modify_gx_gy(x,y):\n",
        "    global gx,gy\n",
        "    gx=x;gy=y\n",
        "    \n",
        "def fx(x=gx,y=gy):\n",
        "    return x*y,x+y\n",
        "\n",
        "modify_gx_gy(2,3) \n",
        "\n",
        "\n",
        "print (fx())\n"
      ],
      "execution_count": null,
      "outputs": []
    },
    {
      "cell_type": "markdown",
      "metadata": {
        "deletable": true,
        "editable": true,
        "id": "g7Atlz-3zrHp"
      },
      "source": [
        "## 4) Import module and build your own module "
      ]
    },
    {
      "cell_type": "markdown",
      "metadata": {
        "deletable": true,
        "editable": true,
        "id": "vjRnEcLAzrHp"
      },
      "source": [
        "### 4.1) **Import** module"
      ]
    },
    {
      "cell_type": "markdown",
      "metadata": {
        "deletable": true,
        "editable": true,
        "id": "fyHw-9DxzrHp"
      },
      "source": [
        "A module allows you to logically organize your Python code. Grouping related code into a module makes the code easier to understand and use. A module is a Python object with arbitrarily named attributes that you can bind and reference.\n",
        "\n",
        "Simply, a module is a file consisting of Python code. A module can define functions like the examples above, classes and variables. A module can also include runnable code. Canopy Python comes with many modules, such as Numpy, Scipy and Matplotlib. Each of these modules contains many functions.\n",
        "\n",
        "To access a Python module, say Numpy, use the **import** statement. There are several ways to import a module using import:"
      ]
    },
    {
      "cell_type": "code",
      "metadata": {
        "deletable": true,
        "editable": true,
        "jupyter": {
          "outputs_hidden": false
        },
        "id": "79Hv1kX6zrHp"
      },
      "source": [
        "import numpy as np\n",
        "import numpy.random as rd"
      ],
      "execution_count": null,
      "outputs": []
    },
    {
      "cell_type": "code",
      "metadata": {
        "id": "YFjMe57YzrHp",
        "outputId": "44e0900e-2bd8-48ab-b639-7dbd26334551"
      },
      "source": [
        "from numpy.random import random_integers\n",
        "random_integers(1,10)"
      ],
      "execution_count": null,
      "outputs": [
        {
          "output_type": "stream",
          "text": [
            "/opt/anaconda3/lib/python3.7/site-packages/ipykernel_launcher.py:2: DeprecationWarning: This function is deprecated. Please call randint(1, 10 + 1) instead\n",
            "  \n"
          ],
          "name": "stderr"
        },
        {
          "output_type": "execute_result",
          "data": {
            "text/plain": [
              "4"
            ]
          },
          "metadata": {
            "tags": []
          },
          "execution_count": 27
        }
      ]
    },
    {
      "cell_type": "markdown",
      "metadata": {
        "deletable": true,
        "editable": true,
        "id": "Jk8nOsaozrHp"
      },
      "source": [
        "In this way, the whole numpy module is loaded (actually, only the name space of the module is loaded). To use a particular function in numpy, such as cosine, you need to use numpy.cos(). The \"period\" behind the numpy indicates that the cos function belongs to the numpy package "
      ]
    },
    {
      "cell_type": "code",
      "metadata": {
        "deletable": true,
        "editable": true,
        "jupyter": {
          "outputs_hidden": false
        },
        "id": "Z3qnvbHszrHp"
      },
      "source": [
        "print (numpy.cos(numpy.pi/6))"
      ],
      "execution_count": null,
      "outputs": []
    },
    {
      "cell_type": "markdown",
      "metadata": {
        "deletable": true,
        "editable": true,
        "id": "yF1Kr7oIzrHp"
      },
      "source": [
        "if you don't want to type the word \"numpy\" everytime, you can use the following way to import numpy module"
      ]
    },
    {
      "cell_type": "code",
      "metadata": {
        "deletable": true,
        "editable": true,
        "jupyter": {
          "outputs_hidden": false
        },
        "id": "pDgzAvsJzrHq"
      },
      "source": [
        "from numpy import *"
      ],
      "execution_count": null,
      "outputs": []
    },
    {
      "cell_type": "code",
      "metadata": {
        "id": "4v5UwF3LzrHq",
        "outputId": "16a86c77-9f1a-432c-d3c7-ef30ba83657b"
      },
      "source": [
        "cos(3)"
      ],
      "execution_count": null,
      "outputs": [
        {
          "output_type": "execute_result",
          "data": {
            "text/plain": [
              "-0.9899924966004454"
            ]
          },
          "metadata": {
            "tags": []
          },
          "execution_count": 20
        }
      ]
    },
    {
      "cell_type": "markdown",
      "metadata": {
        "deletable": true,
        "editable": true,
        "id": "JqSTWZ3YzrHq"
      },
      "source": [
        "Now you can directly use the functions in Numpy module without having to type the word \"Numpy.\""
      ]
    },
    {
      "cell_type": "code",
      "metadata": {
        "deletable": true,
        "editable": true,
        "jupyter": {
          "outputs_hidden": false
        },
        "id": "V369smVHzrHq"
      },
      "source": [
        "print (cos(pi/6))"
      ],
      "execution_count": null,
      "outputs": []
    },
    {
      "cell_type": "markdown",
      "metadata": {
        "deletable": true,
        "editable": true,
        "id": "TMmHOiNyzrHq"
      },
      "source": [
        "The disadvantage of doing this is that sometimes two or more modules could have the same function. In fact, Numpy and Scipy package have quite a few overlaps. So the recommended way of importing module is:"
      ]
    },
    {
      "cell_type": "code",
      "metadata": {
        "deletable": true,
        "editable": true,
        "jupyter": {
          "outputs_hidden": false
        },
        "id": "zYp1P_v1zrHq",
        "outputId": "6e3d6798-225c-4930-c41f-b2ec4e688605"
      },
      "source": [
        "import numpy as np\n",
        "import math as mt\n",
        "print(np.cos(np.pi/6.))\n",
        "print(mt.cos(mt.pi/6.))"
      ],
      "execution_count": null,
      "outputs": [
        {
          "output_type": "stream",
          "text": [
            "0.8660254037844387\n",
            "0.8660254037844387\n"
          ],
          "name": "stdout"
        }
      ]
    },
    {
      "cell_type": "markdown",
      "metadata": {
        "deletable": true,
        "editable": true,
        "id": "Uki9bBK0zrHq"
      },
      "source": [
        "In this case, Numpy module is loaded and assigned with a short name \"np\". As such, you can use all the functions of numpy easily and you can also distinguish functions in Numpy module from others."
      ]
    },
    {
      "cell_type": "code",
      "metadata": {
        "deletable": true,
        "editable": true,
        "jupyter": {
          "outputs_hidden": false
        },
        "id": "wsrXicfbzrHq",
        "outputId": "f746b0ff-eb81-4610-9b66-14c3d782f938"
      },
      "source": [
        "print (np.cos(np.pi/6))"
      ],
      "execution_count": null,
      "outputs": [
        {
          "output_type": "stream",
          "text": [
            "0.8660254037844387\n"
          ],
          "name": "stdout"
        }
      ]
    },
    {
      "cell_type": "markdown",
      "metadata": {
        "deletable": true,
        "editable": true,
        "id": "GLb37ISLzrHq"
      },
      "source": [
        "### 4.2) Package your own module"
      ]
    },
    {
      "cell_type": "markdown",
      "metadata": {
        "deletable": true,
        "editable": true,
        "id": "dQcHzI1bzrHq"
      },
      "source": [
        "A package is a hierarchical file directory structure that defines a single Python application environment that consists of modules and subpackages and sub-subpackages, and so on.\n",
        "\n",
        "Consider a file multiply.py available in My_Math directory. This file has following line of source code:"
      ]
    },
    {
      "cell_type": "code",
      "metadata": {
        "deletable": true,
        "editable": true,
        "jupyter": {
          "outputs_hidden": false
        },
        "id": "DC3L7RWjzrHq"
      },
      "source": [
        "def multiply(x):\n",
        "    multi = 1\n",
        "    for i in x:\n",
        "        multi *= i\n",
        "    return multi"
      ],
      "execution_count": null,
      "outputs": []
    },
    {
      "cell_type": "markdown",
      "metadata": {
        "deletable": true,
        "editable": true,
        "id": "eSz4RjKQzrHq"
      },
      "source": [
        "Similar way, we have another two files having different functions with the same name as above:\n",
        "\n",
        "    My_Math/Add.py file having function Add()\n",
        "\n",
        "    My_Math/ subtract.py file having function Subtract()\n",
        "\n",
        "**Now, create an empty file \\_\\_init\\_\\_.py in My_Math directory**\n",
        "with the \\_\\_init\\_\\_.py file, My_Math is now considered as a package by Python. You can import it just as you import Numpy"
      ]
    }
  ]
}