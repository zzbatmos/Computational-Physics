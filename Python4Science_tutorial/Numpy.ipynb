{
  "nbformat": 4,
  "nbformat_minor": 0,
  "metadata": {
    "kernelspec": {
      "display_name": "Python 3",
      "language": "python",
      "name": "python3"
    },
    "language_info": {
      "codemirror_mode": {
        "name": "ipython",
        "version": 3
      },
      "file_extension": ".py",
      "mimetype": "text/x-python",
      "name": "python",
      "nbconvert_exporter": "python",
      "pygments_lexer": "ipython3",
      "version": "3.7.7"
    },
    "colab": {
      "name": "Numpy.ipynb",
      "provenance": [],
      "collapsed_sections": [
        "pdHE9jxcyyh1",
        "-neRNuoryyh2",
        "KqKIt81Syyh3",
        "6HQjAu_iyyh3",
        "ycnDdpwGyyh4",
        "3v7ckFY3yyh4",
        "rKmw15I0yyh6",
        "SR6KXzM-yyh9",
        "evul6l1Kyyh_",
        "Y7tIwyMNyyiA",
        "vQ69ZzM9yyiA",
        "Oq-BiqrxyyiB",
        "v0xfSpLgyyiC"
      ],
      "include_colab_link": true
    }
  },
  "cells": [
    {
      "cell_type": "markdown",
      "metadata": {
        "id": "view-in-github",
        "colab_type": "text"
      },
      "source": [
        "<a href=\"https://colab.research.google.com/github/ACROS-UMBC/UMBC-PHYS640-440/blob/Fall2021/Numpy.ipynb\" target=\"_parent\"><img src=\"https://colab.research.google.com/assets/colab-badge.svg\" alt=\"Open In Colab\"/></a>"
      ]
    },
    {
      "cell_type": "markdown",
      "metadata": {
        "deletable": true,
        "editable": true,
        "id": "IazkCfzUyyhn"
      },
      "source": [
        "# Computational Physics (PHYS 640-440)"
      ]
    },
    {
      "cell_type": "markdown",
      "metadata": {
        "deletable": true,
        "editable": true,
        "id": "QoOwcvRYyyhp"
      },
      "source": [
        "# A brief introduction of Numpy "
      ]
    },
    {
      "cell_type": "markdown",
      "metadata": {
        "deletable": true,
        "editable": true,
        "id": "GAemxT3qyyhq"
      },
      "source": [
        "Some online resources:\n",
        "\n",
        "http://wiki.scipy.org/Tentative_NumPy_Tutorial \n",
        "\n",
        "http://wiki.scipy.org/NumPy_for_Matlab_Users\n",
        "\n",
        "http://www.engr.ucsb.edu/~shell/che210d/numpy.pdf"
      ]
    },
    {
      "cell_type": "markdown",
      "metadata": {
        "deletable": true,
        "editable": true,
        "id": "kwY-cTATyyhq"
      },
      "source": [
        "NumPy is the fundamental package for scientific computing with Python. It contains among other things:\n",
        "\n",
        "* a powerful N-dimensional array object\n",
        "* sophisticated (broadcasting) functions\n",
        "* tools for integrating C/C++ and Fortran code\n",
        "* useful linear algebra, Fourier transform, and random number capabilities\n"
      ]
    },
    {
      "cell_type": "code",
      "metadata": {
        "deletable": true,
        "editable": true,
        "jupyter": {
          "outputs_hidden": false
        },
        "id": "0mQaEG2xyyhq"
      },
      "source": [
        "%matplotlib inline"
      ],
      "execution_count": 1,
      "outputs": []
    },
    {
      "cell_type": "markdown",
      "metadata": {
        "deletable": true,
        "editable": true,
        "id": "JaMd3E8wyyhr"
      },
      "source": [
        "## 1) Get started"
      ]
    },
    {
      "cell_type": "markdown",
      "metadata": {
        "deletable": true,
        "editable": true,
        "id": "0ZZPxdGHyyhr"
      },
      "source": [
        "The `numpy` package (module) is used in almost all numerical computation using Python. It is a package that provide high-performance vector, matrix and higher-dimensional data structures for Python. It is implemented in C and Fortran so when calculations are vectorized (formulated with vectors and matrices), performance is very good. \n",
        "\n",
        "To use `numpy` functions and routines, you need to import `numpy`. As we already learnded, there are several ways to import a module.  For example, you can:\n"
      ]
    },
    {
      "cell_type": "code",
      "metadata": {
        "deletable": true,
        "editable": true,
        "jupyter": {
          "outputs_hidden": false
        },
        "colab": {
          "base_uri": "https://localhost:8080/"
        },
        "id": "4c421Fahyyhs",
        "outputId": "30b57f3b-7c81-4ac5-ebe1-1ee3c713fb35"
      },
      "source": [
        "import numpy as np\n",
        "from numpy import *\n",
        "print(np.random.rand()) # print a random number from uniform distribution\n",
        "print(random.rand())"
      ],
      "execution_count": 2,
      "outputs": [
        {
          "output_type": "stream",
          "text": [
            "0.47288837417310436\n",
            "0.857265649130015\n"
          ],
          "name": "stdout"
        }
      ]
    },
    {
      "cell_type": "markdown",
      "metadata": {
        "deletable": true,
        "editable": true,
        "id": "P1Gt3LhVyyht"
      },
      "source": [
        "Sometimes you just want to load a specific function, then you can use `from numpy.xxx import yy` command"
      ]
    },
    {
      "cell_type": "code",
      "metadata": {
        "deletable": true,
        "editable": true,
        "jupyter": {
          "outputs_hidden": false
        },
        "colab": {
          "base_uri": "https://localhost:8080/"
        },
        "id": "-1gIReClyyht",
        "outputId": "057f8014-6405-4770-9c39-920bb759aa15"
      },
      "source": [
        "from numpy.random import rand\n",
        "print(rand(10)) #generate an array with 10 random numbers from uniform distribution\n",
        "help(rand) # you can also get help on this function\n",
        "from numpy import *"
      ],
      "execution_count": 3,
      "outputs": [
        {
          "output_type": "stream",
          "text": [
            "[0.73987165 0.14049859 0.25460782 0.97462721 0.18483633 0.82352981\n",
            " 0.52782065 0.95230719 0.35847118 0.3108568 ]\n",
            "Help on built-in function rand:\n",
            "\n",
            "rand(...) method of numpy.random.mtrand.RandomState instance\n",
            "    rand(d0, d1, ..., dn)\n",
            "    \n",
            "    Random values in a given shape.\n",
            "    \n",
            "    .. note::\n",
            "        This is a convenience function for users porting code from Matlab,\n",
            "        and wraps `random_sample`. That function takes a\n",
            "        tuple to specify the size of the output, which is consistent with\n",
            "        other NumPy functions like `numpy.zeros` and `numpy.ones`.\n",
            "    \n",
            "    Create an array of the given shape and populate it with\n",
            "    random samples from a uniform distribution\n",
            "    over ``[0, 1)``.\n",
            "    \n",
            "    Parameters\n",
            "    ----------\n",
            "    d0, d1, ..., dn : int, optional\n",
            "        The dimensions of the returned array, must be non-negative.\n",
            "        If no argument is given a single Python float is returned.\n",
            "    \n",
            "    Returns\n",
            "    -------\n",
            "    out : ndarray, shape ``(d0, d1, ..., dn)``\n",
            "        Random values.\n",
            "    \n",
            "    See Also\n",
            "    --------\n",
            "    random\n",
            "    \n",
            "    Examples\n",
            "    --------\n",
            "    >>> np.random.rand(3,2)\n",
            "    array([[ 0.14022471,  0.96360618],  #random\n",
            "           [ 0.37601032,  0.25528411],  #random\n",
            "           [ 0.49313049,  0.94909878]]) #random\n",
            "\n"
          ],
          "name": "stdout"
        }
      ]
    },
    {
      "cell_type": "markdown",
      "metadata": {
        "deletable": true,
        "editable": true,
        "id": "ct_q6qRLyyht"
      },
      "source": [
        "`Numpy` has a large library of internal functions and routines\n",
        "\n",
        "For a complete list check this link: http://docs.scipy.org/doc/numpy/reference/routines.html"
      ]
    },
    {
      "cell_type": "markdown",
      "metadata": {
        "deletable": true,
        "editable": true,
        "id": "fsxQn6M-yyhu"
      },
      "source": [
        "## 2) `Numpy` arrays"
      ]
    },
    {
      "cell_type": "markdown",
      "metadata": {
        "deletable": true,
        "editable": true,
        "id": "qlB6Ds-Hyyhu"
      },
      "source": [
        "There are a number of ways to initialize new numpy arrays, for example from\n",
        "\n",
        "* a Python list or tuples\n",
        "* using functions that are dedicated to generating numpy arrays, such as `arange`, `linspace`, etc.\n",
        "* reading data from files"
      ]
    },
    {
      "cell_type": "markdown",
      "metadata": {
        "deletable": true,
        "editable": true,
        "id": "LQCazs-4yyhu"
      },
      "source": [
        "## 2.1) create `Numpy` array"
      ]
    },
    {
      "cell_type": "markdown",
      "metadata": {
        "deletable": true,
        "editable": true,
        "id": "eJl2KIsRyyhu"
      },
      "source": [
        "### From lists"
      ]
    },
    {
      "cell_type": "markdown",
      "metadata": {
        "deletable": true,
        "editable": true,
        "id": "ne586pRJyyhu"
      },
      "source": [
        "For example, to create new vector and matrix arrays from Python lists we can use the `numpy.array` function."
      ]
    },
    {
      "cell_type": "code",
      "metadata": {
        "deletable": true,
        "editable": true,
        "jupyter": {
          "outputs_hidden": false
        },
        "colab": {
          "base_uri": "https://localhost:8080/"
        },
        "id": "kHgpo894yyhu",
        "outputId": "5d6e6e9f-16fe-45a9-d1ab-0168f2f89af2"
      },
      "source": [
        "# a vector: the argument to the array function is a Python list\n",
        "a=[1,2,3,4, 2,1]\n",
        "v = np.array(a)\n",
        "print( a, v)\n",
        "print( type(a))\n",
        "print( type(v)) # a is a Python list, v is a numpy list\n"
      ],
      "execution_count": 4,
      "outputs": [
        {
          "output_type": "stream",
          "text": [
            "[1, 2, 3, 4, 2, 1] [1 2 3 4 2 1]\n",
            "<class 'list'>\n",
            "<class 'numpy.ndarray'>\n"
          ],
          "name": "stdout"
        }
      ]
    },
    {
      "cell_type": "code",
      "metadata": {
        "colab": {
          "base_uri": "https://localhost:8080/"
        },
        "id": "WoY7d9ACyyhv",
        "outputId": "d27024f4-f38b-4f21-bcf4-b5eca7b4b64a"
      },
      "source": [
        "M = np.array([[1, 2], [3, 4]])\n",
        "print(M)\n",
        "print(M.size,M.shape)\n",
        "s = M.size\n",
        "nr,nc = M.shape\n",
        "\n"
      ],
      "execution_count": 5,
      "outputs": [
        {
          "output_type": "stream",
          "text": [
            "[[1 2]\n",
            " [3 4]]\n",
            "4 (2, 2)\n"
          ],
          "name": "stdout"
        }
      ]
    },
    {
      "cell_type": "code",
      "metadata": {
        "deletable": true,
        "editable": true,
        "jupyter": {
          "outputs_hidden": false
        },
        "colab": {
          "base_uri": "https://localhost:8080/"
        },
        "id": "dfK2vdSsyyhv",
        "outputId": "ddcf01a2-2a3b-4a5d-e6dc-2919c1d5fec9"
      },
      "source": [
        "# a matrix: the argument to the array function is a nested Python list\n",
        "M = np.array([[1, 2], [3, 4]]) # the first row is [1,2] the second row is [3,4]\n",
        "\n",
        "print (M[0,0],M[0,1])\n",
        "print (M.dtype)"
      ],
      "execution_count": 6,
      "outputs": [
        {
          "output_type": "stream",
          "text": [
            "1 2\n",
            "int64\n"
          ],
          "name": "stdout"
        }
      ]
    },
    {
      "cell_type": "markdown",
      "metadata": {
        "deletable": true,
        "editable": true,
        "id": "nXTshnPIyyhv"
      },
      "source": [
        "The `v` and `M` objects are both of the type `ndarray` that the `numpy` module provides."
      ]
    },
    {
      "cell_type": "code",
      "metadata": {
        "deletable": true,
        "editable": true,
        "jupyter": {
          "outputs_hidden": false
        },
        "colab": {
          "base_uri": "https://localhost:8080/"
        },
        "id": "MUbgk5ctyyhv",
        "outputId": "72de4223-507b-4c2e-e3ea-d70dfe0a1388"
      },
      "source": [
        "type(v), type(M)"
      ],
      "execution_count": 7,
      "outputs": [
        {
          "output_type": "execute_result",
          "data": {
            "text/plain": [
              "(numpy.ndarray, numpy.ndarray)"
            ]
          },
          "metadata": {
            "tags": []
          },
          "execution_count": 7
        }
      ]
    },
    {
      "cell_type": "markdown",
      "metadata": {
        "deletable": true,
        "editable": true,
        "id": "8Faqztmiyyhw"
      },
      "source": [
        "The difference between the `v` and `M` arrays is only their shapes. We can get information about the shape of an array by using the `ndarray.shape` property."
      ]
    },
    {
      "cell_type": "code",
      "metadata": {
        "deletable": true,
        "editable": true,
        "jupyter": {
          "outputs_hidden": false
        },
        "colab": {
          "base_uri": "https://localhost:8080/"
        },
        "id": "5MTQc5w6yyhw",
        "outputId": "828e86f2-0dbc-4aa6-c1aa-e26a816729e1"
      },
      "source": [
        "print (v)\n",
        "v.shape"
      ],
      "execution_count": 8,
      "outputs": [
        {
          "output_type": "stream",
          "text": [
            "[1 2 3 4 2 1]\n"
          ],
          "name": "stdout"
        },
        {
          "output_type": "execute_result",
          "data": {
            "text/plain": [
              "(6,)"
            ]
          },
          "metadata": {
            "tags": []
          },
          "execution_count": 8
        }
      ]
    },
    {
      "cell_type": "code",
      "metadata": {
        "deletable": true,
        "editable": true,
        "jupyter": {
          "outputs_hidden": false
        },
        "colab": {
          "base_uri": "https://localhost:8080/"
        },
        "id": "nEZ0foxpyyhw",
        "outputId": "1eb8de6e-3cb9-4e95-c5ae-bec0e4e3ffd5"
      },
      "source": [
        "M.shape"
      ],
      "execution_count": 9,
      "outputs": [
        {
          "output_type": "execute_result",
          "data": {
            "text/plain": [
              "(2, 2)"
            ]
          },
          "metadata": {
            "tags": []
          },
          "execution_count": 9
        }
      ]
    },
    {
      "cell_type": "markdown",
      "metadata": {
        "deletable": true,
        "editable": true,
        "id": "Ue07l9qqyyhw"
      },
      "source": [
        "The number of elements in the array is available through the `ndarray.size` property:"
      ]
    },
    {
      "cell_type": "code",
      "metadata": {
        "deletable": true,
        "editable": true,
        "jupyter": {
          "outputs_hidden": false
        },
        "colab": {
          "base_uri": "https://localhost:8080/"
        },
        "id": "fpl8fs_Hyyhw",
        "outputId": "156776a2-04f5-4ef5-988f-c33907deff4c"
      },
      "source": [
        "print ('v.size',v.size)\n",
        "print ('M.size',M.size)"
      ],
      "execution_count": 10,
      "outputs": [
        {
          "output_type": "stream",
          "text": [
            "v.size 6\n",
            "M.size 4\n"
          ],
          "name": "stdout"
        }
      ]
    },
    {
      "cell_type": "markdown",
      "metadata": {
        "deletable": true,
        "editable": true,
        "id": "9P_JdErKyyhw"
      },
      "source": [
        "Equivalently, we could use the function `numpy.shape` and `numpy.size`"
      ]
    },
    {
      "cell_type": "code",
      "metadata": {
        "deletable": true,
        "editable": true,
        "jupyter": {
          "outputs_hidden": false
        },
        "colab": {
          "base_uri": "https://localhost:8080/"
        },
        "id": "1h0MCu7Tyyhx",
        "outputId": "14b6647e-c74c-449e-d231-b48c822c61c0"
      },
      "source": [
        "np.shape(M)"
      ],
      "execution_count": 11,
      "outputs": [
        {
          "output_type": "execute_result",
          "data": {
            "text/plain": [
              "(2, 2)"
            ]
          },
          "metadata": {
            "tags": []
          },
          "execution_count": 11
        }
      ]
    },
    {
      "cell_type": "code",
      "metadata": {
        "deletable": true,
        "editable": true,
        "jupyter": {
          "outputs_hidden": false
        },
        "colab": {
          "base_uri": "https://localhost:8080/"
        },
        "id": "uFRyLOJXyyhx",
        "outputId": "db51a292-5f3f-4833-9e37-3bb38b826339"
      },
      "source": [
        "size(M)"
      ],
      "execution_count": 12,
      "outputs": [
        {
          "output_type": "execute_result",
          "data": {
            "text/plain": [
              "4"
            ]
          },
          "metadata": {
            "tags": []
          },
          "execution_count": 12
        }
      ]
    },
    {
      "cell_type": "markdown",
      "metadata": {
        "deletable": true,
        "editable": true,
        "id": "ClVECkL6yyhx"
      },
      "source": [
        "So far the `numpy.ndarray` looks awefully much like a Python list (or nested list). Why not simply use Python lists for computations instead of creating a new array type? \n",
        "\n",
        "There are several reasons:\n",
        "\n",
        "* Python lists are very general. They can contain any kind of object. They are dynamically typed. They do not support mathematical functions such as matrix and dot multiplications, etc. Implementating such functions for Python lists would not be very efficient because of the dynamic typing.\n",
        "* Numpy arrays are **statically typed** and **homogeneous**. The type of the elements is determined when array is created.\n",
        "* Numpy arrays are memory efficient.\n",
        "* Because of the static typing, fast implementation of mathematical functions such as multiplication and addition of `numpy` arrays can be implemented in a compiled language (C and Fortran is used).\n",
        "\n",
        "Using the `dtype` (data type) property of an `ndarray`, we can see what type the data of an array has:"
      ]
    },
    {
      "cell_type": "code",
      "metadata": {
        "deletable": true,
        "editable": true,
        "jupyter": {
          "outputs_hidden": false
        },
        "colab": {
          "base_uri": "https://localhost:8080/"
        },
        "id": "pVDr7Qk9yyhx",
        "outputId": "cd43216b-7623-4c8b-a9f2-0c0ce97a243c"
      },
      "source": [
        "M.dtype\n",
        "M.size\n",
        "np.size(M)"
      ],
      "execution_count": 13,
      "outputs": [
        {
          "output_type": "execute_result",
          "data": {
            "text/plain": [
              "4"
            ]
          },
          "metadata": {
            "tags": []
          },
          "execution_count": 13
        }
      ]
    },
    {
      "cell_type": "markdown",
      "metadata": {
        "deletable": true,
        "editable": true,
        "id": "IU3hOvESyyhy"
      },
      "source": [
        "Be very careful when you try to assign a value of the different type to an element in a numpy array:"
      ]
    },
    {
      "cell_type": "code",
      "metadata": {
        "deletable": true,
        "editable": true,
        "jupyter": {
          "outputs_hidden": false
        },
        "colab": {
          "base_uri": "https://localhost:8080/"
        },
        "id": "X2VFS9aKyyhy",
        "outputId": "d39504dd-b931-40e3-87f5-4e81839f5ae1"
      },
      "source": [
        "M = np.array([[1, 2], [3, 4]])\n",
        "#M=M.astype(float)\n",
        "print(M.dtype)\n",
        "print('before',M)\n",
        "M[0,0]=3.5\n",
        "print('after',M)"
      ],
      "execution_count": 14,
      "outputs": [
        {
          "output_type": "stream",
          "text": [
            "int64\n",
            "before [[1 2]\n",
            " [3 4]]\n",
            "after [[3 2]\n",
            " [3 4]]\n"
          ],
          "name": "stdout"
        }
      ]
    },
    {
      "cell_type": "markdown",
      "metadata": {
        "deletable": true,
        "editable": true,
        "id": "9wJbJI3Lyyhy"
      },
      "source": [
        "If we want, we can explicitly define the type of the array data when we create it, using the `dtype` keyword argument: "
      ]
    },
    {
      "cell_type": "code",
      "metadata": {
        "deletable": true,
        "editable": true,
        "jupyter": {
          "outputs_hidden": false
        },
        "colab": {
          "base_uri": "https://localhost:8080/"
        },
        "id": "zyL24HVsyyhy",
        "outputId": "89eb05a8-0722-4c42-d9c5-1a1c0a6e4466"
      },
      "source": [
        "M = np.array([[1, 2], [3, 4]], dtype=float)\n",
        "\n",
        "M[0,0]=1.8\n",
        "print (M) # M[0,0] would not change because it is an integer type"
      ],
      "execution_count": 15,
      "outputs": [
        {
          "output_type": "stream",
          "text": [
            "[[1.8 2. ]\n",
            " [3.  4. ]]\n"
          ],
          "name": "stdout"
        }
      ]
    },
    {
      "cell_type": "code",
      "metadata": {
        "colab": {
          "base_uri": "https://localhost:8080/"
        },
        "id": "UqEe92v6yyhy",
        "outputId": "0c6560b7-bd44-4549-e3a1-121faa2b31dd"
      },
      "source": [
        "a= np.array([1.3,4,7.8,8.0,3])\n",
        "a.max()"
      ],
      "execution_count": 16,
      "outputs": [
        {
          "output_type": "execute_result",
          "data": {
            "text/plain": [
              "8.0"
            ]
          },
          "metadata": {
            "tags": []
          },
          "execution_count": 16
        }
      ]
    },
    {
      "cell_type": "markdown",
      "metadata": {
        "deletable": true,
        "editable": true,
        "id": "yyGoAIc_yyhy"
      },
      "source": [
        "Common type that can be used with `dtype` are: `int`, `float`, `complex`, `bool`, `object`, etc.\n",
        "\n",
        "We can also explicitly define the bit size of the data types, for example: `int64`, `int16`, `float128`, `complex128`."
      ]
    },
    {
      "cell_type": "markdown",
      "metadata": {
        "deletable": true,
        "editable": true,
        "id": "ChQ-WWpvyyhz"
      },
      "source": [
        "### Using array-generating functions"
      ]
    },
    {
      "cell_type": "markdown",
      "metadata": {
        "deletable": true,
        "editable": true,
        "id": "x9WxyJ-wyyhz"
      },
      "source": [
        "For larger arrays it is inpractical to initialize the data manually, using explicit python lists. Instead we can use one of the many functions in `numpy` that generates arrays of different forms. Some of the more common are:"
      ]
    },
    {
      "cell_type": "markdown",
      "metadata": {
        "deletable": true,
        "editable": true,
        "id": "ckIa5x4vyyhz"
      },
      "source": [
        "#### arange"
      ]
    },
    {
      "cell_type": "code",
      "metadata": {
        "deletable": true,
        "editable": true,
        "jupyter": {
          "outputs_hidden": false
        },
        "colab": {
          "base_uri": "https://localhost:8080/"
        },
        "id": "ZQ7UYC6eyyhz",
        "outputId": "269b6c15-6ccb-4505-9441-73f69b4173ba"
      },
      "source": [
        "# create a range\n",
        "#help(arange)\n",
        "x = np.arange(0, 10, 2) # arguments: start, stop, step\n",
        "y = np.arange(10,0,-1)\n",
        "print (x,y)\n",
        "type(x)"
      ],
      "execution_count": 17,
      "outputs": [
        {
          "output_type": "stream",
          "text": [
            "[0 2 4 6 8] [10  9  8  7  6  5  4  3  2  1]\n"
          ],
          "name": "stdout"
        },
        {
          "output_type": "execute_result",
          "data": {
            "text/plain": [
              "numpy.ndarray"
            ]
          },
          "metadata": {
            "tags": []
          },
          "execution_count": 17
        }
      ]
    },
    {
      "cell_type": "code",
      "metadata": {
        "deletable": true,
        "editable": true,
        "jupyter": {
          "outputs_hidden": false
        },
        "colab": {
          "base_uri": "https://localhost:8080/"
        },
        "id": "BeyEOhZ1yyhz",
        "outputId": "73edebd5-5519-4bfb-ae67-a58a14bbbf97"
      },
      "source": [
        "x = np.arange(-1, 1, 0.1)\n",
        "\n",
        "for i in np.arange(-1, 1, 0.1):\n",
        "    print(i)"
      ],
      "execution_count": 18,
      "outputs": [
        {
          "output_type": "stream",
          "text": [
            "-1.0\n",
            "-0.9\n",
            "-0.8\n",
            "-0.7000000000000001\n",
            "-0.6000000000000001\n",
            "-0.5000000000000001\n",
            "-0.40000000000000013\n",
            "-0.30000000000000016\n",
            "-0.20000000000000018\n",
            "-0.1000000000000002\n",
            "-2.220446049250313e-16\n",
            "0.09999999999999964\n",
            "0.19999999999999973\n",
            "0.2999999999999998\n",
            "0.3999999999999997\n",
            "0.49999999999999956\n",
            "0.5999999999999996\n",
            "0.6999999999999997\n",
            "0.7999999999999996\n",
            "0.8999999999999995\n"
          ],
          "name": "stdout"
        }
      ]
    },
    {
      "cell_type": "markdown",
      "metadata": {
        "deletable": true,
        "editable": true,
        "id": "-QSXm0VVyyhz"
      },
      "source": [
        "#### linspace and logspace"
      ]
    },
    {
      "cell_type": "code",
      "metadata": {
        "deletable": true,
        "editable": true,
        "jupyter": {
          "outputs_hidden": false
        },
        "colab": {
          "base_uri": "https://localhost:8080/"
        },
        "id": "3Agg31GRyyh0",
        "outputId": "7669a55b-b4f3-4dbc-fc93-0daf211f9936"
      },
      "source": [
        "# using linspace, both end points ARE included\n",
        "l=np.linspace(0, 10, 5)\n",
        "print (l)\n",
        "print (l.shape)"
      ],
      "execution_count": 19,
      "outputs": [
        {
          "output_type": "stream",
          "text": [
            "[ 0.   2.5  5.   7.5 10. ]\n",
            "(5,)\n"
          ],
          "name": "stdout"
        }
      ]
    },
    {
      "cell_type": "code",
      "metadata": {
        "deletable": true,
        "editable": true,
        "jupyter": {
          "outputs_hidden": false
        },
        "colab": {
          "base_uri": "https://localhost:8080/"
        },
        "id": "NO4JNai-yyh0",
        "outputId": "dd4dd72b-954c-43ae-8365-44a630fe0dda"
      },
      "source": [
        "base_10=logspace(0, 2, 10)\n",
        "base_e=logspace(0, 2, 10, base=e)\n",
        "print(base_10)\n",
        "print (base_e)"
      ],
      "execution_count": 20,
      "outputs": [
        {
          "output_type": "stream",
          "text": [
            "[  1.           1.66810054   2.7825594    4.64158883   7.74263683\n",
            "  12.91549665  21.5443469   35.93813664  59.94842503 100.        ]\n",
            "[1.         1.24884887 1.5596235  1.94773404 2.43242545 3.03773178\n",
            " 3.79366789 4.73771786 5.91669359 7.3890561 ]\n"
          ],
          "name": "stdout"
        }
      ]
    },
    {
      "cell_type": "markdown",
      "metadata": {
        "deletable": true,
        "editable": true,
        "id": "QW-Uq8Hyyyh0"
      },
      "source": [
        "#### mgrid"
      ]
    },
    {
      "cell_type": "code",
      "metadata": {
        "deletable": true,
        "editable": true,
        "jupyter": {
          "outputs_hidden": false
        },
        "id": "gdNeU6cjyyh0"
      },
      "source": [
        "x, y = np.mgrid[0:50:2, 0:5] # similar to meshgrid in MATLAB"
      ],
      "execution_count": 21,
      "outputs": []
    },
    {
      "cell_type": "code",
      "metadata": {
        "deletable": true,
        "editable": true,
        "jupyter": {
          "outputs_hidden": false
        },
        "colab": {
          "base_uri": "https://localhost:8080/"
        },
        "id": "hTKAqCdsyyh0",
        "outputId": "02c05545-fefe-4d83-bbfc-1523fb2eff0a"
      },
      "source": [
        "print (x)\n",
        "print (y)"
      ],
      "execution_count": 22,
      "outputs": [
        {
          "output_type": "stream",
          "text": [
            "[[ 0  0  0  0  0]\n",
            " [ 2  2  2  2  2]\n",
            " [ 4  4  4  4  4]\n",
            " [ 6  6  6  6  6]\n",
            " [ 8  8  8  8  8]\n",
            " [10 10 10 10 10]\n",
            " [12 12 12 12 12]\n",
            " [14 14 14 14 14]\n",
            " [16 16 16 16 16]\n",
            " [18 18 18 18 18]\n",
            " [20 20 20 20 20]\n",
            " [22 22 22 22 22]\n",
            " [24 24 24 24 24]\n",
            " [26 26 26 26 26]\n",
            " [28 28 28 28 28]\n",
            " [30 30 30 30 30]\n",
            " [32 32 32 32 32]\n",
            " [34 34 34 34 34]\n",
            " [36 36 36 36 36]\n",
            " [38 38 38 38 38]\n",
            " [40 40 40 40 40]\n",
            " [42 42 42 42 42]\n",
            " [44 44 44 44 44]\n",
            " [46 46 46 46 46]\n",
            " [48 48 48 48 48]]\n",
            "[[0 1 2 3 4]\n",
            " [0 1 2 3 4]\n",
            " [0 1 2 3 4]\n",
            " [0 1 2 3 4]\n",
            " [0 1 2 3 4]\n",
            " [0 1 2 3 4]\n",
            " [0 1 2 3 4]\n",
            " [0 1 2 3 4]\n",
            " [0 1 2 3 4]\n",
            " [0 1 2 3 4]\n",
            " [0 1 2 3 4]\n",
            " [0 1 2 3 4]\n",
            " [0 1 2 3 4]\n",
            " [0 1 2 3 4]\n",
            " [0 1 2 3 4]\n",
            " [0 1 2 3 4]\n",
            " [0 1 2 3 4]\n",
            " [0 1 2 3 4]\n",
            " [0 1 2 3 4]\n",
            " [0 1 2 3 4]\n",
            " [0 1 2 3 4]\n",
            " [0 1 2 3 4]\n",
            " [0 1 2 3 4]\n",
            " [0 1 2 3 4]\n",
            " [0 1 2 3 4]]\n"
          ],
          "name": "stdout"
        }
      ]
    },
    {
      "cell_type": "code",
      "metadata": {
        "deletable": true,
        "editable": true,
        "jupyter": {
          "outputs_hidden": false
        },
        "colab": {
          "base_uri": "https://localhost:8080/"
        },
        "id": "Qg8PG5Vwyyh0",
        "outputId": "cb627553-16dd-4e79-9e60-456a37a39b6c"
      },
      "source": [
        "y"
      ],
      "execution_count": 23,
      "outputs": [
        {
          "output_type": "execute_result",
          "data": {
            "text/plain": [
              "array([[0, 1, 2, 3, 4],\n",
              "       [0, 1, 2, 3, 4],\n",
              "       [0, 1, 2, 3, 4],\n",
              "       [0, 1, 2, 3, 4],\n",
              "       [0, 1, 2, 3, 4],\n",
              "       [0, 1, 2, 3, 4],\n",
              "       [0, 1, 2, 3, 4],\n",
              "       [0, 1, 2, 3, 4],\n",
              "       [0, 1, 2, 3, 4],\n",
              "       [0, 1, 2, 3, 4],\n",
              "       [0, 1, 2, 3, 4],\n",
              "       [0, 1, 2, 3, 4],\n",
              "       [0, 1, 2, 3, 4],\n",
              "       [0, 1, 2, 3, 4],\n",
              "       [0, 1, 2, 3, 4],\n",
              "       [0, 1, 2, 3, 4],\n",
              "       [0, 1, 2, 3, 4],\n",
              "       [0, 1, 2, 3, 4],\n",
              "       [0, 1, 2, 3, 4],\n",
              "       [0, 1, 2, 3, 4],\n",
              "       [0, 1, 2, 3, 4],\n",
              "       [0, 1, 2, 3, 4],\n",
              "       [0, 1, 2, 3, 4],\n",
              "       [0, 1, 2, 3, 4],\n",
              "       [0, 1, 2, 3, 4]])"
            ]
          },
          "metadata": {
            "tags": []
          },
          "execution_count": 23
        }
      ]
    },
    {
      "cell_type": "markdown",
      "metadata": {
        "deletable": true,
        "editable": true,
        "id": "AJA3-ebwyyh1"
      },
      "source": [
        "#### random data"
      ]
    },
    {
      "cell_type": "code",
      "metadata": {
        "deletable": true,
        "editable": true,
        "jupyter": {
          "outputs_hidden": false
        },
        "id": "izNRxA6Iyyh1"
      },
      "source": [
        "from numpy import random"
      ],
      "execution_count": null,
      "outputs": []
    },
    {
      "cell_type": "code",
      "metadata": {
        "deletable": true,
        "editable": true,
        "jupyter": {
          "outputs_hidden": false
        },
        "id": "O3ngGcS-yyh1",
        "outputId": "92251cc6-a29e-49e7-df3c-639bb527f3ab"
      },
      "source": [
        "# uniform random numbers in [0,1]\n",
        "random.rand(5,5)"
      ],
      "execution_count": null,
      "outputs": [
        {
          "output_type": "execute_result",
          "data": {
            "text/plain": [
              "array([[0.11288175, 0.73911573, 0.57700673, 0.573037  , 0.93835096],\n",
              "       [0.39428868, 0.37748   , 0.63059695, 0.01915273, 0.2487323 ],\n",
              "       [0.64697429, 0.86217721, 0.27238956, 0.25602433, 0.93786899],\n",
              "       [0.74888984, 0.80240882, 0.12438824, 0.85982139, 0.96187729],\n",
              "       [0.43271825, 0.61522892, 0.52121509, 0.3287967 , 0.12334525]])"
            ]
          },
          "metadata": {
            "tags": []
          },
          "execution_count": 35
        }
      ]
    },
    {
      "cell_type": "code",
      "metadata": {
        "deletable": true,
        "editable": true,
        "jupyter": {
          "outputs_hidden": false
        },
        "id": "nY3Mll_5yyh1",
        "outputId": "bb17ccc7-4450-4fbc-b433-afe85641b77d"
      },
      "source": [
        "# standard normal distributed random numbers\n",
        "random.randn(5,5)"
      ],
      "execution_count": null,
      "outputs": [
        {
          "output_type": "execute_result",
          "data": {
            "text/plain": [
              "array([[ 1.42193658, -0.77499151, -1.31136832, -0.34724905,  1.3324845 ],\n",
              "       [ 1.85470172,  1.31299575,  1.75565544,  0.84836469,  0.14143056],\n",
              "       [-1.23752343,  0.26159852,  0.60969318,  1.12843328, -0.04731549],\n",
              "       [ 0.55354782, -2.91169959, -0.18190754,  1.82643193,  1.344575  ],\n",
              "       [ 1.13328019, -0.37687195,  0.68127707, -0.76807561, -0.14115096]])"
            ]
          },
          "metadata": {
            "tags": []
          },
          "execution_count": 36
        }
      ]
    },
    {
      "cell_type": "markdown",
      "metadata": {
        "deletable": true,
        "editable": true,
        "id": "pdHE9jxcyyh1"
      },
      "source": [
        "#### diag"
      ]
    },
    {
      "cell_type": "code",
      "metadata": {
        "deletable": true,
        "editable": true,
        "jupyter": {
          "outputs_hidden": false
        },
        "id": "CSISBtlqyyh1",
        "outputId": "17ccfa11-9fc3-4010-be57-8cec7e8cf719"
      },
      "source": [
        "# a diagonal matrix\n",
        "np.diag([1,2,3])"
      ],
      "execution_count": null,
      "outputs": [
        {
          "output_type": "execute_result",
          "data": {
            "text/plain": [
              "array([[1, 0, 0],\n",
              "       [0, 2, 0],\n",
              "       [0, 0, 3]])"
            ]
          },
          "metadata": {
            "tags": []
          },
          "execution_count": 37
        }
      ]
    },
    {
      "cell_type": "code",
      "metadata": {
        "deletable": true,
        "editable": true,
        "jupyter": {
          "outputs_hidden": false
        },
        "id": "tsc55HrNyyh2",
        "outputId": "4264900e-90b6-4946-b50f-16321e701fd7"
      },
      "source": [
        "# diagonal with offset from the main diagonal\n",
        "diag([1,2,3], k=-1) "
      ],
      "execution_count": null,
      "outputs": [
        {
          "output_type": "execute_result",
          "data": {
            "text/plain": [
              "array([[0, 0, 0, 0],\n",
              "       [1, 0, 0, 0],\n",
              "       [0, 2, 0, 0],\n",
              "       [0, 0, 3, 0]])"
            ]
          },
          "metadata": {
            "tags": []
          },
          "execution_count": 25
        }
      ]
    },
    {
      "cell_type": "markdown",
      "metadata": {
        "deletable": true,
        "editable": true,
        "id": "-neRNuoryyh2"
      },
      "source": [
        "#### zeros and ones"
      ]
    },
    {
      "cell_type": "code",
      "metadata": {
        "deletable": true,
        "editable": true,
        "jupyter": {
          "outputs_hidden": false
        },
        "id": "wbGY96UIyyh2",
        "outputId": "e9209fcf-df68-4374-9c01-8affba22ade5"
      },
      "source": [
        "np.zeros((3,3))\n"
      ],
      "execution_count": null,
      "outputs": [
        {
          "output_type": "execute_result",
          "data": {
            "text/plain": [
              "array([[0., 0., 0.],\n",
              "       [0., 0., 0.],\n",
              "       [0., 0., 0.]])"
            ]
          },
          "metadata": {
            "tags": []
          },
          "execution_count": 38
        }
      ]
    },
    {
      "cell_type": "code",
      "metadata": {
        "deletable": true,
        "editable": true,
        "jupyter": {
          "outputs_hidden": false
        },
        "id": "dKCY0tVAyyh2",
        "outputId": "5bfe277e-ac53-4173-b6c4-05d7b7548859"
      },
      "source": [
        "np.ones((4,5))"
      ],
      "execution_count": null,
      "outputs": [
        {
          "output_type": "execute_result",
          "data": {
            "text/plain": [
              "array([[1., 1., 1., 1., 1.],\n",
              "       [1., 1., 1., 1., 1.],\n",
              "       [1., 1., 1., 1., 1.],\n",
              "       [1., 1., 1., 1., 1.]])"
            ]
          },
          "metadata": {
            "tags": []
          },
          "execution_count": 40
        }
      ]
    },
    {
      "cell_type": "code",
      "metadata": {
        "id": "oFmr8Ojoyyh2",
        "outputId": "772eb001-dcd1-4d9f-bb90-b0909ff4b362"
      },
      "source": [
        "np.full((4,5),np.pi)"
      ],
      "execution_count": null,
      "outputs": [
        {
          "output_type": "execute_result",
          "data": {
            "text/plain": [
              "array([[3.14159265, 3.14159265, 3.14159265, 3.14159265, 3.14159265],\n",
              "       [3.14159265, 3.14159265, 3.14159265, 3.14159265, 3.14159265],\n",
              "       [3.14159265, 3.14159265, 3.14159265, 3.14159265, 3.14159265],\n",
              "       [3.14159265, 3.14159265, 3.14159265, 3.14159265, 3.14159265]])"
            ]
          },
          "metadata": {
            "tags": []
          },
          "execution_count": 42
        }
      ]
    },
    {
      "cell_type": "code",
      "metadata": {
        "id": "3QQtek8Qyyh3",
        "outputId": "2bef0181-a374-4a70-a583-3233122db7be"
      },
      "source": [
        "np.infty"
      ],
      "execution_count": null,
      "outputs": [
        {
          "output_type": "execute_result",
          "data": {
            "text/plain": [
              "inf"
            ]
          },
          "metadata": {
            "tags": []
          },
          "execution_count": 45
        }
      ]
    },
    {
      "cell_type": "markdown",
      "metadata": {
        "deletable": true,
        "editable": true,
        "id": "KqKIt81Syyh3"
      },
      "source": [
        "### Some Basic functions of  Numpy Array\n",
        "#### Min and Max"
      ]
    },
    {
      "cell_type": "code",
      "metadata": {
        "deletable": true,
        "editable": true,
        "jupyter": {
          "outputs_hidden": false
        },
        "id": "wv8tOcnqyyh3",
        "outputId": "11c8a913-6972-43cb-82d7-ccf3ed9fbe30"
      },
      "source": [
        "a=np.arange(15).reshape(3,5)\n",
        "print (a)\n",
        "a.max(),a.min()"
      ],
      "execution_count": null,
      "outputs": [
        {
          "output_type": "stream",
          "text": [
            "[[ 0  1  2  3  4]\n",
            " [ 5  6  7  8  9]\n",
            " [10 11 12 13 14]]\n"
          ],
          "name": "stdout"
        },
        {
          "output_type": "execute_result",
          "data": {
            "text/plain": [
              "(14, 0)"
            ]
          },
          "metadata": {
            "tags": []
          },
          "execution_count": 28
        }
      ]
    },
    {
      "cell_type": "code",
      "metadata": {
        "deletable": true,
        "editable": true,
        "jupyter": {
          "outputs_hidden": false
        },
        "id": "GBLXU1HByyh3",
        "outputId": "0a504ccf-9898-4038-f8a9-d22e536d5c05"
      },
      "source": [
        "print(a.shape)\n",
        "x=a.max(axis=0)\n",
        "print(x.shape)\n",
        "y=a.min(axis=1)\n",
        "print(y.shape)"
      ],
      "execution_count": null,
      "outputs": [
        {
          "output_type": "stream",
          "text": [
            "(3, 5)\n",
            "(5,)\n",
            "(3,)\n"
          ],
          "name": "stdout"
        }
      ]
    },
    {
      "cell_type": "markdown",
      "metadata": {
        "deletable": true,
        "editable": true,
        "id": "6HQjAu_iyyh3"
      },
      "source": [
        "#### Mean and Sum"
      ]
    },
    {
      "cell_type": "code",
      "metadata": {
        "deletable": true,
        "editable": true,
        "jupyter": {
          "outputs_hidden": false
        },
        "id": "6BzxdRZNyyh3",
        "outputId": "0aa2feb4-d710-4e48-8c7a-9a512cd9d01b"
      },
      "source": [
        "a.mean(), a.sum()"
      ],
      "execution_count": null,
      "outputs": [
        {
          "output_type": "execute_result",
          "data": {
            "text/plain": [
              "(7.0, 105)"
            ]
          },
          "metadata": {
            "tags": []
          },
          "execution_count": 30
        }
      ]
    },
    {
      "cell_type": "code",
      "metadata": {
        "deletable": true,
        "editable": true,
        "jupyter": {
          "outputs_hidden": false
        },
        "id": "VG0X8Ynayyh4",
        "outputId": "4d8653e6-8e74-4af1-9460-ec10a20f4472"
      },
      "source": [
        "a.mean(axis=0),a.sum(axis=1)"
      ],
      "execution_count": null,
      "outputs": [
        {
          "output_type": "execute_result",
          "data": {
            "text/plain": [
              "(array([5., 6., 7., 8., 9.]), array([10, 35, 60]))"
            ]
          },
          "metadata": {
            "tags": []
          },
          "execution_count": 31
        }
      ]
    },
    {
      "cell_type": "markdown",
      "metadata": {
        "deletable": true,
        "editable": true,
        "id": "ycnDdpwGyyh4"
      },
      "source": [
        "#### sort and search"
      ]
    },
    {
      "cell_type": "code",
      "metadata": {
        "deletable": true,
        "editable": true,
        "jupyter": {
          "outputs_hidden": false
        },
        "id": "1cX_zGRayyh4",
        "outputId": "3bf3ff2f-2331-4c66-f25f-0d4d1ac6f491"
      },
      "source": [
        "x=np.random.random(10)\n",
        "print (x)"
      ],
      "execution_count": null,
      "outputs": [
        {
          "output_type": "stream",
          "text": [
            "[0.64555378 0.8106873  0.93215802 0.65427657 0.81135773 0.65382348\n",
            " 0.05102377 0.57159866 0.94670566 0.55061536]\n"
          ],
          "name": "stdout"
        }
      ]
    },
    {
      "cell_type": "code",
      "metadata": {
        "deletable": true,
        "editable": true,
        "jupyter": {
          "outputs_hidden": false
        },
        "id": "hcOGUXgnyyh4",
        "outputId": "44e82a9a-65ab-4bab-f24e-e5d9f5041e47"
      },
      "source": [
        "x.sort() # perform in place sort ~ the original array is replaced by the sorted array\n",
        "print(x)\n"
      ],
      "execution_count": null,
      "outputs": [
        {
          "output_type": "stream",
          "text": [
            "[0.05102377 0.55061536 0.57159866 0.64555378 0.65382348 0.65427657\n",
            " 0.8106873  0.81135773 0.93215802 0.94670566]\n"
          ],
          "name": "stdout"
        }
      ]
    },
    {
      "cell_type": "code",
      "metadata": {
        "deletable": true,
        "editable": true,
        "jupyter": {
          "outputs_hidden": false
        },
        "id": "5kARTWQqyyh4",
        "outputId": "12a36b16-2118-4be6-8c91-1026717358b7"
      },
      "source": [
        "print (x)\n",
        "x.searchsorted(0.5)"
      ],
      "execution_count": null,
      "outputs": [
        {
          "output_type": "stream",
          "text": [
            "[0.05102377 0.55061536 0.57159866 0.64555378 0.65382348 0.65427657\n",
            " 0.8106873  0.81135773 0.93215802 0.94670566]\n"
          ],
          "name": "stdout"
        },
        {
          "output_type": "execute_result",
          "data": {
            "text/plain": [
              "1"
            ]
          },
          "metadata": {
            "tags": []
          },
          "execution_count": 34
        }
      ]
    },
    {
      "cell_type": "markdown",
      "metadata": {
        "deletable": true,
        "editable": true,
        "id": "SHiUlkl8yyh4"
      },
      "source": [
        "## 2.2) Manipulating arrays"
      ]
    },
    {
      "cell_type": "markdown",
      "metadata": {
        "deletable": true,
        "editable": true,
        "id": "3v7ckFY3yyh4"
      },
      "source": [
        "### Numpy Array Indexing"
      ]
    },
    {
      "cell_type": "markdown",
      "metadata": {
        "deletable": true,
        "editable": true,
        "id": "23yJzTK_yyh4"
      },
      "source": [
        " `Numpy` array indexing is even more flexible and powerful than indexing of normal Python array   "
      ]
    },
    {
      "cell_type": "code",
      "metadata": {
        "deletable": true,
        "editable": true,
        "jupyter": {
          "outputs_hidden": false
        },
        "id": "-b45ki4oyyh5",
        "outputId": "361adf8f-a40c-4798-ae63-79b3e144e289"
      },
      "source": [
        "# v is a vector, and has only one dimension, taking one index\n",
        "v=random.rand(6)\n",
        "print ('v=',v)\n",
        "print ('1:',v[0])\n",
        "print ('2:',v[::2])\n",
        "print ('3:',v[[0,2]]) # the array can be indexed by another array (the 1st and 3rd items in the list)"
      ],
      "execution_count": null,
      "outputs": [
        {
          "output_type": "stream",
          "text": [
            "v= [0.80540057 0.15041606 0.86355964 0.72797149 0.71679975 0.88177743]\n",
            "1: 0.805400569777596\n",
            "2: [0.80540057 0.86355964 0.71679975]\n",
            "3: [0.80540057 0.86355964]\n"
          ],
          "name": "stdout"
        }
      ]
    },
    {
      "cell_type": "code",
      "metadata": {
        "deletable": true,
        "editable": true,
        "jupyter": {
          "outputs_hidden": false
        },
        "id": "FlFe5_gFyyh5",
        "outputId": "0b9dca3d-5ac7-4337-f11a-60b71eb6139e"
      },
      "source": [
        "# M is a matrix, or a 2 dimensional array, taking two indices \n",
        "M=np.arange(30).reshape(5,6)\n",
        "print ('M=\\n',M)\n",
        "\n",
        "# basic indexing is M[row,col]\n",
        "print ('1st row of M is', M[0,:])\n",
        "#print '2nd row and 3rd col of M is', M[1,2]\n",
        "print (M[-2:,:])"
      ],
      "execution_count": null,
      "outputs": [
        {
          "output_type": "stream",
          "text": [
            "M=\n",
            " [[ 0  1  2  3  4  5]\n",
            " [ 6  7  8  9 10 11]\n",
            " [12 13 14 15 16 17]\n",
            " [18 19 20 21 22 23]\n",
            " [24 25 26 27 28 29]]\n",
            "1st row of M is [0 1 2 3 4 5]\n",
            "[[18 19 20 21 22 23]\n",
            " [24 25 26 27 28 29]]\n"
          ],
          "name": "stdout"
        }
      ]
    },
    {
      "cell_type": "markdown",
      "metadata": {
        "deletable": true,
        "editable": true,
        "id": "EpGHF-BNyyh5"
      },
      "source": [
        "If we omit an index of a multidimensional array it returns the **whole row** (or, in general, a N-1 dimensional array) "
      ]
    },
    {
      "cell_type": "code",
      "metadata": {
        "deletable": true,
        "editable": true,
        "jupyter": {
          "outputs_hidden": false
        },
        "id": "D7sKVFwayyh5",
        "outputId": "67d77cd8-8e8b-4439-ceb2-9df35c258118"
      },
      "source": [
        "print ('the first row of M:',M[0])"
      ],
      "execution_count": null,
      "outputs": [
        {
          "output_type": "stream",
          "text": [
            "the first row of M: [0 1 2 3 4 5]\n"
          ],
          "name": "stdout"
        }
      ]
    },
    {
      "cell_type": "markdown",
      "metadata": {
        "deletable": true,
        "editable": true,
        "id": "Y59yKaoiyyh5"
      },
      "source": [
        "The same thing can be achieved with using `:` instead of an index: "
      ]
    },
    {
      "cell_type": "code",
      "metadata": {
        "deletable": true,
        "editable": true,
        "jupyter": {
          "outputs_hidden": false
        },
        "id": "x_7z_2V9yyh5",
        "outputId": "d9cf38e1-9e91-4045-8283-0a46e1f70a78"
      },
      "source": [
        "print ('the first row of M:', M[0,:]) # row 1 Colon \":\" here means \"all\""
      ],
      "execution_count": null,
      "outputs": [
        {
          "output_type": "stream",
          "text": [
            "the first row of M: [0 1 2 3 4 5]\n"
          ],
          "name": "stdout"
        }
      ]
    },
    {
      "cell_type": "code",
      "metadata": {
        "deletable": true,
        "editable": true,
        "jupyter": {
          "outputs_hidden": false
        },
        "id": "H37DJ_J9yyh5",
        "outputId": "9f7447c4-49dd-47cc-d719-fc116fe7189f"
      },
      "source": [
        "print ('the 2nd column of M:', M[:,1]) # column 2"
      ],
      "execution_count": null,
      "outputs": [
        {
          "output_type": "stream",
          "text": [
            "the 2nd column of M: [ 1  7 13 19 25]\n"
          ],
          "name": "stdout"
        }
      ]
    },
    {
      "cell_type": "code",
      "metadata": {
        "deletable": true,
        "editable": true,
        "jupyter": {
          "outputs_hidden": false
        },
        "id": "-NxZ-FtVyyh6",
        "outputId": "d29d9420-03f5-4786-de63-2d3e988c90b7"
      },
      "source": [
        "print ('the 1st and 3rd columns of M:')\n",
        "print (M[:,[0,2]]) # column 2"
      ],
      "execution_count": null,
      "outputs": [
        {
          "output_type": "stream",
          "text": [
            "the 1st and 3rd columns of M:\n",
            "[[ 0  2]\n",
            " [ 6  8]\n",
            " [12 14]\n",
            " [18 20]\n",
            " [24 26]]\n"
          ],
          "name": "stdout"
        }
      ]
    },
    {
      "cell_type": "markdown",
      "metadata": {
        "deletable": true,
        "editable": true,
        "id": "XDOmivnoyyh6"
      },
      "source": [
        "We can assign new values to elements in an array using indexing:"
      ]
    },
    {
      "cell_type": "code",
      "metadata": {
        "deletable": true,
        "editable": true,
        "jupyter": {
          "outputs_hidden": false
        },
        "id": "YE3nn3Zsyyh6"
      },
      "source": [
        "M[0,0] = 10"
      ],
      "execution_count": null,
      "outputs": []
    },
    {
      "cell_type": "code",
      "metadata": {
        "deletable": true,
        "editable": true,
        "jupyter": {
          "outputs_hidden": false
        },
        "id": "yTZ7bSClyyh6",
        "outputId": "a15eda6b-af4b-4414-e4b8-558f6c91c5d3"
      },
      "source": [
        "M"
      ],
      "execution_count": null,
      "outputs": [
        {
          "output_type": "execute_result",
          "data": {
            "text/plain": [
              "array([[10,  1,  2,  3,  4,  5],\n",
              "       [ 6,  7,  8,  9, 10, 11],\n",
              "       [12, 13, 14, 15, 16, 17],\n",
              "       [18, 19, 20, 21, 22, 23],\n",
              "       [24, 25, 26, 27, 28, 29]])"
            ]
          },
          "metadata": {
            "tags": []
          },
          "execution_count": 42
        }
      ]
    },
    {
      "cell_type": "code",
      "metadata": {
        "deletable": true,
        "editable": true,
        "jupyter": {
          "outputs_hidden": false
        },
        "id": "-wjEFOs-yyh6",
        "outputId": "35d97701-64c7-4300-f624-f4efe2389af6"
      },
      "source": [
        "# also works for rows and columns\n",
        "M[1,:] = 0\n",
        "print (M)\n",
        "M[:,2] = -1\n",
        "print (M)"
      ],
      "execution_count": null,
      "outputs": [
        {
          "output_type": "stream",
          "text": [
            "[[10  1  2  3  4  5]\n",
            " [ 0  0  0  0  0  0]\n",
            " [12 13 14 15 16 17]\n",
            " [18 19 20 21 22 23]\n",
            " [24 25 26 27 28 29]]\n",
            "[[10  1 -1  3  4  5]\n",
            " [ 0  0 -1  0  0  0]\n",
            " [12 13 -1 15 16 17]\n",
            " [18 19 -1 21 22 23]\n",
            " [24 25 -1 27 28 29]]\n"
          ],
          "name": "stdout"
        }
      ]
    },
    {
      "cell_type": "code",
      "metadata": {
        "deletable": true,
        "editable": true,
        "jupyter": {
          "outputs_hidden": false
        },
        "id": "v5tzu2Hayyh6",
        "outputId": "d0481b96-19c4-400f-e397-cf752cfb22e4"
      },
      "source": [
        "M"
      ],
      "execution_count": null,
      "outputs": [
        {
          "output_type": "execute_result",
          "data": {
            "text/plain": [
              "array([[10,  1, -1,  3,  4,  5],\n",
              "       [ 0,  0, -1,  0,  0,  0],\n",
              "       [12, 13, -1, 15, 16, 17],\n",
              "       [18, 19, -1, 21, 22, 23],\n",
              "       [24, 25, -1, 27, 28, 29]])"
            ]
          },
          "metadata": {
            "tags": []
          },
          "execution_count": 44
        }
      ]
    },
    {
      "cell_type": "markdown",
      "metadata": {
        "deletable": true,
        "editable": true,
        "id": "rKmw15I0yyh6"
      },
      "source": [
        "### Index slicing"
      ]
    },
    {
      "cell_type": "markdown",
      "metadata": {
        "deletable": true,
        "editable": true,
        "id": "ZgbPfIXGyyh7"
      },
      "source": [
        "Index slicing is the technical name for the syntax `M[lower:upper:step]` to extract part of an array:"
      ]
    },
    {
      "cell_type": "code",
      "metadata": {
        "deletable": true,
        "editable": true,
        "jupyter": {
          "outputs_hidden": false
        },
        "id": "2Gmz43v0yyh7",
        "outputId": "c3270402-0cfa-4c03-dbf4-e51e65a4b8e4"
      },
      "source": [
        "A = array([1,2,3,4,5])\n",
        "A"
      ],
      "execution_count": null,
      "outputs": [
        {
          "output_type": "execute_result",
          "data": {
            "text/plain": [
              "array([1, 2, 3, 4, 5])"
            ]
          },
          "metadata": {
            "tags": []
          },
          "execution_count": 45
        }
      ]
    },
    {
      "cell_type": "code",
      "metadata": {
        "deletable": true,
        "editable": true,
        "jupyter": {
          "outputs_hidden": false
        },
        "id": "eLijLwR3yyh7",
        "outputId": "28ebbdf5-94c6-47b1-fba6-db2ad54acdd4"
      },
      "source": [
        "A[1:3]"
      ],
      "execution_count": null,
      "outputs": [
        {
          "output_type": "execute_result",
          "data": {
            "text/plain": [
              "array([2, 3])"
            ]
          },
          "metadata": {
            "tags": []
          },
          "execution_count": 46
        }
      ]
    },
    {
      "cell_type": "markdown",
      "metadata": {
        "deletable": true,
        "editable": true,
        "id": "3PeDdEQeyyh7"
      },
      "source": [
        "Array slices are *mutable*: if they are assigned a new value the original array from which the slice was extracted is modified:"
      ]
    },
    {
      "cell_type": "code",
      "metadata": {
        "deletable": true,
        "editable": true,
        "jupyter": {
          "outputs_hidden": false
        },
        "id": "ypWiKPEHyyh7",
        "outputId": "8026b917-418c-4163-abe4-99eec6b3be39"
      },
      "source": [
        "A[1:3] =[ -2,-3]\n",
        "\n",
        "A"
      ],
      "execution_count": null,
      "outputs": [
        {
          "output_type": "execute_result",
          "data": {
            "text/plain": [
              "array([ 1, -2, -3,  4,  5])"
            ]
          },
          "metadata": {
            "tags": []
          },
          "execution_count": 47
        }
      ]
    },
    {
      "cell_type": "markdown",
      "metadata": {
        "deletable": true,
        "editable": true,
        "id": "BCusqx2vyyh7"
      },
      "source": [
        "We can omit any of the three parameters in `M[lower:upper:step]`:"
      ]
    },
    {
      "cell_type": "code",
      "metadata": {
        "deletable": true,
        "editable": true,
        "jupyter": {
          "outputs_hidden": false
        },
        "id": "JWdBm-7eyyh7",
        "outputId": "1bf3a255-b8fd-47d2-9160-6887f0289ff6"
      },
      "source": [
        "A[::] # lower, upper, step all take the default values"
      ],
      "execution_count": null,
      "outputs": [
        {
          "output_type": "execute_result",
          "data": {
            "text/plain": [
              "array([ 1, -2, -3,  4,  5])"
            ]
          },
          "metadata": {
            "tags": []
          },
          "execution_count": 48
        }
      ]
    },
    {
      "cell_type": "code",
      "metadata": {
        "deletable": true,
        "editable": true,
        "jupyter": {
          "outputs_hidden": false
        },
        "id": "Oepqotjoyyh7",
        "outputId": "3218c194-f911-4b9f-b68e-a63a411b23db"
      },
      "source": [
        "A[::2] # step is 2, lower and upper defaults to the beginning and end of the array"
      ],
      "execution_count": null,
      "outputs": [
        {
          "output_type": "execute_result",
          "data": {
            "text/plain": [
              "array([ 1, -3,  5])"
            ]
          },
          "metadata": {
            "tags": []
          },
          "execution_count": 49
        }
      ]
    },
    {
      "cell_type": "code",
      "metadata": {
        "deletable": true,
        "editable": true,
        "jupyter": {
          "outputs_hidden": false
        },
        "id": "9hFkwALRyyh8",
        "outputId": "45288eed-8c42-4edd-c1de-054ea16d3aad"
      },
      "source": [
        "A[:3] # first three elements"
      ],
      "execution_count": null,
      "outputs": [
        {
          "output_type": "execute_result",
          "data": {
            "text/plain": [
              "array([ 1, -2, -3])"
            ]
          },
          "metadata": {
            "tags": []
          },
          "execution_count": 50
        }
      ]
    },
    {
      "cell_type": "code",
      "metadata": {
        "deletable": true,
        "editable": true,
        "jupyter": {
          "outputs_hidden": false
        },
        "id": "sTXBFwTtyyh8",
        "outputId": "1826c803-6109-4294-82ac-5ff9fca45578"
      },
      "source": [
        "A[3:] # elements from index 3"
      ],
      "execution_count": null,
      "outputs": [
        {
          "output_type": "execute_result",
          "data": {
            "text/plain": [
              "array([4, 5])"
            ]
          },
          "metadata": {
            "tags": []
          },
          "execution_count": 51
        }
      ]
    },
    {
      "cell_type": "markdown",
      "metadata": {
        "deletable": true,
        "editable": true,
        "id": "qAPoakWnyyh8"
      },
      "source": [
        "Negative indices counts from the end of the array (positive index from the begining):"
      ]
    },
    {
      "cell_type": "code",
      "metadata": {
        "deletable": true,
        "editable": true,
        "jupyter": {
          "outputs_hidden": false
        },
        "id": "WytTibOeyyh8"
      },
      "source": [
        "A = array([1,2,3,4,5])"
      ],
      "execution_count": null,
      "outputs": []
    },
    {
      "cell_type": "code",
      "metadata": {
        "deletable": true,
        "editable": true,
        "jupyter": {
          "outputs_hidden": false
        },
        "id": "Na2mHyhvyyh8",
        "outputId": "92eb3301-cb82-485c-b880-04d767eb4730"
      },
      "source": [
        "A[-1] # the last element in the array"
      ],
      "execution_count": null,
      "outputs": [
        {
          "output_type": "execute_result",
          "data": {
            "text/plain": [
              "5"
            ]
          },
          "metadata": {
            "tags": []
          },
          "execution_count": 10
        }
      ]
    },
    {
      "cell_type": "code",
      "metadata": {
        "deletable": true,
        "editable": true,
        "jupyter": {
          "outputs_hidden": false
        },
        "id": "TlVip7u5yyh8",
        "outputId": "9bad7967-8ae7-4c22-ef4c-edcfe5615403"
      },
      "source": [
        "A[-3:] # the last three elements"
      ],
      "execution_count": null,
      "outputs": [
        {
          "output_type": "execute_result",
          "data": {
            "text/plain": [
              "array([3, 4, 5])"
            ]
          },
          "metadata": {
            "tags": []
          },
          "execution_count": 11
        }
      ]
    },
    {
      "cell_type": "markdown",
      "metadata": {
        "deletable": true,
        "editable": true,
        "id": "LyVutsy6yyh8"
      },
      "source": [
        "Index slicing works exactly the same way for multidimensional arrays:"
      ]
    },
    {
      "cell_type": "code",
      "metadata": {
        "deletable": true,
        "editable": true,
        "jupyter": {
          "outputs_hidden": false
        },
        "id": "X1njldseyyh9",
        "outputId": "d4bb1ec6-0e88-4648-f1ca-6bea317be348"
      },
      "source": [
        "A = array(arange(0,25)).reshape(5,5)\n",
        "\n",
        "print (A)"
      ],
      "execution_count": null,
      "outputs": [
        {
          "output_type": "stream",
          "text": [
            "[[ 0  1  2  3  4]\n",
            " [ 5  6  7  8  9]\n",
            " [10 11 12 13 14]\n",
            " [15 16 17 18 19]\n",
            " [20 21 22 23 24]]\n"
          ],
          "name": "stdout"
        }
      ]
    },
    {
      "cell_type": "code",
      "metadata": {
        "deletable": true,
        "editable": true,
        "jupyter": {
          "outputs_hidden": false
        },
        "id": "4oH-tFuRyyh9",
        "outputId": "baac2b9f-08f7-43c6-b8e2-bb7f6d771178"
      },
      "source": [
        "# a block from the original array\n",
        "A[1:4, 1:4]"
      ],
      "execution_count": null,
      "outputs": [
        {
          "output_type": "execute_result",
          "data": {
            "text/plain": [
              "array([[ 6,  7,  8],\n",
              "       [11, 12, 13],\n",
              "       [16, 17, 18]])"
            ]
          },
          "metadata": {
            "tags": []
          },
          "execution_count": 13
        }
      ]
    },
    {
      "cell_type": "code",
      "metadata": {
        "deletable": true,
        "editable": true,
        "jupyter": {
          "outputs_hidden": false
        },
        "id": "YOCnXuPfyyh9",
        "outputId": "f31c1acf-8787-459a-ff9a-3140c03bb161"
      },
      "source": [
        "# strides\n",
        "A[::2, ::2]"
      ],
      "execution_count": null,
      "outputs": [
        {
          "output_type": "execute_result",
          "data": {
            "text/plain": [
              "array([[ 0,  2,  4],\n",
              "       [10, 12, 14],\n",
              "       [20, 22, 24]])"
            ]
          },
          "metadata": {
            "tags": []
          },
          "execution_count": 14
        }
      ]
    },
    {
      "cell_type": "markdown",
      "metadata": {
        "deletable": true,
        "editable": true,
        "id": "SR6KXzM-yyh9"
      },
      "source": [
        "### Fancy indexing (Advanced topics)"
      ]
    },
    {
      "cell_type": "markdown",
      "metadata": {
        "deletable": true,
        "editable": true,
        "id": "kkXIkR5_yyh9"
      },
      "source": [
        "Fancy indexing is the name for when an array or list is used in-place of an index: "
      ]
    },
    {
      "cell_type": "code",
      "metadata": {
        "deletable": true,
        "editable": true,
        "jupyter": {
          "outputs_hidden": false
        },
        "id": "FtW998iOyyh9",
        "outputId": "0f46e1c5-dc60-459b-a780-21abc76b919d"
      },
      "source": [
        "print (A)\n",
        "row_indices = [1, 2, 3]\n",
        "print (A[row_indices,:]) # in this example, the 2nd, 3rd and 4th rows of A will be printed"
      ],
      "execution_count": null,
      "outputs": [
        {
          "output_type": "stream",
          "text": [
            "[[ 0  1  2  3  4]\n",
            " [ 5  6  7  8  9]\n",
            " [10 11 12 13 14]\n",
            " [15 16 17 18 19]\n",
            " [20 21 22 23 24]]\n",
            "[[ 5  6  7  8  9]\n",
            " [10 11 12 13 14]\n",
            " [15 16 17 18 19]]\n"
          ],
          "name": "stdout"
        }
      ]
    },
    {
      "cell_type": "code",
      "metadata": {
        "deletable": true,
        "editable": true,
        "jupyter": {
          "outputs_hidden": false
        },
        "id": "-1L4oDO2yyh9",
        "outputId": "dd970a3b-bff3-4e46-b71c-66b33f11c82e"
      },
      "source": [
        "col_indices = [1, 2, -1] # remember, index -1 means the last element\n",
        "print (A[row_indices, col_indices]) \n",
        "# row_indices and col_indices must have the exat same shape and size\n",
        "# they are combined to provide the row&col indices, e.g. row_indices[0] combined with col_indices[0] and so on so forth"
      ],
      "execution_count": null,
      "outputs": [
        {
          "output_type": "stream",
          "text": [
            "[ 6 12 19]\n"
          ],
          "name": "stdout"
        }
      ]
    },
    {
      "cell_type": "markdown",
      "metadata": {
        "deletable": true,
        "editable": true,
        "id": "vyrVmSrkyyh-"
      },
      "source": [
        "We can also index masks: If the index mask is an Numpy array of with data type `bool`, then an element is selected (True) or not (False) depending on the value of the index mask at the position each element: "
      ]
    },
    {
      "cell_type": "code",
      "metadata": {
        "deletable": true,
        "editable": true,
        "jupyter": {
          "outputs_hidden": false
        },
        "id": "o4iwt-Zhyyh-",
        "outputId": "9f5f4993-1a26-4549-f233-c0600e2aae7d"
      },
      "source": [
        "B = np.array(arange(1,6))\n",
        "B"
      ],
      "execution_count": null,
      "outputs": [
        {
          "output_type": "execute_result",
          "data": {
            "text/plain": [
              "array([1, 2, 3, 4, 5])"
            ]
          },
          "metadata": {
            "tags": []
          },
          "execution_count": 17
        }
      ]
    },
    {
      "cell_type": "code",
      "metadata": {
        "deletable": true,
        "editable": true,
        "jupyter": {
          "outputs_hidden": false
        },
        "id": "xW1qA887yyh-",
        "outputId": "29a1c920-8da2-419f-af7e-4f55092cd980"
      },
      "source": [
        "row_mask = array([True, False, True, False, False])\n",
        "print (B[row_mask])"
      ],
      "execution_count": null,
      "outputs": [
        {
          "output_type": "stream",
          "text": [
            "[1 3]\n"
          ],
          "name": "stdout"
        }
      ]
    },
    {
      "cell_type": "code",
      "metadata": {
        "deletable": true,
        "editable": true,
        "jupyter": {
          "outputs_hidden": false
        },
        "id": "9bzRBe8wyyh-",
        "outputId": "a9f8217b-5332-4336-9b35-f6c5d73f8cba"
      },
      "source": [
        "# same thing\n",
        "row_mask = array([1,0,1,0,0], dtype=bool)\n",
        "B[row_mask]"
      ],
      "execution_count": null,
      "outputs": [
        {
          "output_type": "execute_result",
          "data": {
            "text/plain": [
              "array([1, 3])"
            ]
          },
          "metadata": {
            "tags": []
          },
          "execution_count": 19
        }
      ]
    },
    {
      "cell_type": "markdown",
      "metadata": {
        "deletable": true,
        "editable": true,
        "id": "yv8y2CKDyyh-"
      },
      "source": [
        "This feature is very useful to conditionally select elements from an array, using for example comparison operators:"
      ]
    },
    {
      "cell_type": "code",
      "metadata": {
        "deletable": true,
        "editable": true,
        "jupyter": {
          "outputs_hidden": false
        },
        "id": "evsJ0u2Byyh-",
        "outputId": "ad843f62-c7de-4ece-92bf-dfc398c703cf"
      },
      "source": [
        "x = arange(0, 10, 0.5)\n",
        "x"
      ],
      "execution_count": null,
      "outputs": [
        {
          "output_type": "execute_result",
          "data": {
            "text/plain": [
              "array([0. , 0.5, 1. , 1.5, 2. , 2.5, 3. , 3.5, 4. , 4.5, 5. , 5.5, 6. ,\n",
              "       6.5, 7. , 7.5, 8. , 8.5, 9. , 9.5])"
            ]
          },
          "metadata": {
            "tags": []
          },
          "execution_count": 20
        }
      ]
    },
    {
      "cell_type": "code",
      "metadata": {
        "deletable": true,
        "editable": true,
        "jupyter": {
          "outputs_hidden": false
        },
        "id": "3hy4gva5yyh_",
        "outputId": "e5309c68-4998-410b-dcd9-8440c0fb77c0"
      },
      "source": [
        "mask1 = (5 < x)\n",
        "#print mask1\n",
        "#print x[mask1]\n",
        "mask2 = ( x<7.5)\n",
        "# print x[mask2]\n",
        "mask3 = (5 < x) & ( x<7.5)\n",
        "print (mask3)\n",
        "print (x[mask3])\n",
        "# print mask1\n",
        "# print mask2\n",
        "# print mask3"
      ],
      "execution_count": null,
      "outputs": [
        {
          "output_type": "stream",
          "text": [
            "[False False False False False False False False False False False  True\n",
            "  True  True  True False False False False False]\n",
            "[5.5 6.  6.5 7. ]\n"
          ],
          "name": "stdout"
        }
      ]
    },
    {
      "cell_type": "code",
      "metadata": {
        "deletable": true,
        "editable": true,
        "jupyter": {
          "outputs_hidden": false
        },
        "id": "BGA79DDCyyh_",
        "outputId": "829a8cca-9e88-4ef8-b521-21185e109f9f"
      },
      "source": [
        "print(x[mask1])\n",
        "print(x[mask2])\n",
        "print(x[mask3])"
      ],
      "execution_count": null,
      "outputs": [
        {
          "output_type": "stream",
          "text": [
            "[5.5 6.  6.5 7.  7.5 8.  8.5 9.  9.5]\n",
            "[0.  0.5 1.  1.5 2.  2.5 3.  3.5 4.  4.5 5.  5.5 6.  6.5 7. ]\n",
            "[5.5 6.  6.5 7. ]\n"
          ],
          "name": "stdout"
        }
      ]
    },
    {
      "cell_type": "markdown",
      "metadata": {
        "deletable": true,
        "editable": true,
        "id": "JSHVuMlDyyh_"
      },
      "source": [
        "## Basic functions for extracting data from arrays and creating arrays"
      ]
    },
    {
      "cell_type": "markdown",
      "metadata": {
        "deletable": true,
        "editable": true,
        "id": "evul6l1Kyyh_"
      },
      "source": [
        "### where"
      ]
    },
    {
      "cell_type": "markdown",
      "metadata": {
        "deletable": true,
        "editable": true,
        "id": "BDxZmbAjyyh_"
      },
      "source": [
        "The index mask can be converted to position index using the `where` function"
      ]
    },
    {
      "cell_type": "code",
      "metadata": {
        "deletable": true,
        "editable": true,
        "jupyter": {
          "outputs_hidden": false
        },
        "id": "V1PB4bp5yyh_",
        "outputId": "8c3bd115-5c26-4b62-d9f7-61c61b977237"
      },
      "source": [
        "x = np.arange(0, 10, 0.5)\n",
        "print (x)\n",
        "# idx = x>5\n",
        "# print(idx)\n",
        "indices = np.where(x>5)\n",
        "print(x[indices])\n",
        "y=x[indices]\n",
        "\n",
        "print(x)\n",
        "print(y)"
      ],
      "execution_count": null,
      "outputs": [
        {
          "output_type": "stream",
          "text": [
            "[0.  0.5 1.  1.5 2.  2.5 3.  3.5 4.  4.5 5.  5.5 6.  6.5 7.  7.5 8.  8.5\n",
            " 9.  9.5]\n",
            "[5.5 6.  6.5 7.  7.5 8.  8.5 9.  9.5]\n",
            "[0.  0.5 1.  1.5 2.  2.5 3.  3.5 4.  4.5 5.  5.5 6.  6.5 7.  7.5 8.  8.5\n",
            " 9.  9.5]\n",
            "[5.5 6.  6.5 7.  7.5 8.  8.5 9.  9.5]\n"
          ],
          "name": "stdout"
        }
      ]
    },
    {
      "cell_type": "code",
      "metadata": {
        "deletable": true,
        "editable": true,
        "jupyter": {
          "outputs_hidden": false
        },
        "id": "TCKUCSF9yyh_",
        "outputId": "7dfa05ce-d7f0-4dc7-8f03-836a066991f7"
      },
      "source": [
        "print (x[indices]) # this indexing is equivalent to the fancy indexing x[mask]\n",
        "print (x[where(x>5)])"
      ],
      "execution_count": null,
      "outputs": [
        {
          "output_type": "stream",
          "text": [
            "[5.5 6.  6.5 7.  7.5 8.  8.5 9.  9.5]\n",
            "[5.5 6.  6.5 7.  7.5 8.  8.5 9.  9.5]\n"
          ],
          "name": "stdout"
        }
      ]
    },
    {
      "cell_type": "markdown",
      "metadata": {
        "deletable": true,
        "editable": true,
        "id": "Y7tIwyMNyyiA"
      },
      "source": [
        "### diag"
      ]
    },
    {
      "cell_type": "markdown",
      "metadata": {
        "deletable": true,
        "editable": true,
        "id": "oAC-FRRRyyiA"
      },
      "source": [
        "With the diag function we can also extract the diagonal and subdiagonals of an array:"
      ]
    },
    {
      "cell_type": "code",
      "metadata": {
        "deletable": true,
        "editable": true,
        "jupyter": {
          "outputs_hidden": false
        },
        "id": "AAydxDLMyyiA",
        "outputId": "04faeba8-bf78-4b72-e66b-8a05a28fcd56"
      },
      "source": [
        "print (A)\n",
        "diag(A)"
      ],
      "execution_count": null,
      "outputs": [
        {
          "output_type": "stream",
          "text": [
            "[[ 0  1  2  3  4]\n",
            " [ 5  6  7  8  9]\n",
            " [10 11 12 13 14]\n",
            " [15 16 17 18 19]\n",
            " [20 21 22 23 24]]\n"
          ],
          "name": "stdout"
        },
        {
          "output_type": "execute_result",
          "data": {
            "text/plain": [
              "array([ 0,  6, 12, 18, 24])"
            ]
          },
          "metadata": {
            "tags": []
          },
          "execution_count": 25
        }
      ]
    },
    {
      "cell_type": "code",
      "metadata": {
        "deletable": true,
        "editable": true,
        "jupyter": {
          "outputs_hidden": false
        },
        "id": "LkHx9WPjyyiA",
        "outputId": "f07345ec-e415-473e-fe0a-5e761359fc9b"
      },
      "source": [
        "diag(A, -2)"
      ],
      "execution_count": null,
      "outputs": [
        {
          "output_type": "execute_result",
          "data": {
            "text/plain": [
              "array([10, 16, 22])"
            ]
          },
          "metadata": {
            "tags": []
          },
          "execution_count": 26
        }
      ]
    },
    {
      "cell_type": "markdown",
      "metadata": {
        "deletable": true,
        "editable": true,
        "id": "Vn1xLyjuyyiA"
      },
      "source": [
        "## 3) Linear algebra"
      ]
    },
    {
      "cell_type": "markdown",
      "metadata": {
        "deletable": true,
        "editable": true,
        "id": "yQaQ_X6HyyiA"
      },
      "source": [
        "Vectorizing code is the key to writing efficient numerical calculation with Python/Numpy. That means that as much as possible of a program should be formulated in terms of matrix and vector operations, like matrix-matrix multiplication."
      ]
    },
    {
      "cell_type": "markdown",
      "metadata": {
        "deletable": true,
        "editable": true,
        "id": "vQ69ZzM9yyiA"
      },
      "source": [
        "### Scalar-array operations"
      ]
    },
    {
      "cell_type": "markdown",
      "metadata": {
        "deletable": true,
        "editable": true,
        "id": "TumR_vbfyyiB"
      },
      "source": [
        "We can use the usual arithmetic operators to multiply, add, subtract, and divide arrays with scalar numbers."
      ]
    },
    {
      "cell_type": "code",
      "metadata": {
        "deletable": true,
        "editable": true,
        "jupyter": {
          "outputs_hidden": false
        },
        "id": "xlzZ-NhayyiB",
        "outputId": "bf915004-0086-4862-a81f-d9928fca21d5"
      },
      "source": [
        "v1 = arange(0, 5)\n",
        "v1"
      ],
      "execution_count": null,
      "outputs": [
        {
          "output_type": "execute_result",
          "data": {
            "text/plain": [
              "array([0, 1, 2, 3, 4])"
            ]
          },
          "metadata": {
            "tags": []
          },
          "execution_count": 27
        }
      ]
    },
    {
      "cell_type": "code",
      "metadata": {
        "deletable": true,
        "editable": true,
        "jupyter": {
          "outputs_hidden": false
        },
        "id": "KBPbkB9VyyiB",
        "outputId": "4cce7971-9ff3-4b2a-ae6b-ed247ddce7b8"
      },
      "source": [
        "v1 * 2"
      ],
      "execution_count": null,
      "outputs": [
        {
          "output_type": "execute_result",
          "data": {
            "text/plain": [
              "array([0, 2, 4, 6, 8])"
            ]
          },
          "metadata": {
            "tags": []
          },
          "execution_count": 28
        }
      ]
    },
    {
      "cell_type": "code",
      "metadata": {
        "deletable": true,
        "editable": true,
        "jupyter": {
          "outputs_hidden": false
        },
        "id": "RV-u30e4yyiB",
        "outputId": "d38539a3-f324-48bd-a79f-28ec625ee1fb"
      },
      "source": [
        "v1 + 2"
      ],
      "execution_count": null,
      "outputs": [
        {
          "output_type": "execute_result",
          "data": {
            "text/plain": [
              "array([2, 3, 4, 5, 6])"
            ]
          },
          "metadata": {
            "tags": []
          },
          "execution_count": 29
        }
      ]
    },
    {
      "cell_type": "code",
      "metadata": {
        "deletable": true,
        "editable": true,
        "jupyter": {
          "outputs_hidden": false
        },
        "id": "TsjSipDPyyiB",
        "outputId": "d1b01925-6f98-4d3e-bf70-fea0b7cdca62"
      },
      "source": [
        "print ('A=    ',A)\n",
        "print ('A * 2=', A * 2)\n",
        "print ('A + 2=', A + 2)"
      ],
      "execution_count": null,
      "outputs": [
        {
          "output_type": "stream",
          "text": [
            "A=     [[ 0  1  2  3  4]\n",
            " [ 5  6  7  8  9]\n",
            " [10 11 12 13 14]\n",
            " [15 16 17 18 19]\n",
            " [20 21 22 23 24]]\n",
            "A * 2= [[ 0  2  4  6  8]\n",
            " [10 12 14 16 18]\n",
            " [20 22 24 26 28]\n",
            " [30 32 34 36 38]\n",
            " [40 42 44 46 48]]\n",
            "A + 2= [[ 2  3  4  5  6]\n",
            " [ 7  8  9 10 11]\n",
            " [12 13 14 15 16]\n",
            " [17 18 19 20 21]\n",
            " [22 23 24 25 26]]\n"
          ],
          "name": "stdout"
        }
      ]
    },
    {
      "cell_type": "markdown",
      "metadata": {
        "deletable": true,
        "editable": true,
        "id": "Oq-BiqrxyyiB"
      },
      "source": [
        "### Element-wise array-array operations"
      ]
    },
    {
      "cell_type": "markdown",
      "metadata": {
        "deletable": true,
        "editable": true,
        "id": "PKl-TgfIyyiB"
      },
      "source": [
        "When we add, subtract, multiply and divide arrays with each other, the default behaviour is **element-wise** operations:"
      ]
    },
    {
      "cell_type": "code",
      "metadata": {
        "deletable": true,
        "editable": true,
        "jupyter": {
          "outputs_hidden": false
        },
        "id": "xpdEozlsyyiB",
        "outputId": "b2720408-7f4d-4368-cabe-5f93eb37a9fb"
      },
      "source": [
        "A * A # element-wise multiplication"
      ],
      "execution_count": null,
      "outputs": [
        {
          "output_type": "execute_result",
          "data": {
            "text/plain": [
              "array([[  0,   1,   4,   9,  16],\n",
              "       [ 25,  36,  49,  64,  81],\n",
              "       [100, 121, 144, 169, 196],\n",
              "       [225, 256, 289, 324, 361],\n",
              "       [400, 441, 484, 529, 576]])"
            ]
          },
          "metadata": {
            "tags": []
          },
          "execution_count": 31
        }
      ]
    },
    {
      "cell_type": "code",
      "metadata": {
        "deletable": true,
        "editable": true,
        "jupyter": {
          "outputs_hidden": false
        },
        "id": "Z0_GsQGJyyiC",
        "outputId": "d7ed706b-9c77-4483-f616-3e809d937bcb"
      },
      "source": [
        "v1 * v1"
      ],
      "execution_count": null,
      "outputs": [
        {
          "output_type": "execute_result",
          "data": {
            "text/plain": [
              "array([ 0,  1,  4,  9, 16])"
            ]
          },
          "metadata": {
            "tags": []
          },
          "execution_count": 32
        }
      ]
    },
    {
      "cell_type": "markdown",
      "metadata": {
        "deletable": true,
        "editable": true,
        "id": "EEjW6nJAyyiC"
      },
      "source": [
        "If we multiply arrays with compatible shapes, we get an element-wise multiplication of each row:"
      ]
    },
    {
      "cell_type": "code",
      "metadata": {
        "deletable": true,
        "editable": true,
        "jupyter": {
          "outputs_hidden": false
        },
        "id": "0j7OfE4nyyiC",
        "outputId": "f78ca82e-7ac0-4111-cffb-393d86813303"
      },
      "source": [
        "A.shape, v1.shape"
      ],
      "execution_count": null,
      "outputs": [
        {
          "output_type": "execute_result",
          "data": {
            "text/plain": [
              "((5, 5), (5,))"
            ]
          },
          "metadata": {
            "tags": []
          },
          "execution_count": 33
        }
      ]
    },
    {
      "cell_type": "code",
      "metadata": {
        "deletable": true,
        "editable": true,
        "jupyter": {
          "outputs_hidden": false
        },
        "id": "i9YhVj6pyyiC",
        "outputId": "7f68bb5b-fab7-499e-d23b-1f8a7c4b2a71"
      },
      "source": [
        "print ('A',A)\n",
        "print ('v1',v1)\n",
        "print ('A * v1=') # v is multipled with every row of A\n",
        "print (A * v1)"
      ],
      "execution_count": null,
      "outputs": [
        {
          "output_type": "stream",
          "text": [
            "A [[ 0  1  2  3  4]\n",
            " [ 5  6  7  8  9]\n",
            " [10 11 12 13 14]\n",
            " [15 16 17 18 19]\n",
            " [20 21 22 23 24]]\n",
            "v1 [0 1 2 3 4]\n",
            "A * v1=\n",
            "[[ 0  1  4  9 16]\n",
            " [ 0  6 14 24 36]\n",
            " [ 0 11 24 39 56]\n",
            " [ 0 16 34 54 76]\n",
            " [ 0 21 44 69 96]]\n"
          ],
          "name": "stdout"
        }
      ]
    },
    {
      "cell_type": "markdown",
      "metadata": {
        "deletable": true,
        "editable": true,
        "id": "v0xfSpLgyyiC"
      },
      "source": [
        "### Matrix algebra"
      ]
    },
    {
      "cell_type": "markdown",
      "metadata": {
        "deletable": true,
        "editable": true,
        "id": "8OAz-1I2yyiC"
      },
      "source": [
        "What about matrix mutiplication? There are two ways. We can either use the `dot` function, which applies a matrix-matrix, matrix-vector, or inner vector multiplication to its two arguments: "
      ]
    },
    {
      "cell_type": "code",
      "metadata": {
        "deletable": true,
        "editable": true,
        "jupyter": {
          "outputs_hidden": false
        },
        "id": "Ev28yRd0yyiC",
        "outputId": "91f1ff9e-7103-474a-a5f3-995af3187af8"
      },
      "source": [
        "A*A\n",
        "dot(A, A)"
      ],
      "execution_count": null,
      "outputs": [
        {
          "output_type": "execute_result",
          "data": {
            "text/plain": [
              "array([[ 150,  160,  170,  180,  190],\n",
              "       [ 400,  435,  470,  505,  540],\n",
              "       [ 650,  710,  770,  830,  890],\n",
              "       [ 900,  985, 1070, 1155, 1240],\n",
              "       [1150, 1260, 1370, 1480, 1590]])"
            ]
          },
          "metadata": {
            "tags": []
          },
          "execution_count": 35
        }
      ]
    },
    {
      "cell_type": "code",
      "metadata": {
        "deletable": true,
        "editable": true,
        "jupyter": {
          "outputs_hidden": false
        },
        "id": "ktCean4DyyiC",
        "outputId": "bb35c1ca-3ef5-4fff-8e16-b018be6eeb70"
      },
      "source": [
        "dot(A, v1)"
      ],
      "execution_count": null,
      "outputs": [
        {
          "output_type": "execute_result",
          "data": {
            "text/plain": [
              "array([ 30,  80, 130, 180, 230])"
            ]
          },
          "metadata": {
            "tags": []
          },
          "execution_count": 36
        }
      ]
    },
    {
      "cell_type": "code",
      "metadata": {
        "deletable": true,
        "editable": true,
        "jupyter": {
          "outputs_hidden": false
        },
        "id": "OYK7aX4-yyiD",
        "outputId": "e8997c7e-600c-421c-d632-e841134661c3"
      },
      "source": [
        "dot(v1, v1)"
      ],
      "execution_count": null,
      "outputs": [
        {
          "output_type": "execute_result",
          "data": {
            "text/plain": [
              "30"
            ]
          },
          "metadata": {
            "tags": []
          },
          "execution_count": 37
        }
      ]
    },
    {
      "cell_type": "markdown",
      "metadata": {
        "deletable": true,
        "editable": true,
        "id": "9vCRbGEGyyiD"
      },
      "source": [
        "Alternatively, we can cast the array objects to the type `matrix`. This changes the behavior of the standard arithmetic operators `+, -, *` to use matrix algebra."
      ]
    },
    {
      "cell_type": "code",
      "metadata": {
        "deletable": true,
        "editable": true,
        "jupyter": {
          "outputs_hidden": false
        },
        "id": "bPk6pzhgyyiD"
      },
      "source": [
        "M = matrix(A)\n",
        "v = matrix(v1).T # make it a column vector"
      ],
      "execution_count": null,
      "outputs": []
    },
    {
      "cell_type": "code",
      "metadata": {
        "deletable": true,
        "editable": true,
        "jupyter": {
          "outputs_hidden": false
        },
        "id": "oKbgBUdyyyiD",
        "outputId": "a3bda863-a6fe-4908-9edc-40d4252ef894"
      },
      "source": [
        "v"
      ],
      "execution_count": null,
      "outputs": [
        {
          "output_type": "execute_result",
          "data": {
            "text/plain": [
              "matrix([[0],\n",
              "        [1],\n",
              "        [2],\n",
              "        [3],\n",
              "        [4]])"
            ]
          },
          "metadata": {
            "tags": []
          },
          "execution_count": 39
        }
      ]
    },
    {
      "cell_type": "code",
      "metadata": {
        "deletable": true,
        "editable": true,
        "jupyter": {
          "outputs_hidden": false
        },
        "id": "ckvV95qByyiD",
        "outputId": "f9918dd2-27d1-4e12-ea3b-5c2da75e1803"
      },
      "source": [
        "M * M"
      ],
      "execution_count": null,
      "outputs": [
        {
          "output_type": "execute_result",
          "data": {
            "text/plain": [
              "matrix([[ 150,  160,  170,  180,  190],\n",
              "        [ 400,  435,  470,  505,  540],\n",
              "        [ 650,  710,  770,  830,  890],\n",
              "        [ 900,  985, 1070, 1155, 1240],\n",
              "        [1150, 1260, 1370, 1480, 1590]])"
            ]
          },
          "metadata": {
            "tags": []
          },
          "execution_count": 40
        }
      ]
    },
    {
      "cell_type": "code",
      "metadata": {
        "deletable": true,
        "editable": true,
        "jupyter": {
          "outputs_hidden": false
        },
        "id": "4pJU_I4GyyiD",
        "outputId": "1ed1ff87-9d2a-46fc-f34b-aee7b8efbb7c"
      },
      "source": [
        "M * v"
      ],
      "execution_count": null,
      "outputs": [
        {
          "output_type": "execute_result",
          "data": {
            "text/plain": [
              "matrix([[ 30],\n",
              "        [ 80],\n",
              "        [130],\n",
              "        [180],\n",
              "        [230]])"
            ]
          },
          "metadata": {
            "tags": []
          },
          "execution_count": 41
        }
      ]
    },
    {
      "cell_type": "code",
      "metadata": {
        "deletable": true,
        "editable": true,
        "jupyter": {
          "outputs_hidden": false
        },
        "id": "c5R4yRZjyyiD",
        "outputId": "6711efb5-ca60-4c7c-a1ad-e1cf3420c264"
      },
      "source": [
        "# inner product\n",
        "v.T * v"
      ],
      "execution_count": null,
      "outputs": [
        {
          "output_type": "execute_result",
          "data": {
            "text/plain": [
              "matrix([[30]])"
            ]
          },
          "metadata": {
            "tags": []
          },
          "execution_count": 42
        }
      ]
    },
    {
      "cell_type": "code",
      "metadata": {
        "deletable": true,
        "editable": true,
        "jupyter": {
          "outputs_hidden": false
        },
        "id": "p4kQ4OnjyyiD",
        "outputId": "5f0c2a80-82c7-4e7f-f0d9-0be84997be11"
      },
      "source": [
        "# with matrix objects, standard matrix algebra applies\n",
        "v + M*v"
      ],
      "execution_count": null,
      "outputs": [
        {
          "output_type": "execute_result",
          "data": {
            "text/plain": [
              "matrix([[ 30],\n",
              "        [ 81],\n",
              "        [132],\n",
              "        [183],\n",
              "        [234]])"
            ]
          },
          "metadata": {
            "tags": []
          },
          "execution_count": 43
        }
      ]
    },
    {
      "cell_type": "markdown",
      "metadata": {
        "deletable": true,
        "editable": true,
        "id": "kAozL9JoyyiE"
      },
      "source": [
        "If we try to add, subtract or multiply objects with incomplatible shapes we get an error:"
      ]
    },
    {
      "cell_type": "code",
      "metadata": {
        "deletable": true,
        "editable": true,
        "jupyter": {
          "outputs_hidden": false
        },
        "id": "LlLLorTQyyiE"
      },
      "source": [
        "v = matrix([1,2,3,4,5,6]).T"
      ],
      "execution_count": null,
      "outputs": []
    },
    {
      "cell_type": "code",
      "metadata": {
        "deletable": true,
        "editable": true,
        "jupyter": {
          "outputs_hidden": false
        },
        "id": "CVy5TA0FyyiE",
        "outputId": "ca26416d-1aa3-4948-fbcb-73e8f3bac8be"
      },
      "source": [
        "shape(M), shape(v)"
      ],
      "execution_count": null,
      "outputs": [
        {
          "output_type": "execute_result",
          "data": {
            "text/plain": [
              "((5, 5), (6, 1))"
            ]
          },
          "metadata": {
            "tags": []
          },
          "execution_count": 45
        }
      ]
    },
    {
      "cell_type": "code",
      "metadata": {
        "deletable": true,
        "editable": true,
        "jupyter": {
          "outputs_hidden": false
        },
        "id": "wxXErSPeyyiE",
        "outputId": "bb394d1c-74a4-4cf0-c957-9407bdd5cf85"
      },
      "source": [
        "M * v"
      ],
      "execution_count": null,
      "outputs": [
        {
          "output_type": "error",
          "ename": "ValueError",
          "evalue": "shapes (5,5) and (6,1) not aligned: 5 (dim 1) != 6 (dim 0)",
          "traceback": [
            "\u001b[0;31m---------------------------------------------------------------------------\u001b[0m",
            "\u001b[0;31mValueError\u001b[0m                                Traceback (most recent call last)",
            "\u001b[0;32m<ipython-input-46-e8f88679fe45>\u001b[0m in \u001b[0;36m<module>\u001b[0;34m\u001b[0m\n\u001b[0;32m----> 1\u001b[0;31m \u001b[0mM\u001b[0m \u001b[0;34m*\u001b[0m \u001b[0mv\u001b[0m\u001b[0;34m\u001b[0m\u001b[0;34m\u001b[0m\u001b[0m\n\u001b[0m",
            "\u001b[0;32m/opt/anaconda3/lib/python3.7/site-packages/numpy/matrixlib/defmatrix.py\u001b[0m in \u001b[0;36m__mul__\u001b[0;34m(self, other)\u001b[0m\n\u001b[1;32m    218\u001b[0m         \u001b[0;32mif\u001b[0m \u001b[0misinstance\u001b[0m\u001b[0;34m(\u001b[0m\u001b[0mother\u001b[0m\u001b[0;34m,\u001b[0m \u001b[0;34m(\u001b[0m\u001b[0mN\u001b[0m\u001b[0;34m.\u001b[0m\u001b[0mndarray\u001b[0m\u001b[0;34m,\u001b[0m \u001b[0mlist\u001b[0m\u001b[0;34m,\u001b[0m \u001b[0mtuple\u001b[0m\u001b[0;34m)\u001b[0m\u001b[0;34m)\u001b[0m \u001b[0;34m:\u001b[0m\u001b[0;34m\u001b[0m\u001b[0;34m\u001b[0m\u001b[0m\n\u001b[1;32m    219\u001b[0m             \u001b[0;31m# This promotes 1-D vectors to row vectors\u001b[0m\u001b[0;34m\u001b[0m\u001b[0;34m\u001b[0m\u001b[0;34m\u001b[0m\u001b[0m\n\u001b[0;32m--> 220\u001b[0;31m             \u001b[0;32mreturn\u001b[0m \u001b[0mN\u001b[0m\u001b[0;34m.\u001b[0m\u001b[0mdot\u001b[0m\u001b[0;34m(\u001b[0m\u001b[0mself\u001b[0m\u001b[0;34m,\u001b[0m \u001b[0masmatrix\u001b[0m\u001b[0;34m(\u001b[0m\u001b[0mother\u001b[0m\u001b[0;34m)\u001b[0m\u001b[0;34m)\u001b[0m\u001b[0;34m\u001b[0m\u001b[0;34m\u001b[0m\u001b[0m\n\u001b[0m\u001b[1;32m    221\u001b[0m         \u001b[0;32mif\u001b[0m \u001b[0misscalar\u001b[0m\u001b[0;34m(\u001b[0m\u001b[0mother\u001b[0m\u001b[0;34m)\u001b[0m \u001b[0;32mor\u001b[0m \u001b[0;32mnot\u001b[0m \u001b[0mhasattr\u001b[0m\u001b[0;34m(\u001b[0m\u001b[0mother\u001b[0m\u001b[0;34m,\u001b[0m \u001b[0;34m'__rmul__'\u001b[0m\u001b[0;34m)\u001b[0m \u001b[0;34m:\u001b[0m\u001b[0;34m\u001b[0m\u001b[0;34m\u001b[0m\u001b[0m\n\u001b[1;32m    222\u001b[0m             \u001b[0;32mreturn\u001b[0m \u001b[0mN\u001b[0m\u001b[0;34m.\u001b[0m\u001b[0mdot\u001b[0m\u001b[0;34m(\u001b[0m\u001b[0mself\u001b[0m\u001b[0;34m,\u001b[0m \u001b[0mother\u001b[0m\u001b[0;34m)\u001b[0m\u001b[0;34m\u001b[0m\u001b[0;34m\u001b[0m\u001b[0m\n",
            "\u001b[0;32m<__array_function__ internals>\u001b[0m in \u001b[0;36mdot\u001b[0;34m(*args, **kwargs)\u001b[0m\n",
            "\u001b[0;31mValueError\u001b[0m: shapes (5,5) and (6,1) not aligned: 5 (dim 1) != 6 (dim 0)"
          ]
        }
      ]
    },
    {
      "cell_type": "code",
      "metadata": {
        "id": "sQXMG3dsyyiE"
      },
      "source": [
        ""
      ],
      "execution_count": null,
      "outputs": []
    },
    {
      "cell_type": "code",
      "metadata": {
        "id": "cHCGv26qyyiE"
      },
      "source": [
        ""
      ],
      "execution_count": null,
      "outputs": []
    },
    {
      "cell_type": "code",
      "metadata": {
        "id": "81aiWs_syyiE"
      },
      "source": [
        ""
      ],
      "execution_count": null,
      "outputs": []
    }
  ]
}
