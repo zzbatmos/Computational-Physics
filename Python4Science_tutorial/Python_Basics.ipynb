{
  "nbformat": 4,
  "nbformat_minor": 0,
  "metadata": {
    "kernelspec": {
      "display_name": "Python 3",
      "language": "python",
      "name": "python3"
    },
    "language_info": {
      "codemirror_mode": {
        "name": "ipython",
        "version": 3
      },
      "file_extension": ".py",
      "mimetype": "text/x-python",
      "name": "python",
      "nbconvert_exporter": "python",
      "pygments_lexer": "ipython3",
      "version": "3.7.10"
    },
    "colab": {
      "name": "Python_Basics.ipynb",
      "provenance": [],
      "include_colab_link": true
    }
  },
  "cells": [
    {
      "cell_type": "markdown",
      "metadata": {
        "id": "view-in-github",
        "colab_type": "text"
      },
      "source": [
        "<a href=\"https://colab.research.google.com/github/ACROS-UMBC/UMBC-PHYS640-440/blob/Fall2021/Python_Basics.ipynb\" target=\"_parent\"><img src=\"https://colab.research.google.com/assets/colab-badge.svg\" alt=\"Open In Colab\"/></a>"
      ]
    },
    {
      "cell_type": "markdown",
      "metadata": {
        "deletable": true,
        "editable": true,
        "id": "yKXboX0gx767"
      },
      "source": [
        "# Introduction to Computational Physics (PHYS 640)"
      ]
    },
    {
      "cell_type": "markdown",
      "metadata": {
        "deletable": true,
        "editable": true,
        "id": "QMUrkRUbx767"
      },
      "source": [
        "## A Quick Tutorial of Python Basic Syntax"
      ]
    },
    {
      "cell_type": "markdown",
      "metadata": {
        "deletable": true,
        "editable": true,
        "id": "1E_AgheCx768"
      },
      "source": [
        "### By Zhibo Zhang,  Physics Department, UMBC"
      ]
    },
    {
      "cell_type": "markdown",
      "metadata": {
        "deletable": true,
        "editable": true,
        "id": "2noNwNUMx768"
      },
      "source": [
        "You can also learn Python basic syntax from the online tutorials listed below \n",
        "\n",
        "https://docs.python.org/3.6/tutorial/\n",
        "\n",
        "http://www.codecademy.com/en/tracks/python\n",
        "\n",
        "http://www.learnpython.org/\n",
        "\n",
        "http://www.tutorialspoint.com/python/\n"
      ]
    },
    {
      "cell_type": "markdown",
      "metadata": {
        "deletable": true,
        "editable": true,
        "id": "d0UbRo0Hx768"
      },
      "source": [
        "## 1) A Quick Start"
      ]
    },
    {
      "cell_type": "markdown",
      "metadata": {
        "deletable": true,
        "editable": true,
        "id": "N39uiD-Xx768"
      },
      "source": [
        "To start the python programming, type \"ipython --pylab\" in the a terminal window. You will see something like\n"
      ]
    },
    {
      "cell_type": "raw",
      "metadata": {
        "deletable": true,
        "editable": true,
        "id": "B2EnnK1Px768"
      },
      "source": [
        "Python 3.7.7 (default, Mar 26 2020, 10:32:53)\n",
        "Type 'copyright', 'credits' or 'license' for more information\n",
        "IPython 7.16.1 -- An enhanced Interactive Python. Type '?' for help.\n",
        "Using matplotlib backend: MacOSX"
      ]
    },
    {
      "cell_type": "markdown",
      "metadata": {
        "deletable": true,
        "editable": true,
        "id": "b3q1ms20x769"
      },
      "source": [
        "There are two basics modes to run use Python, the ***Interactive*** mode and the ***Script*** model. In the Interactive mode, you can simply type some command and then hit \"enter\" to excute the command yout typed in. \n",
        "Let's try the following examples:"
      ]
    },
    {
      "cell_type": "code",
      "metadata": {
        "deletable": true,
        "editable": true,
        "jupyter": {
          "outputs_hidden": false
        },
        "id": "ThGbKonfx769",
        "outputId": "1ce5a96c-b23d-4a6b-bffd-866db73d4685"
      },
      "source": [
        "print(\"Hello PHYS220!\")"
      ],
      "execution_count": null,
      "outputs": [
        {
          "output_type": "stream",
          "text": [
            "Hello PHYS220!\n"
          ],
          "name": "stdout"
        }
      ]
    },
    {
      "cell_type": "code",
      "metadata": {
        "deletable": true,
        "editable": true,
        "jupyter": {
          "outputs_hidden": false
        },
        "id": "tOnntUYwx769",
        "outputId": "8f398b16-110d-45ee-dc1c-10b875f4d4e7"
      },
      "source": [
        "print(\"hello 1,2,3\")"
      ],
      "execution_count": null,
      "outputs": [
        {
          "output_type": "stream",
          "text": [
            "hello 1,2,3\n"
          ],
          "name": "stdout"
        }
      ]
    },
    {
      "cell_type": "code",
      "metadata": {
        "deletable": true,
        "editable": true,
        "jupyter": {
          "outputs_hidden": false
        },
        "id": "k8f10ifUx769",
        "outputId": "1544f34d-a056-4886-fa6a-437ce6cce45a"
      },
      "source": [
        "print (\"hello world\")\n"
      ],
      "execution_count": null,
      "outputs": [
        {
          "output_type": "stream",
          "text": [
            "hello world\n"
          ],
          "name": "stdout"
        }
      ]
    },
    {
      "cell_type": "code",
      "metadata": {
        "deletable": true,
        "editable": true,
        "jupyter": {
          "outputs_hidden": false
        },
        "id": "cpJBctRyx76-",
        "outputId": "bc0db549-57a3-4c4b-90f5-e2f9280bbf18"
      },
      "source": [
        "1+3"
      ],
      "execution_count": null,
      "outputs": [
        {
          "output_type": "execute_result",
          "data": {
            "text/plain": [
              "4"
            ]
          },
          "metadata": {
            "tags": []
          },
          "execution_count": 4
        }
      ]
    },
    {
      "cell_type": "code",
      "metadata": {
        "deletable": true,
        "editable": true,
        "jupyter": {
          "outputs_hidden": false
        },
        "id": "9jVMGkghx76-",
        "outputId": "5eaaaa34-b7cb-4b95-83c0-b036311d87a4"
      },
      "source": [
        "2+3"
      ],
      "execution_count": null,
      "outputs": [
        {
          "output_type": "execute_result",
          "data": {
            "text/plain": [
              "5"
            ]
          },
          "metadata": {
            "tags": []
          },
          "execution_count": 5
        }
      ]
    },
    {
      "cell_type": "code",
      "metadata": {
        "deletable": true,
        "editable": true,
        "jupyter": {
          "outputs_hidden": false
        },
        "id": "oSaOpL-Ax76-",
        "outputId": "126e4728-8cac-41de-b37b-ae4d54940ea8"
      },
      "source": [
        "a = ['spam', 'eggs', 100.0, 1234]\n",
        "print(a)\n",
        "type(a[0])"
      ],
      "execution_count": null,
      "outputs": [
        {
          "output_type": "stream",
          "text": [
            "['spam', 'eggs', 100.0, 1234]\n"
          ],
          "name": "stdout"
        },
        {
          "output_type": "execute_result",
          "data": {
            "text/plain": [
              "str"
            ]
          },
          "metadata": {
            "tags": []
          },
          "execution_count": 6
        }
      ]
    },
    {
      "cell_type": "markdown",
      "metadata": {
        "deletable": true,
        "editable": true,
        "id": "Wg8qRzNDx76-"
      },
      "source": [
        "Sometimes, you may run into some problems and the python Integrated development environment (IDE) may give you some hint about the problem"
      ]
    },
    {
      "cell_type": "code",
      "metadata": {
        "deletable": true,
        "editable": true,
        "jupyter": {
          "outputs_hidden": false
        },
        "id": "ugQ2Y0_fx76-",
        "outputId": "780e3da1-681e-4306-e179-641f4ec23072"
      },
      "source": [
        "365+\"Monday\""
      ],
      "execution_count": null,
      "outputs": [
        {
          "output_type": "error",
          "ename": "TypeError",
          "evalue": "unsupported operand type(s) for +: 'int' and 'str'",
          "traceback": [
            "\u001b[0;31m---------------------------------------------------------------------------\u001b[0m",
            "\u001b[0;31mTypeError\u001b[0m                                 Traceback (most recent call last)",
            "\u001b[0;32m<ipython-input-7-97fb29bd17ee>\u001b[0m in \u001b[0;36m<module>\u001b[0;34m\u001b[0m\n\u001b[0;32m----> 1\u001b[0;31m \u001b[0;36m365\u001b[0m\u001b[0;34m+\u001b[0m\u001b[0;34m\"Monday\"\u001b[0m\u001b[0;34m\u001b[0m\u001b[0;34m\u001b[0m\u001b[0m\n\u001b[0m",
            "\u001b[0;31mTypeError\u001b[0m: unsupported operand type(s) for +: 'int' and 'str'"
          ]
        }
      ]
    },
    {
      "cell_type": "markdown",
      "metadata": {
        "deletable": true,
        "editable": true,
        "id": "MhR5kJr5x76-"
      },
      "source": [
        "In this example, the IDE basiclly tells you that the integral 365 and th string \"Monday\" are not addable "
      ]
    },
    {
      "cell_type": "markdown",
      "metadata": {
        "deletable": true,
        "editable": true,
        "id": "lBEdszRZx76-"
      },
      "source": [
        "### 1.1 Python Identifiers:"
      ]
    },
    {
      "cell_type": "markdown",
      "metadata": {
        "deletable": true,
        "editable": true,
        "id": "ozBjMF1-x76-"
      },
      "source": [
        "A Python identifier is a name used to identify a variable, function, class, module or other object. An identifier starts with a letter A to Z or a to z or an underscore (_) followed by zero or more letters, underscores and digits (0 to 9). \n",
        "\n",
        "Python does not allow punctuation characters such as @, $ and % within identifiers. **Python is a case sensitive programming language.** Thus, Manpower and manpower are two different identifiers in Python."
      ]
    },
    {
      "cell_type": "code",
      "metadata": {
        "deletable": true,
        "editable": true,
        "jupyter": {
          "outputs_hidden": false
        },
        "id": "H4dUEuJtx76_",
        "outputId": "8f89482f-56bd-44dc-e3f7-d2e1e6c0bdee"
      },
      "source": [
        "P=4\n",
        "p='fg'\n",
        "print (P,p)"
      ],
      "execution_count": null,
      "outputs": [
        {
          "output_type": "stream",
          "text": [
            "4 fg\n"
          ],
          "name": "stdout"
        }
      ]
    },
    {
      "cell_type": "markdown",
      "metadata": {
        "deletable": true,
        "editable": true,
        "id": "PckQTUSAx76_"
      },
      "source": [
        "**The following list shows the reserved words in Python.** These reserved words may not be used as constant or variable or any other identifier names. All the Python keywords contain lowercase letters only."
      ]
    },
    {
      "cell_type": "raw",
      "metadata": {
        "deletable": true,
        "editable": true,
        "id": "1qPffUYJx76_"
      },
      "source": [
        "and\texec\tnot\n",
        "assert\tfinally\tor\n",
        "break\tfor\tpass\n",
        "class\tfrom\tprint\n",
        "continue\tglobal\traise\n",
        "def\tif\treturn\n",
        "del\timport\ttry\n",
        "elif\tin\twhile\n",
        "else\tis\twith\n",
        "except\tlambda\tyield"
      ]
    },
    {
      "cell_type": "code",
      "metadata": {
        "deletable": true,
        "editable": true,
        "jupyter": {
          "outputs_hidden": false
        },
        "id": "X3pXD7gcx76_",
        "outputId": "4f43820b-9325-4469-8627-35397269b48b"
      },
      "source": [
        "and = 5 ; for = '123'"
      ],
      "execution_count": null,
      "outputs": [
        {
          "output_type": "error",
          "ename": "SyntaxError",
          "evalue": "invalid syntax (<ipython-input-13-cef3e72e7475>, line 1)",
          "traceback": [
            "\u001b[0;36m  File \u001b[0;32m\"<ipython-input-13-cef3e72e7475>\"\u001b[0;36m, line \u001b[0;32m1\u001b[0m\n\u001b[0;31m    and = 5 ; for = '123'\u001b[0m\n\u001b[0m      ^\u001b[0m\n\u001b[0;31mSyntaxError\u001b[0m\u001b[0;31m:\u001b[0m invalid syntax\n"
          ]
        }
      ]
    },
    {
      "cell_type": "markdown",
      "metadata": {
        "deletable": true,
        "editable": true,
        "id": "owVKmKK4x76_"
      },
      "source": [
        "### 1.2 Lines and Indentation:"
      ]
    },
    {
      "cell_type": "markdown",
      "metadata": {
        "deletable": true,
        "editable": true,
        "id": "BBqYUXx0x76_"
      },
      "source": [
        "One of the first caveats programmers encounter when learning Python is the fact that there are no braces to indicate blocks of code for class and function definitions or flow control. Blocks of code are denoted by line indentation, which is rigidly enforced.\n",
        "\n",
        "The number of spaces in the indentation is variable, but all statements within the block must be indented the same amount. Both blocks in this example are fine:"
      ]
    },
    {
      "cell_type": "code",
      "metadata": {
        "deletable": true,
        "editable": true,
        "jupyter": {
          "outputs_hidden": false
        },
        "id": "jehI1cHIx76_",
        "outputId": "369db4af-3561-4f15-eb65-758ba0704fba"
      },
      "source": [
        "a = 5.0\n",
        "b = 2.0\n",
        "''''''\n",
        "if a>=0:\n",
        "    print (\"A is larger than zero\")\n",
        "    print (\"Positive\")\n",
        "else: \n",
        "    print (\"A is smaller than zero\")\n",
        "    print (\"negative\")"
      ],
      "execution_count": null,
      "outputs": [
        {
          "output_type": "stream",
          "text": [
            "A is larger than zero\n",
            "Positive\n"
          ],
          "name": "stdout"
        }
      ]
    },
    {
      "cell_type": "markdown",
      "metadata": {
        "deletable": true,
        "editable": true,
        "id": "cmO_75a8x76_"
      },
      "source": [
        "** * **"
      ]
    },
    {
      "cell_type": "markdown",
      "metadata": {
        "deletable": true,
        "editable": true,
        "id": "TQdyKusNx76_"
      },
      "source": [
        "## 2) Python Variable Types"
      ]
    },
    {
      "cell_type": "markdown",
      "metadata": {
        "deletable": true,
        "editable": true,
        "id": "t6ZFTkddx76_"
      },
      "source": [
        "### 2.1 Assigning Values to Variables:"
      ]
    },
    {
      "cell_type": "markdown",
      "metadata": {
        "deletable": true,
        "editable": true,
        "id": "BuZFfuBux76_"
      },
      "source": [
        "Python variables do not have to be explicitly declared to reserve memory space. The declaration happens automatically when you assign a value to a variable. The equal sign (=) is used to assign values to variables. The operand to the left of the = operator is the name of the variable and the operand to the right of the = operator is the value stored in the variable. For example:"
      ]
    },
    {
      "cell_type": "code",
      "metadata": {
        "deletable": true,
        "editable": true,
        "jupyter": {
          "outputs_hidden": false
        },
        "id": "UGFV2iUcx77A",
        "outputId": "882ed457-e072-4881-b08e-c0621b8ec6b0"
      },
      "source": [
        "counter = 100          # An integer assignment\n",
        "miles   = 1000.0       # A floating point\n",
        "name    = \"John\"       # A string\n",
        "\n",
        "print (counter)\n",
        "print (miles)\n",
        "print (name)\n",
        "\n",
        "print (type(miles), type(name))"
      ],
      "execution_count": null,
      "outputs": [
        {
          "output_type": "stream",
          "text": [
            "100\n",
            "1000.0\n",
            "John\n",
            "<class 'float'> <class 'str'>\n"
          ],
          "name": "stdout"
        }
      ]
    },
    {
      "cell_type": "markdown",
      "metadata": {
        "deletable": true,
        "editable": true,
        "id": "aDNnEy_jx77A"
      },
      "source": [
        "Python allows you to assign a single value to several variables simultaneously. For example:"
      ]
    },
    {
      "cell_type": "code",
      "metadata": {
        "deletable": true,
        "editable": true,
        "jupyter": {
          "outputs_hidden": false
        },
        "id": "adcxT594x77A",
        "outputId": "c7cc1c5c-6fbf-4168-fec7-f729da8e495d"
      },
      "source": [
        "a = b = c = 1\n",
        "print (a,b,c)\n",
        "\n",
        "b=3.0\n",
        "print (a,b,c)"
      ],
      "execution_count": null,
      "outputs": [
        {
          "output_type": "stream",
          "text": [
            "1 1 1\n",
            "1 3.0 1\n"
          ],
          "name": "stdout"
        }
      ]
    },
    {
      "cell_type": "markdown",
      "metadata": {
        "deletable": true,
        "editable": true,
        "id": "PzseCR9Px77A"
      },
      "source": [
        "Here, an integer object is created with the value 1, and all three variables are assigned to the same memory location. You can also assign multiple objects to multiple variables. For example:"
      ]
    },
    {
      "cell_type": "code",
      "metadata": {
        "deletable": true,
        "editable": true,
        "jupyter": {
          "outputs_hidden": false
        },
        "id": "BoUaS1oZx77A",
        "outputId": "65199f6b-1735-42fd-8d0e-0f1bbf1924a7"
      },
      "source": [
        "a, b, _ = 1, 2.0,'cat'\n",
        "print (a,b,c)"
      ],
      "execution_count": null,
      "outputs": [
        {
          "output_type": "stream",
          "text": [
            "1 2.0 cat\n"
          ],
          "name": "stdout"
        }
      ]
    },
    {
      "cell_type": "code",
      "metadata": {
        "id": "ACHHlegnx77A",
        "outputId": "bd2f7027-3714-4fa3-d6e6-e23d7ce6b40b"
      },
      "source": [
        "def fx():\n",
        "    return 6,5,4\n",
        "\n",
        "a,_,b=fx()\n",
        "print(a,b)"
      ],
      "execution_count": null,
      "outputs": [
        {
          "output_type": "stream",
          "text": [
            "6 4\n"
          ],
          "name": "stdout"
        }
      ]
    },
    {
      "cell_type": "markdown",
      "metadata": {
        "deletable": true,
        "editable": true,
        "id": "onpWrb60x77A"
      },
      "source": [
        "You can also assign values to varaible through standard input"
      ]
    },
    {
      "cell_type": "code",
      "metadata": {
        "deletable": true,
        "editable": true,
        "jupyter": {
          "outputs_hidden": false
        },
        "id": "9t4I_yqAx77A",
        "outputId": "86cbbe07-7397-4dfc-8fa7-b7e3e70d35f5"
      },
      "source": [
        "x=input()\n",
        "print (x), type(x)\n",
        "x=2\n",
        "print (x), type(x)\n",
        "\n",
        "x=float(x)\n",
        "print (x), type(x)"
      ],
      "execution_count": null,
      "outputs": [
        {
          "output_type": "stream",
          "text": [
            " \n"
          ],
          "name": "stdin"
        },
        {
          "output_type": "stream",
          "text": [
            "\n",
            "2\n",
            "2.0\n"
          ],
          "name": "stdout"
        },
        {
          "output_type": "execute_result",
          "data": {
            "text/plain": [
              "(None, float)"
            ]
          },
          "metadata": {
            "tags": []
          },
          "execution_count": 16
        }
      ]
    },
    {
      "cell_type": "markdown",
      "metadata": {
        "deletable": true,
        "editable": true,
        "id": "cs27rvFex77A"
      },
      "source": [
        "### 2.2 Standard Data Types:"
      ]
    },
    {
      "cell_type": "markdown",
      "metadata": {
        "deletable": true,
        "editable": true,
        "id": "t6UNzwTFx77A"
      },
      "source": [
        "The data stored in memory can be of many types. For example, a person's age is stored as a numeric value and his or her address is stored as alphanumeric characters. Python has various standard types that are used to define the operations possible on them and the storage method for each of them.\n",
        "\n",
        "Python has five standard data types: 1) **Numbers** 2) **String** 3) **List** 4) **Tuple** 5) **Dictionary**"
      ]
    },
    {
      "cell_type": "markdown",
      "metadata": {
        "deletable": true,
        "editable": true,
        "id": "BEkTx6Xhx77B"
      },
      "source": [
        "#### 2.2.1 Python Numbers:"
      ]
    },
    {
      "cell_type": "markdown",
      "metadata": {
        "deletable": true,
        "editable": true,
        "id": "-vyof2x8x77B"
      },
      "source": [
        "Number data types store numeric values. They are immutable data types which means that changing the value of a number data type results in a newly allocated object."
      ]
    },
    {
      "cell_type": "markdown",
      "metadata": {
        "deletable": true,
        "editable": true,
        "id": "2d50fD44x77B"
      },
      "source": [
        "Python supports four different numerical types:\n",
        "\n",
        "1) int (signed integers)\n",
        "\n",
        "2) long (long integers [can also be represented in octal and hexadecimal])\n",
        "\n",
        "3) float (floating point real values)\n",
        "\n",
        "4) complex (complex numbers)"
      ]
    },
    {
      "cell_type": "markdown",
      "metadata": {
        "deletable": true,
        "editable": true,
        "id": "lmb5NcrXx77B"
      },
      "source": [
        "Number objects are created when you assign a value to them. For example:"
      ]
    },
    {
      "cell_type": "code",
      "metadata": {
        "deletable": true,
        "editable": true,
        "jupyter": {
          "outputs_hidden": false
        },
        "id": "g1JcPjhRx77B",
        "outputId": "9c4a8002-0fdd-4341-cf90-899dbe6babee"
      },
      "source": [
        "x=-2\n",
        "#y=560L  python 3 gets rid of the \"long integer\"\n",
        "y=123456789012345678901234567890\n",
        "z=35.78        \n",
        "c=3.0+4.5j #A complex number consists of an ordered pair of real floating-point numbers denoted by a + bj, where a is the real part and b is the imaginary part of the complex number.\n",
        "print ('x=',x,'y=',y,'z=',z,'c=',c)\n",
        "print (type(x),type(y),type(z), type(c)) # \"type\" function shows the data type of a variable"
      ],
      "execution_count": null,
      "outputs": [
        {
          "output_type": "stream",
          "text": [
            "x= -2 y= 123456789012345678901234567890 z= 35.78 c= (3+4.5j)\n",
            "<class 'int'> <class 'int'> <class 'float'> <class 'complex'>\n"
          ],
          "name": "stdout"
        }
      ]
    },
    {
      "cell_type": "markdown",
      "metadata": {
        "deletable": true,
        "editable": true,
        "id": "Gwgrt-Idx77B"
      },
      "source": [
        "You can use the constructors int(), long(), float(), and complex() to produce numbers of a specific type."
      ]
    },
    {
      "cell_type": "code",
      "metadata": {
        "deletable": true,
        "editable": true,
        "jupyter": {
          "outputs_hidden": false
        },
        "id": "23W0T0fvx77B",
        "outputId": "2e6c9cae-e312-4663-bc2d-c958d1cc7919"
      },
      "source": [
        "import numpy as np\n",
        "print(float(y)) # convert y from long integer to float\n",
        "print(np.int(z))# convert z from float to complex\n",
        "#print float(c.real)# convert real part of c to integer"
      ],
      "execution_count": null,
      "outputs": [
        {
          "output_type": "stream",
          "text": [
            "1.2345678901234568e+29\n",
            "35\n"
          ],
          "name": "stdout"
        }
      ]
    },
    {
      "cell_type": "markdown",
      "metadata": {
        "deletable": true,
        "editable": true,
        "id": "dQ-iVno4x77B"
      },
      "source": [
        "You can check the system-specific parameters of each numerical typics. To do this, you need to use the system library \"sys\". In the following examples, we check the maximum possible values of floating point and integer number in python:"
      ]
    },
    {
      "cell_type": "code",
      "metadata": {
        "deletable": true,
        "editable": true,
        "jupyter": {
          "outputs_hidden": false
        },
        "id": "D3y_BaASx77C",
        "outputId": "981ac87a-6f4c-4409-c3a1-c144d4d95660"
      },
      "source": [
        "import sys # import system library\n",
        "print('maximum of floating point:',sys.float_info.max) \n",
        "print('maximum of integer:',sys.maxsize) \n"
      ],
      "execution_count": null,
      "outputs": [
        {
          "output_type": "stream",
          "text": [
            "maximum of floating point: 1.7976931348623157e+308\n",
            "maximum of integer: 9223372036854775807\n"
          ],
          "name": "stdout"
        }
      ]
    },
    {
      "cell_type": "markdown",
      "metadata": {
        "deletable": true,
        "editable": true,
        "id": "lqGeNvsDx77C"
      },
      "source": [
        "#### 2.2.2 Python Strings:"
      ]
    },
    {
      "cell_type": "markdown",
      "metadata": {
        "deletable": true,
        "editable": true,
        "id": "2fTz2VRwx77C"
      },
      "source": [
        "Strings in Python are identified as a contiguous set of characters in between quotation marks. Python allows for either pairs of single or double quotes. Subsets of strings can be taken using the slice operator ( [ ] and [ : ] ) **with indexes starting at 0** in the beginning of the string and working their way from -1 at the end. The plus ( + ) sign is the string concatenation operator and the asterisk ( * ) is the repetition operator. For example:"
      ]
    },
    {
      "cell_type": "code",
      "metadata": {
        "deletable": true,
        "editable": true,
        "jupyter": {
          "outputs_hidden": false
        },
        "id": "G3K5ELQYx77C",
        "outputId": "ca98db59-c651-4e85-ceed-b3d2c7384422"
      },
      "source": [
        "str = 'Hello_PHYS2020'\n",
        "\n",
        "\n",
        "print (str          )# Prints complete string\n",
        "print (str[0]      ) # Prints first character of the string\n",
        "print (str[2:5] )    # Prints characters starting from 3rd to 5th\n",
        "print (str[:2]  )    # Prints  the first two chars\n",
        "print (str[2:] )     # Prints string starting from 3rd character\n",
        "print (str[-1::-1])   # Prints 2 chars before the last one\n",
        "print (str[-3:] )    # Prints the last 3 chars \n",
        "print (str * 2 )     # Prints string two times\n",
        "print (str + \"TEST\") # Prints concatenated string"
      ],
      "execution_count": null,
      "outputs": [
        {
          "output_type": "stream",
          "text": [
            "Hello_PHYS2020\n",
            "H\n",
            "llo\n",
            "He\n",
            "llo_PHYS2020\n",
            "0202SYHP_olleH\n",
            "020\n",
            "Hello_PHYS2020Hello_PHYS2020\n",
            "Hello_PHYS2020TEST\n"
          ],
          "name": "stdout"
        }
      ]
    },
    {
      "cell_type": "code",
      "metadata": {
        "id": "Q53WGH33x77C",
        "outputId": "c7cb3867-1f4d-40d4-c60c-69f29c557d37"
      },
      "source": [
        "print(str[::-1])"
      ],
      "execution_count": null,
      "outputs": [
        {
          "output_type": "stream",
          "text": [
            "0202SYHP_olleH\n"
          ],
          "name": "stdout"
        }
      ]
    },
    {
      "cell_type": "code",
      "metadata": {
        "id": "WUz0rFdwx77C"
      },
      "source": [
        "c=[0,1,2,3,4,5,6,7,8,9]\n"
      ],
      "execution_count": null,
      "outputs": []
    },
    {
      "cell_type": "code",
      "metadata": {
        "id": "V_vKdf-8x77C",
        "outputId": "5953c2ba-8223-4444-af4c-66d7cbe2c02c"
      },
      "source": [
        "print(c[1::2])\n",
        "print(c[1::2][3])"
      ],
      "execution_count": null,
      "outputs": [
        {
          "output_type": "stream",
          "text": [
            "[1, 3, 5, 7, 9]\n",
            "7\n"
          ],
          "name": "stdout"
        }
      ]
    },
    {
      "cell_type": "markdown",
      "metadata": {
        "deletable": true,
        "editable": true,
        "id": "no5DilYkx77C"
      },
      "source": [
        "A few words about indexing conventions of Python string. Let's focus on the following example. First, let's create a simple string 'a'."
      ]
    },
    {
      "cell_type": "code",
      "metadata": {
        "deletable": true,
        "editable": true,
        "jupyter": {
          "outputs_hidden": false
        },
        "id": "U_Rqjk6ax77C",
        "outputId": "a075c581-5bf8-4c21-9f42-af0162d0725e"
      },
      "source": [
        "import numpy as np\n",
        "a= np.arange(10)\n",
        "a +=100\n",
        "print (len(a),a)\n",
        "print (a[0:5])"
      ],
      "execution_count": null,
      "outputs": [
        {
          "output_type": "stream",
          "text": [
            "10 [100 101 102 103 104 105 106 107 108 109]\n",
            "[100 101 102 103 104]\n"
          ],
          "name": "stdout"
        }
      ]
    },
    {
      "cell_type": "markdown",
      "metadata": {
        "deletable": true,
        "editable": true,
        "id": "1MvsLA9Vx77C"
      },
      "source": [
        "The most general way to slice 'a' is b=a[**start : stop  : step**]"
      ]
    },
    {
      "cell_type": "markdown",
      "metadata": {
        "deletable": true,
        "editable": true,
        "id": "2DopthEux77C"
      },
      "source": [
        "There are only three things to remember\n",
        "\n",
        "**start** is the first item that we want (of course) default value is \"0\" i.e. the first position\n",
        "\n",
        "**stop** is the <font color='red'>first item that we do **not** want</font> the default value is the last character (i.e., len(a) len() is a function to get the length of a string)\n",
        "\n",
        "**step**, being positive or negative, defines whether we are moving forwards (from the first position of the string towards its end) or backwards (from the last position of the str towards its start), the default value is 1\n",
        "\n",
        "Try the following examples:"
      ]
    },
    {
      "cell_type": "code",
      "metadata": {
        "deletable": true,
        "editable": true,
        "jupyter": {
          "outputs_hidden": false
        },
        "id": "sKa7fUucx77C",
        "outputId": "024a0502-ebd2-471b-b1f7-f8d5d2daf575"
      },
      "source": [
        "print (a[0:10])\n",
        "print (a[0:len(a):2])# begins with the first char, stops at the last one, every other char"
      ],
      "execution_count": null,
      "outputs": [
        {
          "output_type": "stream",
          "text": [
            "[100 101 102 103 104 105 106 107 108 109]\n",
            "[100 102 104 106 108]\n"
          ],
          "name": "stdout"
        }
      ]
    },
    {
      "cell_type": "code",
      "metadata": {
        "deletable": true,
        "editable": true,
        "jupyter": {
          "outputs_hidden": false
        },
        "id": "nIEvGluzx77D",
        "outputId": "782ba040-1abd-462f-d297-c9632a77a92a"
      },
      "source": [
        "a[1::2] # bgins with the 2nd char (remember the index starts with 0), stops at the last one by default, every other char"
      ],
      "execution_count": null,
      "outputs": [
        {
          "output_type": "execute_result",
          "data": {
            "text/plain": [
              "array([101, 103, 105, 107, 109])"
            ]
          },
          "metadata": {
            "tags": []
          },
          "execution_count": 30
        }
      ]
    },
    {
      "cell_type": "code",
      "metadata": {
        "deletable": true,
        "editable": true,
        "jupyter": {
          "outputs_hidden": false
        },
        "id": "3hYu-0b2x77D",
        "outputId": "443c0bdf-f2c9-4664-ac39-0003758a8152"
      },
      "source": [
        "a[3:8:3] # begins with the 4th char, stops at the 7th char (7), every third char"
      ],
      "execution_count": null,
      "outputs": [
        {
          "output_type": "execute_result",
          "data": {
            "text/plain": [
              "array([103, 106])"
            ]
          },
          "metadata": {
            "tags": []
          },
          "execution_count": 31
        }
      ]
    },
    {
      "cell_type": "markdown",
      "metadata": {
        "deletable": true,
        "editable": true,
        "id": "j2CmLdq6x77D"
      },
      "source": [
        "Another thing about indexing is that Python allows **negative** indices. For example, "
      ]
    },
    {
      "cell_type": "code",
      "metadata": {
        "deletable": true,
        "editable": true,
        "jupyter": {
          "outputs_hidden": false
        },
        "id": "55MqfkxSx77D",
        "outputId": "740c1ee3-d3e9-4e0e-81f6-db33c24b1751"
      },
      "source": [
        "a[-5::2] "
      ],
      "execution_count": null,
      "outputs": [
        {
          "output_type": "execute_result",
          "data": {
            "text/plain": [
              "array([105, 107, 109])"
            ]
          },
          "metadata": {
            "tags": []
          },
          "execution_count": 32
        }
      ]
    },
    {
      "cell_type": "code",
      "metadata": {
        "deletable": true,
        "editable": true,
        "jupyter": {
          "outputs_hidden": false
        },
        "id": "vmNYavF_x77D",
        "outputId": "ef838e64-b3da-46bd-d0d5-0aede1899363"
      },
      "source": [
        "a[-7:-2:2]"
      ],
      "execution_count": null,
      "outputs": [
        {
          "output_type": "execute_result",
          "data": {
            "text/plain": [
              "array([103, 105, 107])"
            ]
          },
          "metadata": {
            "tags": []
          },
          "execution_count": 33
        }
      ]
    },
    {
      "cell_type": "markdown",
      "metadata": {
        "deletable": true,
        "editable": true,
        "id": "35MFU4rlx77D"
      },
      "source": [
        "Evening more confusing is that, using the negative step size, you can make the slicing go backword. For exmple, "
      ]
    },
    {
      "cell_type": "code",
      "metadata": {
        "deletable": true,
        "editable": true,
        "jupyter": {
          "outputs_hidden": false
        },
        "id": "uACvBGKIx77D",
        "outputId": "49c4400c-fcc2-4da7-fc0d-317bf0ae088a"
      },
      "source": [
        "a[-1:0:-1]"
      ],
      "execution_count": null,
      "outputs": [
        {
          "output_type": "execute_result",
          "data": {
            "text/plain": [
              "array([109, 108, 107, 106, 105, 104, 103, 102, 101])"
            ]
          },
          "metadata": {
            "tags": []
          },
          "execution_count": 34
        }
      ]
    },
    {
      "cell_type": "markdown",
      "metadata": {
        "deletable": true,
        "editable": true,
        "id": "Ai0TsPL_x77D"
      },
      "source": [
        "### 2.2.3 Python Lists:"
      ]
    },
    {
      "cell_type": "markdown",
      "metadata": {
        "deletable": true,
        "editable": true,
        "id": "766HR2g8x77D"
      },
      "source": [
        "Lists are the most versatile of Python's compound data types. A list contains items separated by commas and enclosed within square brackets ([]). To some extent, lists are similar to arrays in C. One difference between them is that all the items belonging to a list can be of different data type.\n",
        "\n",
        "The values stored in a list can be accessed using the slice operator ( [ ] and [ : ] ) with indexes starting at 0 in the beginning of the list and working their way to end -1. The plus ( + ) sign is the list concatenation operator, and the asterisk ( * ) is the repetition operator. For example:"
      ]
    },
    {
      "cell_type": "code",
      "metadata": {
        "deletable": true,
        "editable": true,
        "jupyter": {
          "outputs_hidden": false
        },
        "id": "gRzHRqeZx77D",
        "outputId": "5c0f48c7-1838-4f11-e7ef-e3851192f7a4"
      },
      "source": [
        "list = [ 'abcd', 786 , 2.23, 'john', 70.2 ]\n",
        "tinylist = [123, 'john']\n",
        "\n",
        "print (list)          # Prints complete list\n",
        "print (list[0][1])       # Prints first element of the list\n",
        "print (list[1:3])     # Prints elements starting from 2nd till 3rd \n",
        "print (list[2:])      # Prints elements starting from 3rd element\n",
        "list[3] = 'cat'\n",
        "print (tinylist * 2)  # Prints list two times\n",
        "print (list + tinylist) # Prints concatenated lists\n",
        "\n",
        "c=[7,6]\n",
        "[c.append(i) for  i in [3,4,5]]\n",
        "c.append('f')\n",
        "c.append('g')\n",
        "print (c)\n",
        "print (c[2])"
      ],
      "execution_count": null,
      "outputs": [
        {
          "output_type": "stream",
          "text": [
            "['abcd', 786, 2.23, 'john', 70.2]\n",
            "b\n",
            "[786, 2.23]\n",
            "[2.23, 'john', 70.2]\n",
            "[123, 'john', 123, 'john']\n",
            "['abcd', 786, 2.23, 'cat', 70.2, 123, 'john']\n",
            "[7, 6, 3, 4, 5, 'f', 'g']\n",
            "3\n"
          ],
          "name": "stdout"
        }
      ]
    },
    {
      "cell_type": "markdown",
      "metadata": {
        "deletable": true,
        "editable": true,
        "id": "ACBdqXfUx77E"
      },
      "source": [
        "Note that the list variable uses the same indexing convention as the string variable.For example:"
      ]
    },
    {
      "cell_type": "code",
      "metadata": {
        "deletable": true,
        "editable": true,
        "jupyter": {
          "outputs_hidden": false
        },
        "id": "oQlaqK95x77E",
        "outputId": "6e0fb761-1d5c-4dad-8adc-d936b115ab3e"
      },
      "source": [
        "list[0::2]"
      ],
      "execution_count": null,
      "outputs": [
        {
          "output_type": "execute_result",
          "data": {
            "text/plain": [
              "['abcd', 2.23, 70.2]"
            ]
          },
          "metadata": {
            "tags": []
          },
          "execution_count": 36
        }
      ]
    },
    {
      "cell_type": "code",
      "metadata": {
        "deletable": true,
        "editable": true,
        "jupyter": {
          "outputs_hidden": false
        },
        "id": "IwwSUNMPx77E",
        "outputId": "a50907cd-4dad-43b9-eada-a8acfa9ecbbe"
      },
      "source": [
        "list[-3:-1]"
      ],
      "execution_count": null,
      "outputs": [
        {
          "output_type": "execute_result",
          "data": {
            "text/plain": [
              "[2.23, 'cat']"
            ]
          },
          "metadata": {
            "tags": []
          },
          "execution_count": 37
        }
      ]
    },
    {
      "cell_type": "markdown",
      "metadata": {
        "deletable": true,
        "editable": true,
        "id": "ZF6geMHDx77E"
      },
      "source": [
        "### 2.2.4 Python Tuples:"
      ]
    },
    {
      "cell_type": "markdown",
      "metadata": {
        "deletable": true,
        "editable": true,
        "id": "PWq-FuBex77E"
      },
      "source": [
        "A tuple is another sequence data type that is similar to the list. A tuple consists of a number of values separated by commas. Unlike lists, however, tuples are enclosed within parentheses.\n",
        "\n",
        "The main differences between lists and tuples are: Lists are enclosed in brackets ( [ ] ) and their elements and size can be changed, while tuples are enclosed in parentheses ( ( ) ) and cannot be updated, i.e., immutable. Tuples can be thought of as read-only lists. For example:"
      ]
    },
    {
      "cell_type": "code",
      "metadata": {
        "deletable": true,
        "editable": true,
        "jupyter": {
          "outputs_hidden": false
        },
        "id": "lj4n7x01x77E",
        "outputId": "7c0d7758-9003-447a-9d32-318e0041b718"
      },
      "source": [
        "tuple = ( 'abcd', 786 , 2.23, 'john', 70.2  )\n",
        "tinytuple = (123, 'john')\n",
        "\n",
        "print (tuple          ) # Prints complete list\n",
        "print (tuple[0]     )   # Prints first element of the list\n",
        "print (tuple[4:0])      # Prints elements starting from 2nd till 3rd \n",
        "print (tuple[2:] )      # Prints elements starting from 3rd element\n",
        "#tuple[3] = 'cat'\n",
        "#print (tinytuple * 2)   # Prints list two times\n",
        "#print (tuple + tinytuple) # Prints concatenated lists"
      ],
      "execution_count": null,
      "outputs": [
        {
          "output_type": "stream",
          "text": [
            "('abcd', 786, 2.23, 'john', 70.2)\n",
            "abcd\n",
            "()\n",
            "(2.23, 'john', 70.2)\n"
          ],
          "name": "stdout"
        }
      ]
    },
    {
      "cell_type": "markdown",
      "metadata": {
        "deletable": true,
        "editable": true,
        "id": "fzsLV3nmx77E"
      },
      "source": [
        "Following is invalid with tuple, because we attempted to update a tuple, which is not allowed. Similar case is possible with lists:"
      ]
    },
    {
      "cell_type": "code",
      "metadata": {
        "deletable": true,
        "editable": true,
        "jupyter": {
          "outputs_hidden": false
        },
        "id": "hOFYPcXbx77E",
        "outputId": "9248f860-3b45-4cbb-8eea-c3cd806a5c10"
      },
      "source": [
        "tuple = ( 'abcd', 786 , 2.23, 'john', 70.2  )\n",
        "for t in tuple:\n",
        "    print(t)\n",
        "del tuple\n",
        "\n",
        "tp = ('a','b','c')\n",
        "cp=''.join(tp)\n",
        "print(type(cp))"
      ],
      "execution_count": null,
      "outputs": [
        {
          "output_type": "stream",
          "text": [
            "abcd\n",
            "786\n",
            "2.23\n",
            "john\n",
            "70.2\n",
            "<class 'str'>\n"
          ],
          "name": "stdout"
        }
      ]
    },
    {
      "cell_type": "markdown",
      "metadata": {
        "deletable": true,
        "editable": true,
        "id": "Ywgw3CDlx77E"
      },
      "source": [
        "### 2.2.5 Python Dictionary:"
      ]
    },
    {
      "cell_type": "code",
      "metadata": {
        "id": "DIwAjZ7_x77E",
        "outputId": "c5e81ae2-5318-4e4a-a14b-e3bcb9690f51"
      },
      "source": [
        "v=1,2,3,4\n",
        "print(type(v))"
      ],
      "execution_count": null,
      "outputs": [
        {
          "output_type": "stream",
          "text": [
            "<class 'tuple'>\n"
          ],
          "name": "stdout"
        }
      ]
    },
    {
      "cell_type": "code",
      "metadata": {
        "id": "hQsqX_zvx77E",
        "outputId": "870a3561-ef91-4ffa-8a66-e0429b8a8ad8"
      },
      "source": [
        "dk = {'name':'Zhibo Zhang','age':25,'affiliation':'UMBC'}\n",
        "print(dk['age'])\n",
        "season = {'Spring':[3,4,5],'Summer':[6,7,8],'Fall':[9,10,11],'Winter':[12,1,2]}\n",
        "print(season.keys())\n",
        "print(season.values())\n",
        "print(season.items())"
      ],
      "execution_count": null,
      "outputs": [
        {
          "output_type": "stream",
          "text": [
            "25\n",
            "dict_keys(['Spring', 'Summer', 'Fall', 'Winter'])\n",
            "dict_values([[3, 4, 5], [6, 7, 8], [9, 10, 11], [12, 1, 2]])\n",
            "dict_items([('Spring', [3, 4, 5]), ('Summer', [6, 7, 8]), ('Fall', [9, 10, 11]), ('Winter', [12, 1, 2])])\n"
          ],
          "name": "stdout"
        }
      ]
    },
    {
      "cell_type": "code",
      "metadata": {
        "id": "WNJPE16gx77F"
      },
      "source": [
        "dk['name'] = ['zhibo','Mike']\n",
        "dk['age'] = [35, 40]\n",
        "dk['affiliation'] = ['UMBC','JCET']"
      ],
      "execution_count": null,
      "outputs": []
    },
    {
      "cell_type": "code",
      "metadata": {
        "id": "jcI68V16x77F",
        "outputId": "85789416-3b7d-4220-ef37-187f54469258"
      },
      "source": [
        "for k,v in season.items():\n",
        "    print(k,v)"
      ],
      "execution_count": null,
      "outputs": [
        {
          "output_type": "stream",
          "text": [
            "Spring [3, 4, 5]\n",
            "Summer [6, 7, 8]\n",
            "Fall [9, 10, 11]\n",
            "Winter [12, 1, 2]\n"
          ],
          "name": "stdout"
        }
      ]
    },
    {
      "cell_type": "code",
      "metadata": {
        "id": "GsBfJbfVx77F",
        "outputId": "a7391820-43e4-471e-d85b-9b9cf346aacd"
      },
      "source": [
        "dk2 = {'first':[],'second':[],'third':[]}\n",
        "dk2['first'] = '1'\n",
        "print(dk2)"
      ],
      "execution_count": null,
      "outputs": [
        {
          "output_type": "stream",
          "text": [
            "{'first': '1', 'second': [], 'third': []}\n"
          ],
          "name": "stdout"
        }
      ]
    },
    {
      "cell_type": "code",
      "metadata": {
        "id": "hxIC_M7ix77F",
        "outputId": "d792a646-4ac8-43ef-8cc9-6d320c033a08"
      },
      "source": [
        "print(season['Fall'])\n",
        "mon = 5\n",
        "for (k,v) in season.items():\n",
        "    print(k,v)\n",
        "    if mon in v:\n",
        "        print('month',mon, 'is in',k)\n"
      ],
      "execution_count": null,
      "outputs": [
        {
          "output_type": "stream",
          "text": [
            "[9, 10, 11]\n",
            "Spring [3, 4, 5]\n",
            "month 5 is in Spring\n",
            "Summer [6, 7, 8]\n",
            "Fall [9, 10, 11]\n",
            "Winter [12, 1, 2]\n"
          ],
          "name": "stdout"
        }
      ]
    },
    {
      "cell_type": "markdown",
      "metadata": {
        "deletable": true,
        "editable": true,
        "id": "z7Ew3erhx77F"
      },
      "source": [
        "Python's dictionaries are kind of hash table type. They work like associative arrays or hashes found in Perl and consist of key-value pairs. A dictionary key can be almost any Python type, but are usually numbers or strings. Values, on the other hand, can be any arbitrary Python object.\n",
        "\n",
        "Dictionaries are enclosed by curly braces ( { } ) and values can be assigned and accessed using square braces ( [] ). For example:"
      ]
    },
    {
      "cell_type": "code",
      "metadata": {
        "deletable": true,
        "editable": true,
        "jupyter": {
          "outputs_hidden": false
        },
        "id": "vUMhLV3Yx77F",
        "outputId": "b34394ad-6826-4443-bac6-757ec5e2e056"
      },
      "source": [
        "dict = {}\n",
        "dict['one'] = \"This is one\"\n",
        "dict[2]     = \"This is two\"\n",
        "dict['three'] = 'this is three'\n",
        "print(dict['one'])\n",
        "tinydict = {'name': 'john','code':6734, 'dept': 'sales'}\n",
        "print(tinydict['name'])\n",
        "print(tinydict.keys())\n",
        "print(tinydict.values())\n",
        "print(tinydict.items())\n",
        "\n",
        "for (k,v) in tinydict.items():\n",
        "    print(k,v)\n"
      ],
      "execution_count": null,
      "outputs": [
        {
          "output_type": "stream",
          "text": [
            "This is one\n",
            "john\n",
            "dict_keys(['name', 'code', 'dept'])\n",
            "dict_values(['john', 6734, 'sales'])\n",
            "dict_items([('name', 'john'), ('code', 6734), ('dept', 'sales')])\n",
            "name john\n",
            "code 6734\n",
            "dept sales\n"
          ],
          "name": "stdout"
        }
      ]
    },
    {
      "cell_type": "markdown",
      "metadata": {
        "deletable": true,
        "editable": true,
        "id": "vwevLx8px77F"
      },
      "source": [
        "### 2.2.6 Data Type Conversion:"
      ]
    },
    {
      "cell_type": "markdown",
      "metadata": {
        "deletable": true,
        "editable": true,
        "id": "3aj3eLAZx77F"
      },
      "source": [
        "Sometimes, you may need to perform conversions between the built-in types. To convert between types, you simply use the type name as a function.\n",
        "\n",
        "There are several built-in functions to perform conversion from one data type to another. These functions return a new object representing the converted value."
      ]
    },
    {
      "cell_type": "markdown",
      "metadata": {
        "deletable": true,
        "editable": true,
        "id": "iaLK3xlVx77F"
      },
      "source": [
        "\n",
        "**int(x [,base])**\n",
        "\n",
        "Converts x to an integer. base specifies the base if x is a string.\n",
        "\n",
        "**long(x [,base] )**\n",
        "\n",
        "Converts x to a long integer. base specifies the base if x is a string.\n",
        "\n",
        "**float(x)**\n",
        "\n",
        "Converts x to a floating-point number.\n",
        "\n",
        "**complex(real [,imag])**\n",
        "\n",
        "Creates a complex number.\n",
        "\n",
        "**str(x)**\n",
        "\n",
        "Converts object x to a string representation.\n",
        "\n",
        "**tuple(s)**\n",
        "\n",
        "Converts s to a tuple.\n",
        "\n",
        "**list(s)**\n",
        "\n",
        "Converts s to a list.\n",
        "\n",
        "**dict(d)**\n",
        "\n",
        "Creates a dictionary. d must be a sequence of (key,value) tuples.\n",
        "\n",
        "** * **"
      ]
    },
    {
      "cell_type": "markdown",
      "metadata": {
        "deletable": true,
        "editable": true,
        "id": "2Fza0toYx77F"
      },
      "source": [
        "## 3) Python Basic Operators"
      ]
    },
    {
      "cell_type": "markdown",
      "metadata": {
        "deletable": true,
        "editable": true,
        "id": "ow2N0nyrx77F"
      },
      "source": [
        "Python language supports the following types of operators.\n",
        "\n",
        "**Arithmetic Operators**\n",
        "\n",
        "**Assignment Operators**\n",
        "\n",
        "\n",
        "**Comparison (i.e., Relational) Operators**\n",
        "\n",
        "**Logical Operators**\n",
        "\n",
        "**Bitwise Operators**\n",
        "\n",
        "**Membership Operators**\n",
        "\n",
        "**Identity Operators**\n",
        "\n",
        "Let's have an overview  on the first three\n"
      ]
    },
    {
      "cell_type": "markdown",
      "metadata": {
        "deletable": true,
        "editable": true,
        "id": "JalshxwNx77F"
      },
      "source": [
        "### 3.1 Python Arithmetic Operators:"
      ]
    },
    {
      "cell_type": "markdown",
      "metadata": {
        "deletable": true,
        "editable": true,
        "id": "YeJATEumx77G"
      },
      "source": [
        "<font color='red'> + </font> : Addition - Adds values on either side of the operator"
      ]
    },
    {
      "cell_type": "markdown",
      "metadata": {
        "deletable": true,
        "editable": true,
        "id": "oPK5PLNEx77G"
      },
      "source": [
        "<font color='red'> - </font>  : Subtraction - Subtracts right hand operand from left hand operand"
      ]
    },
    {
      "cell_type": "markdown",
      "metadata": {
        "deletable": true,
        "editable": true,
        "id": "ut0BjPqVx77G"
      },
      "source": [
        "<font color='red'> * </font> : Multiplication - Multiplies values on either side of the operator"
      ]
    },
    {
      "cell_type": "markdown",
      "metadata": {
        "deletable": true,
        "editable": true,
        "id": "MtspnqdRx77G"
      },
      "source": [
        "<font color='red'> / </font> : Division - Divides left hand operand by right hand operand"
      ]
    },
    {
      "cell_type": "code",
      "metadata": {
        "jupyter": {
          "outputs_hidden": false
        },
        "id": "rDq6y-ddx77G",
        "outputId": "b26a8f09-009d-45bd-9318-22ec92a0cc3f"
      },
      "source": [
        "from __future__ import division\n",
        "7/3"
      ],
      "execution_count": null,
      "outputs": [
        {
          "output_type": "execute_result",
          "data": {
            "text/plain": [
              "2.3333333333333335"
            ]
          },
          "metadata": {
            "tags": []
          },
          "execution_count": 41
        }
      ]
    },
    {
      "cell_type": "markdown",
      "metadata": {
        "deletable": true,
        "editable": true,
        "id": "30CJlXVCx77G"
      },
      "source": [
        "<font color='red'> % </font> : Modulus - Divides left hand operand by right hand operand and returns remainder"
      ]
    },
    {
      "cell_type": "code",
      "metadata": {
        "jupyter": {
          "outputs_hidden": false
        },
        "id": "a2vmu035x77G",
        "outputId": "2ae8230a-88be-4e4d-f029-0b7f27e57642"
      },
      "source": [
        "7%3"
      ],
      "execution_count": null,
      "outputs": [
        {
          "output_type": "execute_result",
          "data": {
            "text/plain": [
              "1"
            ]
          },
          "metadata": {
            "tags": []
          },
          "execution_count": 42
        }
      ]
    },
    {
      "cell_type": "markdown",
      "metadata": {
        "deletable": true,
        "editable": true,
        "id": "mhNOoX2fx77G"
      },
      "source": [
        "<font color='red'> **  </font> : Exponent - Performs exponential (power) calculation on operators"
      ]
    },
    {
      "cell_type": "markdown",
      "metadata": {
        "deletable": true,
        "editable": true,
        "id": "d7sQEQGDx77G"
      },
      "source": [
        "<font color='red'>// </font> : Floor Division - The division of operands where the result is the quotient in which the digits after the decimal point are removed."
      ]
    },
    {
      "cell_type": "code",
      "metadata": {
        "id": "BAF-UMmix77G",
        "outputId": "fb0d3ec9-32b9-407f-c3ad-0d1df6fd4317"
      },
      "source": [
        "3**2"
      ],
      "execution_count": null,
      "outputs": [
        {
          "output_type": "execute_result",
          "data": {
            "text/plain": [
              "9"
            ]
          },
          "metadata": {
            "tags": []
          },
          "execution_count": 12
        }
      ]
    },
    {
      "cell_type": "code",
      "metadata": {
        "jupyter": {
          "outputs_hidden": false
        },
        "id": "ELlhrsYjx77G",
        "outputId": "9ca46585-3f48-4906-9baa-c0cfadc20e62"
      },
      "source": [
        "6.3//3"
      ],
      "execution_count": null,
      "outputs": [
        {
          "output_type": "execute_result",
          "data": {
            "text/plain": [
              "2.0"
            ]
          },
          "metadata": {
            "tags": []
          },
          "execution_count": 44
        }
      ]
    },
    {
      "cell_type": "code",
      "metadata": {
        "deletable": true,
        "editable": true,
        "jupyter": {
          "outputs_hidden": false
        },
        "id": "sp9bsWwyx77G",
        "outputId": "1246a813-d03b-464d-d887-db22d3fc33c8"
      },
      "source": [
        "#from __future__ import division print_function\n",
        "a = 21\n",
        "b = 10\n",
        "c = 0\n",
        "\n",
        "c = a + b\n",
        "print (\"Line 1 - Value of c is \", c)\n",
        "\n",
        "c = a - b\n",
        "print (\"Line 2 - Value of c is \", c) \n",
        "\n",
        "c = a * b\n",
        "print (\"Line 3 - Value of c is \", c )\n",
        "\n",
        "c = a / b\n",
        "print (\"Line 4 - Value of c is \", c )\n",
        "\n",
        "c = a % b\n",
        "print (\"Line 5 - Value of c is \", c)\n",
        "\n",
        "a = 2\n",
        "b = 3\n",
        "c = a**b \n",
        "print (\"Line 6 - Value of c is \", c)\n",
        "\n",
        "a = 13\n",
        "b = 6\n",
        "c = a//b \n",
        "print(\"Line 7 - Value of c is \", c)"
      ],
      "execution_count": null,
      "outputs": [
        {
          "output_type": "stream",
          "text": [
            "Line 1 - Value of c is  31\n",
            "Line 2 - Value of c is  11\n",
            "Line 3 - Value of c is  210\n",
            "Line 4 - Value of c is  2.1\n",
            "Line 5 - Value of c is  1\n",
            "Line 6 - Value of c is  8\n",
            "Line 7 - Value of c is  2\n"
          ],
          "name": "stdout"
        }
      ]
    },
    {
      "cell_type": "markdown",
      "metadata": {
        "deletable": true,
        "editable": true,
        "id": "ZUZrRvjXx77H"
      },
      "source": [
        " **Be careful** about the 'division'. In Python 2.x, the operator '/'  is **integer division** if inputs are integers. \n",
        "See the examples below:"
      ]
    },
    {
      "cell_type": "code",
      "metadata": {
        "deletable": true,
        "editable": true,
        "jupyter": {
          "outputs_hidden": false
        },
        "id": "sSl1GRWTx77H",
        "outputId": "7cd51b5b-0512-46d9-af84-fdc63bd35161"
      },
      "source": [
        "print (\"5/3=\" , 5/3 )\n",
        "print (\"5.0/3.0 = \",  5.0/3.0)\n",
        "a,b=7,3\n",
        "print (a,b, a/b)\n",
        "\n",
        "3+80.343"
      ],
      "execution_count": null,
      "outputs": [
        {
          "output_type": "stream",
          "text": [
            "5/3= 1.6666666666666667\n",
            "5.0/3.0 =  1.6666666666666667\n",
            "7 3 2.3333333333333335\n"
          ],
          "name": "stdout"
        },
        {
          "output_type": "execute_result",
          "data": {
            "text/plain": [
              "83.343"
            ]
          },
          "metadata": {
            "tags": []
          },
          "execution_count": 46
        }
      ]
    },
    {
      "cell_type": "markdown",
      "metadata": {
        "deletable": true,
        "editable": true,
        "id": "uLEw0cuRx77H"
      },
      "source": [
        "### 3.2 Python Assignment Operators:"
      ]
    },
    {
      "cell_type": "markdown",
      "metadata": {
        "deletable": true,
        "editable": true,
        "id": "mSdyXGcRx77H"
      },
      "source": [
        "<font color='red'>= </font>     :Simple assignment operator <br>       Assigns values from right side operands to left side operand <br>      c = a + b will assigne value of a + b into c  <br> <br>\n",
        "<font color='red'>+=</font>\t:Add AND assignment operator <br>  It adds right operand to the left operand and assign the result to left operand <br>\t c += a is equivalent to c = c + a <br><br>\n",
        "<font color='red'>-=</font>\t :Subtract AND assignment operator <br> It subtracts right operand from the left operand and assign the result to left operand\t<br>  c -= a is equivalent to c = c - a <br><br>\n",
        "<font color='red'>**=</font>\t:Multiply AND assignment operator <br>It multiplies right operand with the left operand and assign the result to left operand <br> c *= a is equivalent to c = c * a <br><br>\n",
        "<font color='red'>/=</font>\t:Divide AND assignment operator <br> It divides left operand with the right operand and assign the result to left operand <br>\t c /= a is equivalent to c = c / a <br><br>\n",
        "<font color='red'>%=</font>\t:Modulus AND assignment operator <br> It takes modulus using two operands and assign the result to left operand\t<br> c %= a is equivalent to c = c % a <br><br>\n",
        "<font color='red'>****=</font> :Exponent AND assignment operator <br> Performs exponential (power) calculation on operators and assign value to the left operand<br>\t c **= a is equivalent to c = c ** a <br><br>\n",
        "<font color='red'>//=</font>\t:Floor Dividion and assigns a value <br> Performs floor division on operators and assign value to the left operand\t<br>  c //= a is equivalent to c = c // a <br>\n"
      ]
    },
    {
      "cell_type": "code",
      "metadata": {
        "deletable": true,
        "editable": true,
        "jupyter": {
          "outputs_hidden": false
        },
        "id": "VPJAS2wRx77H",
        "outputId": "ae873f91-3754-4770-bc7a-89b1ace51620"
      },
      "source": [
        "a = 2\n",
        "b = 3\n",
        "c = 0\n",
        "\n",
        "c = a + b\n",
        "print (\"Line 1 - Value of c is \", c)\n",
        "\n",
        "c += a \n",
        "\n",
        "print (\"Line 2 - Value of c is \", c)\n",
        "\n",
        "c *= a\n",
        "print (\"Line 3 - Value of c is \", c) \n",
        "\n",
        "c /= a \n",
        "print (\"Line 4 - Value of c is \", c) \n",
        "\n",
        "c  = 45\n",
        "c %= a\n",
        "print (\"Line 5 - Value of c is \", c)\n",
        "\n",
        "c = 2\n",
        "a = 3\n",
        "c **= a\n",
        "print (\"Line 6 - Value of c is \", c)\n",
        "\n",
        "c = 8.7\n",
        "a = 3\n",
        "c //= a\n",
        "print (\"Line 7 - Value of c is \", c)"
      ],
      "execution_count": null,
      "outputs": [
        {
          "output_type": "stream",
          "text": [
            "Line 1 - Value of c is  5\n",
            "Line 2 - Value of c is  7\n",
            "Line 3 - Value of c is  14\n",
            "Line 4 - Value of c is  7.0\n",
            "Line 5 - Value of c is  1\n",
            "Line 6 - Value of c is  8\n",
            "Line 7 - Value of c is  2.0\n"
          ],
          "name": "stdout"
        }
      ]
    },
    {
      "cell_type": "markdown",
      "metadata": {
        "deletable": true,
        "editable": true,
        "id": "V97ikxKix77H"
      },
      "source": [
        "### 3.3 Python Comparison Operators"
      ]
    },
    {
      "cell_type": "markdown",
      "metadata": {
        "deletable": true,
        "editable": true,
        "id": "63k7PGOWx77H"
      },
      "source": [
        "Asuming a=10, b=20 <br><br>\n",
        "<font color='red'>==</font>\t :Checks if the value of two operands are equal or not, if yes then condition becomes true. <br>\t (a == b) is not true. <br> <br>\n",
        "<font color='red'>!=</font>\t\t :Checks if the value of two operands are equal or not, if values are not equal then condition becomes true. <br>\t (a != b) is true. <br> <br>\n",
        "\n",
        " <font color='red'>></font>\t\t :Checks if the value of left operand is greater than the value of right operand, if yes then condition becomes true. <br>\t (a > b) is not true. <br> <br>\n",
        " <font color='red'><</font>\t\t :Checks if the value of left operand is less than the value of right operand, if yes then condition becomes true. <br>\t (a < b) is true. <br> <br>\n",
        " <font color='red'>>=</font>\t\t :Checks if the value of left operand is greater than or equal to the value of right operand, if yes then condition becomes true. <br>  (a >= b) is not true. <br> <br>\n",
        "  <font color='red'><=</font>\t\t :Checks if the value of left operand is less than or equal to the value of right operand, if yes then condition becomes true.\t<br>  (a <= b) is true. <br>"
      ]
    },
    {
      "cell_type": "code",
      "metadata": {
        "deletable": true,
        "editable": true,
        "jupyter": {
          "outputs_hidden": false
        },
        "id": "LQc7mt43x77H",
        "outputId": "9c8ca6ff-e1f4-4b23-f7d6-6e733693e40b"
      },
      "source": [
        "a = 21\n",
        "b = 10\n",
        "c = 0\n",
        "\n",
        "if ( a == b ):\n",
        "   print (\"Line 1 - a is equal to b\")\n",
        "else:\n",
        "   print (\"Line 1 - a is not equal to b\")\n",
        "\n",
        "if ( a != b ):\n",
        "   print (\"Line 2 - a is not equal to b\")\n",
        "else:\n",
        "   print (\"Line 2 - a is equal to b\")\n",
        "\n",
        "# if ( a <> b ):\n",
        "#     print (\"Line 3 - a is not equal to b\")\n",
        "# else:\n",
        "#     print (\"Line 3 - a is equal to b\")\n",
        "\n",
        "if ( a < b ):\n",
        "   print (\"Line 4 - a is less than b\" )\n",
        "else:\n",
        "   print (\"Line 4 - a is not less than b\")\n",
        "\n",
        "if ( a > b ):\n",
        "   print (\"Line 5 - a is greater than b\")\n",
        "else:\n",
        "   print (\"Line 5 - a is not greater than b\")\n",
        "\n",
        "a = 5;\n",
        "b = 20;\n",
        "if ( a <= b ):\n",
        "   print (\"Line 6 - a is either less than or equal to  b\")\n",
        "else:\n",
        "   print (\"Line 6 - a is neither less than nor equal to  b\")\n",
        "\n",
        "if ( b >= a ):\n",
        "   print (\"Line 7 - b is either greater than  or equal to b\")\n",
        "else:\n",
        "   print (\"Line 7 - b is neither greater than  nor equal to b\")"
      ],
      "execution_count": null,
      "outputs": [
        {
          "output_type": "stream",
          "text": [
            "Line 1 - a is not equal to b\n",
            "Line 2 - a is not equal to b\n",
            "Line 4 - a is not less than b\n",
            "Line 5 - a is greater than b\n",
            "Line 6 - a is either less than or equal to  b\n",
            "Line 7 - b is either greater than  or equal to b\n"
          ],
          "name": "stdout"
        }
      ]
    },
    {
      "cell_type": "markdown",
      "metadata": {
        "deletable": true,
        "editable": true,
        "id": "Q6b8BEIVx77I"
      },
      "source": [
        "### 3.4 Python Logical Operators:"
      ]
    },
    {
      "cell_type": "markdown",
      "metadata": {
        "deletable": true,
        "editable": true,
        "id": "qUBuhw7Qx77I"
      },
      "source": [
        "assuming a=10, b=20\n",
        "\n",
        "<font color='red'>and</font>\t :Called Logical AND operator. If both the operands are true then then condition becomes true.<br>  (a and b) is true.<br> <br> \n",
        "<font color='red'>or</font>\t:Called Logical OR Operator. If any of the two operands are non zero then then condition becomes true.<br> \t (a or b) is true.<br> <br> \n",
        "<font color='red'>not</font>\t:Called Logical NOT Operator. Use to reverses the logical state of its operand. If a condition is true then Logical NOT operator will make false.\t<br>  not(a and b) is false."
      ]
    },
    {
      "cell_type": "code",
      "metadata": {
        "deletable": true,
        "editable": true,
        "jupyter": {
          "outputs_hidden": false
        },
        "id": "FyrcIvwfx77I",
        "outputId": "098f64ca-b004-4858-a09b-f214976de04f"
      },
      "source": [
        "a = False\n",
        "b = True\n",
        "c = 0\n",
        "\n",
        "if ( a and b ):\n",
        "    print (\"Line 1 - a and b are both true\")\n",
        "else:\n",
        "    print (\"Line 1 - Either a is not true or b is not true\")\n",
        "\n",
        "if ( a or b ):\n",
        "    print (\"Line 2 - Either a is true or b is true or both are true\")\n",
        "else:\n",
        "    print (\"Line 2 - Neither a is true nor b is true\")\n",
        "\n",
        "if not a:\n",
        "    print (\"Line 3 - a is False\")\n",
        "else:\n",
        "    print (\"Line 3 - a is Ttrue\")\n",
        "\n",
        "if not ( a and b ):\n",
        "    print (\"Line 4 - a and b are not both true\")\n",
        "else:\n",
        "    print (\"Line 4 - a and b are both true\")\n",
        "\n"
      ],
      "execution_count": null,
      "outputs": [
        {
          "output_type": "stream",
          "text": [
            "Line 1 - Either a is not true or b is not true\n",
            "Line 2 - Either a is true or b is true or both are true\n",
            "Line 3 - a is False\n",
            "Line 4 - a and b are not both true\n"
          ],
          "name": "stdout"
        }
      ]
    },
    {
      "cell_type": "markdown",
      "metadata": {
        "deletable": true,
        "editable": true,
        "id": "jEvl8ebpx77I"
      },
      "source": [
        "## 4) Python Decision Making"
      ]
    },
    {
      "cell_type": "markdown",
      "metadata": {
        "deletable": true,
        "editable": true,
        "id": "49vrgO0Ax77I"
      },
      "source": [
        "Decision making structures require that the programmer specify one or more conditions to be evaluated or tested by the program, along with a statement or statements to be executed if the condition is determined to be true, and optionally, other statements to be executed if the condition is determined to be false.\n",
        "\n",
        "Python programming language assumes any **non-zero** and **non-null** values as **true**, and if it is either **zero or null**, then it is assumed as **false** value."
      ]
    },
    {
      "cell_type": "markdown",
      "metadata": {
        "deletable": true,
        "editable": true,
        "id": "D_McvlJ0x77I"
      },
      "source": [
        "### 4.1 \"if\" statement"
      ]
    },
    {
      "cell_type": "markdown",
      "metadata": {
        "deletable": true,
        "editable": true,
        "id": "KVEhYc6Dx77I"
      },
      "source": [
        "4.1.1 ***if*** Syntax: <br>\n",
        "if expression: <br> \n",
        "<pre>statement(s)</pre> "
      ]
    },
    {
      "cell_type": "code",
      "metadata": {
        "deletable": true,
        "editable": true,
        "jupyter": {
          "outputs_hidden": false
        },
        "id": "-njviI22x77I"
      },
      "source": [
        "# var1 = 300\n",
        "# var2 = 200\n",
        "# if (var1>=var2): # do not forget the colon \":\"\n",
        "#     print \"1 - Got a true expression value\"\n",
        "#     print var1\n",
        "\n",
        "# if var1<=var2: print 'hi'\n",
        "\n",
        "var2 = 0\n",
        "a= 5>8\n",
        "if a :\n",
        "    print (\"2 - Got a true expression value\")\n",
        "    print (var2)\n",
        "    print (\"Good bye!\")\n",
        "    print ('end')"
      ],
      "execution_count": null,
      "outputs": []
    },
    {
      "cell_type": "markdown",
      "metadata": {
        "deletable": true,
        "editable": true,
        "id": "wfXJSaxDx77I"
      },
      "source": [
        "4.1.2 ***if... else...*** Syntax: <br>\n",
        "    if expression: <br>\n",
        "<pre>statement(s) </pre><br>\n",
        "else:\n",
        "<pre> statement(s) </pre>\n",
        "       "
      ]
    },
    {
      "cell_type": "code",
      "metadata": {
        "deletable": true,
        "editable": true,
        "jupyter": {
          "outputs_hidden": false
        },
        "id": "E1XYcnjkx77I",
        "outputId": "55093f2e-6f13-4797-848f-160cb0ca3a07"
      },
      "source": [
        "var1 = 10\n",
        "var2 = 6\n",
        "if var1>100:\n",
        "    print (\"1 - Got a true expression value\")\n",
        "    print (var1)\n",
        "    if var2 == 6:\n",
        "        print ('var2=',var2)\n",
        "else:\n",
        "    print (\"1 - Got a false expression value\")\n",
        "    print (var1)\n",
        "\n",
        "# var2 = 0\n",
        "# if var2:\n",
        "#    print \"2 - Got a true expression value\"\n",
        "#    print var2\n",
        "# else:\n",
        "#    print \"2 - Got a false expression value\"\n",
        "#    print var2\n",
        "\n",
        "# print \"Good bye!\""
      ],
      "execution_count": null,
      "outputs": [
        {
          "output_type": "stream",
          "text": [
            "1 - Got a false expression value\n",
            "10\n"
          ],
          "name": "stdout"
        }
      ]
    },
    {
      "cell_type": "markdown",
      "metadata": {
        "deletable": true,
        "editable": true,
        "id": "4h1sQ4Lrx77I"
      },
      "source": [
        "4.1.2 ***if... elif... else...*** Syntax: <br>\n",
        "\n",
        "if expression1:\n",
        "<pre>statement(s)</pre>\n",
        "<pre>if expression2:</pre>\n",
        "<pre><pre>statement(s)</pre></pre>\n",
        "  <pre>elif expression3:</pre>\n",
        "     <pre> <pre>statement(s)</pre></pre>\n",
        "    <pre>else</pre>\n",
        "     <pre> statement(s)</pre>\n",
        "elif expression4:\n",
        "   <pre>statement(s)</pre>\n",
        "else:\n",
        "<pre>statement(s)</pre>"
      ]
    },
    {
      "cell_type": "code",
      "metadata": {
        "deletable": true,
        "editable": true,
        "jupyter": {
          "outputs_hidden": false
        },
        "id": "0vpG12iAx77I",
        "outputId": "16f863d8-3ba3-415a-f5a8-4c029317e5d8"
      },
      "source": [
        "var = 600\n",
        "if var < 200:\n",
        "    print (\"Expression value is less than 200\")\n",
        "    if var == 150: print (\"Which is 150\")\n",
        "    if var == 100: print (\"Which is 100\")\n",
        "    if var == 50:   print (\"Which is 50\")\n",
        "    if var == 6000: print (\"which is 6000\")\n",
        "elif (var < 2000):\n",
        "    print (\"Expression value is larger than 200 and smaller than 2000\")\n",
        "else:\n",
        "    print (\"Could not find true expression\")\n",
        "    print (\"Good bye!\")"
      ],
      "execution_count": null,
      "outputs": [
        {
          "output_type": "stream",
          "text": [
            "Expression value is larger than 200 and smaller than 2000\n"
          ],
          "name": "stdout"
        }
      ]
    },
    {
      "cell_type": "markdown",
      "metadata": {
        "deletable": true,
        "editable": true,
        "id": "DpAgrw2ax77J"
      },
      "source": [
        "## 5) Python Loops"
      ]
    },
    {
      "cell_type": "markdown",
      "metadata": {
        "deletable": true,
        "editable": true,
        "id": "fRWAFEy1x77J"
      },
      "source": [
        "There may be a situation when you need to execute a block of code several number of times. In general, statements are executed sequentially: The first statement in a function is executed first, followed by the second, and so on.\n"
      ]
    },
    {
      "cell_type": "markdown",
      "metadata": {
        "deletable": true,
        "editable": true,
        "id": "QVljM99Wx77J"
      },
      "source": [
        "Python programming language provides following types of loops to handle looping requirements. Click the following links to check their detail."
      ]
    },
    {
      "cell_type": "markdown",
      "metadata": {
        "deletable": true,
        "editable": true,
        "id": "Pg5x6gWtx77J"
      },
      "source": [
        "### 5.1  \"while\" loop"
      ]
    },
    {
      "cell_type": "markdown",
      "metadata": {
        "deletable": true,
        "editable": true,
        "id": "yKPBqD-Jx77J"
      },
      "source": [
        "A while loop statement in Python programming language repeatedly executes a target statement as long as a given condition is true."
      ]
    },
    {
      "cell_type": "markdown",
      "metadata": {
        "deletable": true,
        "editable": true,
        "id": "bPtRGxMUx77J"
      },
      "source": [
        "**Syntax:** <br>\n",
        "    **while** expression:\n",
        "<pre>statement(s)</pre>"
      ]
    },
    {
      "cell_type": "code",
      "metadata": {
        "deletable": true,
        "editable": true,
        "jupyter": {
          "outputs_hidden": false
        },
        "id": "dBMvDeUOx77J",
        "outputId": "9450081a-ef21-4d62-e8bd-28890892ed41"
      },
      "source": [
        "# while loop example:\n",
        "count = 0\n",
        "while count < 9:\n",
        "    print ('The count is:', count)\n",
        "    count += 2\n",
        "\n",
        "print (\"Good bye!\")"
      ],
      "execution_count": null,
      "outputs": [
        {
          "output_type": "stream",
          "text": [
            "The count is: 0\n",
            "The count is: 2\n",
            "The count is: 4\n",
            "The count is: 6\n",
            "The count is: 8\n",
            "Good bye!\n"
          ],
          "name": "stdout"
        }
      ]
    },
    {
      "cell_type": "markdown",
      "metadata": {
        "deletable": true,
        "editable": true,
        "id": "jPoYgm2gx77J"
      },
      "source": [
        "Python supports to have an **else** statement associated with a loop statement.\n",
        "\n",
        "If the **else** statement is used with a while loop, the **else** statement is executed when the condition becomes false.\n",
        "\n",
        "The following example illustrates the combination of an else statement with a while statement that prints a number as long as it is less than 5, otherwise else statement gets executed."
      ]
    },
    {
      "cell_type": "code",
      "metadata": {
        "deletable": true,
        "editable": true,
        "jupyter": {
          "outputs_hidden": false
        },
        "id": "50CEtpvZx77J",
        "outputId": "cb7c2018-4065-4f54-e3f3-1ea9927e7c65"
      },
      "source": [
        "count = 10\n",
        "while count < 5:\n",
        "    print (count, \" is  less than 5\")\n",
        "    count += 1\n",
        "else:\n",
        "    print (count, \" is not less than 5 ... loop finished\")\n",
        "\n",
        "print (\"after the while... else loop\")"
      ],
      "execution_count": null,
      "outputs": [
        {
          "output_type": "stream",
          "text": [
            "10  is not less than 5 ... loop finished\n",
            "after the while... else loop\n"
          ],
          "name": "stdout"
        }
      ]
    },
    {
      "cell_type": "code",
      "metadata": {
        "deletable": true,
        "editable": true,
        "jupyter": {
          "outputs_hidden": false
        },
        "id": "vJzEhd7wx77J",
        "outputId": "854fbdae-cc68-4776-bd7e-5332bff83e37"
      },
      "source": [
        "count = 0\n",
        "while count < 5:\n",
        "    count += 1\n",
        "    if count>=3:    \n",
        "        print('we got a 3')\n",
        "        break\n",
        "    print (count, \" is  less than 5\")\n",
        "else:\n",
        "    print (count, \" is not less than 5\")\n",
        "    \n",
        "print('while loop finished')"
      ],
      "execution_count": null,
      "outputs": [
        {
          "output_type": "stream",
          "text": [
            "1  is  less than 5\n",
            "2  is  less than 5\n",
            "we got a 3\n",
            "while loop finished\n"
          ],
          "name": "stdout"
        }
      ]
    },
    {
      "cell_type": "markdown",
      "metadata": {
        "deletable": true,
        "editable": true,
        "id": "-HKIPxo2x77J"
      },
      "source": [
        "###  5.2 \"for\" loop"
      ]
    },
    {
      "cell_type": "markdown",
      "metadata": {
        "deletable": true,
        "editable": true,
        "id": "ucdR6Rgcx77J"
      },
      "source": [
        "The for loop in Python has the ability to iterate over the items of any sequence, such as a list or a string."
      ]
    },
    {
      "cell_type": "markdown",
      "metadata": {
        "deletable": true,
        "editable": true,
        "id": "OWbfC9x6x77K"
      },
      "source": [
        "**Syntax:** <br>\n",
        "**for** iterating_var in sequence:\n",
        "<pre>statements(s)</pre>\n"
      ]
    },
    {
      "cell_type": "code",
      "metadata": {
        "deletable": true,
        "editable": true,
        "jupyter": {
          "outputs_hidden": false
        },
        "id": "eCyzna-sx77K",
        "outputId": "2695f5ea-f67b-41d1-a171-07194d197100"
      },
      "source": [
        "# for letter in 'Python':     # First Example\n",
        "#    print 'Current Letter :', letter\n",
        "\n",
        "fruits = ['banana', 'apple',  'mango']\n",
        "for f in fruits:        # Second Example\n",
        "    print ('Current fruit :', f)\n",
        "print (fruits)\n",
        "# print \"Good bye!\""
      ],
      "execution_count": null,
      "outputs": [
        {
          "output_type": "stream",
          "text": [
            "Current fruit : banana\n",
            "Current fruit : apple\n",
            "Current fruit : mango\n",
            "['banana', 'apple', 'mango']\n"
          ],
          "name": "stdout"
        }
      ]
    },
    {
      "cell_type": "code",
      "metadata": {
        "deletable": true,
        "editable": true,
        "jupyter": {
          "outputs_hidden": false
        },
        "id": "eR5mOajjx77K",
        "outputId": "30e0bec7-217a-47e4-edcd-80087b1f9868"
      },
      "source": [
        "print (range(3))\n",
        "fruits = ['banana', 'apple',  'mango']\n",
        "for index in range(3):    \n",
        "    print ('Current fruit #:', index,  fruits[index])\n",
        "\n",
        "# print \"Good bye!\""
      ],
      "execution_count": null,
      "outputs": [
        {
          "output_type": "stream",
          "text": [
            "range(0, 3)\n",
            "Current fruit #: 0 banana\n",
            "Current fruit #: 1 apple\n",
            "Current fruit #: 2 mango\n"
          ],
          "name": "stdout"
        }
      ]
    },
    {
      "cell_type": "markdown",
      "metadata": {
        "deletable": true,
        "editable": true,
        "id": "9qJap48Rx77K"
      },
      "source": [
        "**The else Statement Used with Loops**\n",
        "Python supports to have an **else** statement associated with a loop statement.\n",
        "\n",
        "If the **else** statement is used with a **for** loop, the **else** statement is executed when the loop has exhausted iterating the list.\n",
        "\n",
        "The following example illustrates the combination of an else statement with a for statement that searches for prime numbers from 10 through 20.\n"
      ]
    },
    {
      "cell_type": "code",
      "metadata": {
        "deletable": true,
        "editable": true,
        "jupyter": {
          "outputs_hidden": false
        },
        "id": "e1U0cSX4x77K",
        "outputId": "505ca50e-1599-40a8-87f4-22a307cb5387"
      },
      "source": [
        "for num in range(10,20):  #to iterate between 10 to 20\n",
        "    for i in range(2,num): #to iterate on the factors of the number\n",
        "        #print 'current i',i\n",
        "        if num%i == 0:      #to determine the first factor\n",
        "            j=num//i          #to calculate the second factor\n",
        "            print ('%d equals %d * %d' % (num,i,j))\n",
        "            break #to move to the next number, the #first FOR\n",
        "    else:                  # else part of the loop\n",
        "        print (num, 'is a prime number')"
      ],
      "execution_count": null,
      "outputs": [
        {
          "output_type": "stream",
          "text": [
            "10 equals 2 * 5\n",
            "11 is a prime number\n",
            "12 equals 2 * 6\n",
            "13 is a prime number\n",
            "14 equals 2 * 7\n",
            "15 equals 3 * 5\n",
            "16 equals 2 * 8\n",
            "17 is a prime number\n",
            "18 equals 2 * 9\n",
            "19 is a prime number\n"
          ],
          "name": "stdout"
        }
      ]
    },
    {
      "cell_type": "markdown",
      "metadata": {
        "deletable": true,
        "editable": true,
        "id": "LS0alUnVx77K"
      },
      "source": [
        "### 5.3 Loop Control Statements: break and continue"
      ]
    },
    {
      "cell_type": "markdown",
      "metadata": {
        "deletable": true,
        "editable": true,
        "id": "QDVqvg-3x77K"
      },
      "source": [
        "**break** statement: Terminates the loop statement and transfers execution to the statement immediately following the loop."
      ]
    },
    {
      "cell_type": "code",
      "metadata": {
        "deletable": true,
        "editable": true,
        "jupyter": {
          "outputs_hidden": false
        },
        "id": "ao-ZhC_Px77K",
        "outputId": "6f7d40d4-b691-4498-a975-1dbc557148fb"
      },
      "source": [
        "for letter in 'Python':     # First Example\n",
        "    if letter == 'h':\n",
        "        continue\n",
        "    print ('Current Letter :', letter)\n",
        "  \n",
        "# var = 10                    # Second Example\n",
        "# while var > 0:              \n",
        "#     print 'Current variable value :', var\n",
        "#     var -= 1\n",
        "#     if var == 5:\n",
        "#         break\n",
        "\n",
        "print (\"Good bye!\")"
      ],
      "execution_count": null,
      "outputs": [
        {
          "output_type": "stream",
          "text": [
            "Current Letter : P\n",
            "Current Letter : y\n",
            "Current Letter : t\n",
            "Current Letter : o\n",
            "Current Letter : n\n",
            "Good bye!\n"
          ],
          "name": "stdout"
        }
      ]
    },
    {
      "cell_type": "markdown",
      "metadata": {
        "deletable": true,
        "editable": true,
        "id": "WZyk5XShx77K"
      },
      "source": [
        "**continue** statement:Causes the loop to skip the remainder of its body and immediately retest its condition prior to reiterating."
      ]
    },
    {
      "cell_type": "code",
      "metadata": {
        "deletable": true,
        "editable": true,
        "jupyter": {
          "outputs_hidden": false
        },
        "id": "kz6gkQiNx77K",
        "outputId": "2a06c2fe-b7bf-4b06-b5f5-c69e7e7b6951"
      },
      "source": [
        "for letter in 'Python':     # First Example\n",
        "    if letter == 'h':\n",
        "        continue\n",
        "    print ('Current Letter :', letter)\n",
        "\n",
        "# var = 10                    # Second Example\n",
        "# while var > 0:              \n",
        "#     var = var -1\n",
        "#     if var == 5:\n",
        "#         continue\n",
        "#     print 'Current variable value :', var\n",
        "print (\"Good bye!\")"
      ],
      "execution_count": null,
      "outputs": [
        {
          "output_type": "stream",
          "text": [
            "Current Letter : P\n",
            "Current Letter : y\n",
            "Current Letter : t\n",
            "Current Letter : o\n",
            "Current Letter : n\n",
            "Good bye!\n"
          ],
          "name": "stdout"
        }
      ]
    }
  ]
}
