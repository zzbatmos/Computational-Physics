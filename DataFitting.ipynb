{
 "cells": [
  {
   "cell_type": "markdown",
   "metadata": {},
   "source": [
    "# Data Fitting (Least squares)\n",
    "#### Computational Physics\n",
    "#### Dr. Zhibo Zhang, Physics Department"
   ]
  },
  {
   "cell_type": "code",
   "execution_count": 6,
   "metadata": {},
   "outputs": [],
   "source": [
    "# Import the necessary libraries\n",
    "from __future__ import division, print_function\n",
    "import numpy as np\n",
    "import matplotlib.pyplot as plt\n",
    "import scipy.stats as stats\n",
    "from IPython.display import display, Image\n",
    "%matplotlib inline"
   ]
  },
  {
   "cell_type": "markdown",
   "metadata": {},
   "source": [
    "## 1. Introduction"
   ]
  },
  {
   "cell_type": "markdown",
   "metadata": {},
   "source": [
    "In physics, very often we need to investigate whether there is any potential connection between two (or more) phenomena (for example, increase of CO2 concentration in the atmosphere and the global warming), and if they are connected what are the underlying mechanisms. As a start, we usually make or are given some data that can help us characterize the phenomena (e.g., CO2 mixing ratio and global sea surface temperature). After we got data,  we need to \"fit\" a line or a curve through the data to find relations and build a **model** to describe the physics revealed by the data. This \"data fitting\" is a process of fitting a model (e.g., a straight line or a curve), expressed in terms of a mathematical function, that depends on adjustable parameters to a series of data points and once adjusted, that curve has the best fit to the data points.   \n",
    "\n",
    "The **model** can be an arbitrary class of functions such as polynomials and the fit would determine the polynomial coefficients to simplily summarize the data or the model parameters can represent a underlying theory that the data are supposed to satisfy such as fitting an exponential function to data of a decay process to determine its decay rate or a parabola to the position data of an object falling to determine the gravity acceleration.\n",
    "\n",
    "The general approach to the fitting procedure involves the definition of a merit function that measures the agreement between data and model. The model parameters are then adjusted to yield the best-fit parameters as a problem of minimization. A fitting procedure should provide \n",
    "1.  parameters, \n",
    "2. error estimates on the parameters, and \n",
    "3. a statistical measure of goodness-of-fit. \n",
    "\n",
    "When the third item suggests that the model is an unlikely match to the data, then items (1) and (2) are probably worthless.   \n",
    "\n",
    "\n"
   ]
  },
  {
   "cell_type": "markdown",
   "metadata": {},
   "source": [
    "### Statement of Problem and Basic Definitions"
   ]
  },
  {
   "cell_type": "markdown",
   "metadata": {},
   "source": [
    "#### Objectives\n",
    "Consider $ n $ data points $(x_i, y_i),\\: i=1, \\dots , n$, where $x_i$ is the independent variable (or predictor) and $y_i$ is the dependent variable (or response) to be fitted by a model function $y$ \n",
    "\n",
    "$$\n",
    "y=f(x | \\beta_1 \\dots \\beta_{m})\n",
    "$$\n",
    "\n",
    "where  $\\beta_i,\\: i=1, \\dots , m$.  are  $m$ adjustable parameters.\n",
    "\n",
    "**Our objective is to find an optimal set of parameter values for the model which \"best fits\" the data.**  But what do we mean by \"best fits\"?  \n",
    "\n",
    "#### Least Squares\n",
    "\n",
    "A classical solution is to find the best fit by minimizing the sum of the squared differences between data points and the model function (the sum of squared residuals as the merit function), which is known as the **least-squares fit**:\n",
    "$$ \n",
    "\\sum_{i=1}^{n} \\left[ y_i - f(x | \\beta_1 \\dots \\beta_{m}) \\right]^2 \\;\\;\\;\\;\\;\\; \\mathrm{minimize\\; over:} \\;\\;\\; \\beta_1 \\dots \\beta_{m} \n",
    "$$ \n",
    "\n",
    "As shown in the figure below, the least-squares are the sum of the vertical distances from each data point to the fitted curve. \n",
    "\n",
    "<img src=\"https://upload.wikimedia.org/wikipedia/commons/b/b0/Linear_least_squares_example2.svg\", width = 400>\n",
    "\n",
    "####Chi-Square\n",
    "In reality, all data have uncertainties and possibly errors. When fitting the data, we want to reduce the influnce of \"bad\" data point with large uncertainty. To accout for data uncertainty, we usually use the so-called Chi-square.\n",
    "\n",
    "If we consider that each response $y_i$ has a measurement error or uncertainty described by a standard deviation, $ \\sigma_i $, the problem now is to minimize the following function:\n",
    "\n",
    "$$  \\chi^2 = \\sum_{i=1}^{n} \\left[ \\frac{ y_i - f(x | \\beta_1 \\dots \\beta_{m}) }{\\sigma_i} \\right]^2  $$\n",
    "\n",
    "Considering that the residuals are normally distributed, the sum of squared residuals divided by their variance, $\\sigma_i^2$, by definition will have a [chi-squared distribution](http://en.wikipedia.org/wiki/Chi-squared_distribution), $ \\chi^2 $. Once the best-fit parameters are found, the terms in the sum above are not all statistically independent and the probability distribution of $\\chi^2$ will be the chi-squared distribution for $n-m$ degrees of freedom.\n",
    "\n",
    "The uncertainty $\\sigma_i$ can be seen as the inverse of the weights in a weighted sum (because less certainty we have about this measure). Larger $\\sigma_i$, smaller the weight of $y_i$ in the sum. If $y_i$ has no uncertainty, $\\sigma_i$ should be equal to one.   \n",
    "\n",
    "A rough estimate of the goodness of fit is the reduced chi-square statistic, $\\chi^2_{red}$: the $\\chi^2$ value divided by the number of degrees of freedom ($n-m$).   \n",
    "A good fitting should have $\\chi^2_{red}$ equals to one.\n",
    "\n",
    "$$  \\chi^2_{red} =\\frac{1}{n-m} \\sum_{i=1}^{n} \\left[ \\frac{ y_i - f(x | \\beta_1 \\dots \\beta_{m}) }{\\sigma_i} \\right]^2  $$\n"
   ]
  },
  {
   "cell_type": "markdown",
   "metadata": {},
   "source": [
    "## 2. Linear fit (linear regression)"
   ]
  },
  {
   "cell_type": "markdown",
   "metadata": {},
   "source": [
    "The linear least squares fitting technique is the simplest and most commonly applied form of data fitting. A brief overview of the analytical expression for the linear least-square fit is given below. In case of linear fitting, the \"model\"  $y_i$ is a simple linear function:\n",
    "\n",
    "$$ y(x) = f(x | a,b) = a + bx $$ \n",
    "\n",
    "We want to find $a, b$ such that they minimizes the $\\chi^2$ function defined above (a.k.a. $\\chi^2$ fitting):\n",
    "\n",
    "$$ \\chi^2(a,b) = \\sum_{i=1}^{n} \\left[ \\frac{ y_i - (a + bx_i) }{\\sigma_i} \\right]^2 $$\n",
    "\n",
    "Using the property that at the minimum of $\\chi^2$ its derivative is zero:\n",
    "\n",
    "$$ \\frac{\\partial \\chi^2}{\\partial a} = -2 \\sum_{i=1}^{n} \\frac{ y_i - a - bx_i }{\\sigma_i^2} = 0 $$\n",
    "\n",
    "$$ \\frac{\\partial \\chi^2}{\\partial b} = -2 \\sum_{i=1}^{n} \\frac{ x_i(y_i - a - bx_i) }{\\sigma_i^2} = 0 $$\n",
    "\n",
    "To solve these two equations, let's define the sums as:\n",
    "\n",
    "$$ S = \\sum_{i=1}^{n} \\frac{1}{\\sigma_i^2} \\;\\;\\; S_x = \\sum_{i=1}^{n} \\frac{x_i}{\\sigma_i^2} \\;\\;\\; S_y = \\sum_{i=1}^{n} \\frac{y_i}{\\sigma_i^2} \\;\\;\\; S_{xx} = \\sum_{i=1}^{n} \\frac{x_i^2}{\\sigma_i^2} \\;\\;\\; S_{xy} = \\sum_{i=1}^{n} \\frac{x_i y_i}{\\sigma_i^2} $$\n",
    "\n",
    "Using these definitions, the former two equations become:\n",
    "\n",
    "$$ S_y \\:\\: = aS + bS_x $$\n",
    "\n",
    "$$ S_{xy} = aS_x + bS_{xx} $$\n",
    "\n",
    "And solving these two equations for the two unknowns:\n",
    "\n",
    "$$ a = \\frac{S_{xx}S_y - S_x S_{xy}}{\\Delta} $$\n",
    "\n",
    "$$ b = \\frac{S S_{xy} - S_x S_y}{\\Delta} $$  \n",
    "\n",
    "Where:\n",
    "\n",
    "$$ \\Delta = S S_{xx} - S_x^2 $$\n",
    "\n",
    "With the parameters above, the straight line will be the best fit in the sense that the sum of the squared residuals are minimum.   \n",
    "\n"
   ]
  },
  {
   "cell_type": "markdown",
   "metadata": {},
   "source": [
    "## 3. Interpretation of Fitting Result "
   ]
  },
  {
   "cell_type": "markdown",
   "metadata": {},
   "source": [
    "After the fitting, we want to know how well the \"model\" fits the data, i.e., to what extent does the \"model\" help us understand the relation between $x$ (predictor) and $y$ (response). A \"good\" fit means we can predict the value of $y$ accurately for a given $x$ based on the \"model\" we got.   A common metric used to measure and interpret the goodness of the fitting is the coefficient of determination, or more commonly called Correlation coefficient.\n",
    "\n",
    "\n",
    "\n",
    "Coefficient of determination (Correlation coefficient)\n",
    "In statistics, the coefficient of determination, denoted $R^{2}$ or $r^{2}$ and pronounced R squared, is a number that indicates how well data fit a statistical model – sometimes simply a line or curve. It provides a measure of how well observed outcomes are replicated by the model, as the proportion of total variation of outcomes explained by the \"model\".\n",
    "\n",
    "<img src=\"http://upload.wikimedia.org/wikipedia/commons/thumb/8/86/Coefficient_of_Determination.svg/1000px-Coefficient_of_Determination.svg.png\", width = 600>\n",
    "\n",
    "\n",
    "Coefficient of determination can be understood as a metric to assess whether and to what extent the variability of $x$ predicts the variability of $y$. \n",
    "\n",
    "If $\\bar{y}$ is the mean of the observed data:\n",
    "$$\n",
    "\\bar{y}=\\frac{1}{n}\\sum_{i=1}^n y_i \n",
    "$$\n",
    "\n",
    "then the variability of the data set can be measured using three sums of squares formulas:\n",
    "The total sum of squares (proportional to the variance of the data):\n",
    "\n",
    "$$\n",
    "SS_\\text{tot}=\\sum_i (y_i-\\bar{y})^2,\n",
    "$$\n",
    "\n",
    "Note this variability corresponds to the <font color='red'>red</font> squres in the figure above. If we know nothing about $x$, we can only predict $y$ based on the mean value $\\bar{y}$ and the varability $SS_\\text{tot}$. Now, if we know the $x_{i}$ corresponding each $y_{i}$, we can make a linear fit as described above.  The  function we got from the fitting $ f(x) = a + bx $ will help us better explain the varability of $y$. The regression sum of squares, also called the explained sum of squares:\n",
    "\n",
    "$$\n",
    "SS_\\text{reg}=\\sum_i (f_i -\\bar{y})^2,\n",
    "$$\n",
    "\n",
    "The sum of squares of residuals, also called the residual sum of the <font color='blue'>blue</font> squres in the figure above squares:\n",
    "\n",
    "$$\n",
    "SS_\\text{res}=\\sum_i (y_i - f_i)^2\\,\n",
    "$$\n",
    "\n",
    "\n",
    "The coefficient of determination is defined based on $SS_\\text{tot}$ and $SS_\\text{res}$  as:\n",
    "\n",
    "$$\n",
    "R^2 \\equiv 1 - {SS_{\\rm res}\\over SS_{\\rm tot}}.\\,\n",
    "$$\n",
    "\n",
    "Generally varying between 0 and 1, $R^2$ is a statistic that will give some information about the goodness of fit of a model. A good \"fit\" should help us explain most of the varability of $y$ and therefore minimize the  $SS_\\text{res}$, making $R^2$  close to unity. An $R^2$ of 1 indicates that the regression line perfectly fits the data.\n",
    "\n",
    "Note that values of $R^2$ can be outside of the normal range  0 to 1. Usually, this means the relation between $x$ and $y$ is non-linear. As a result, a linear fitting does not help us explain the varability of $y$.  In such case, we need to use non-linear fitting\n"
   ]
  },
  {
   "cell_type": "markdown",
   "metadata": {},
   "source": [
    "## 4. Numpy modules for data fitting"
   ]
  },
  {
   "cell_type": "markdown",
   "metadata": {},
   "source": [
    "Python and its ecosystem for scientific computing have plenty of functions ready available for data fitting. Instead of writting our own code to implement the formula above, let's use the functions available which will cover many more cases (general polynomials, nonlinear functions, etc.).\n",
    "\n",
    "First, if we only want to fit polynomials, we can use the Numpy polyfit function:   \n",
    "\n",
    "    polyfit(x, y, deg, rcond=None, full=False, w=None, cov=False)   \n",
    "        Least squares polynomial fit.   \n",
    "        \n",
    "        Fit a polynomial ``p(x) = p[0] * x**deg + ... + p[deg]`` of degree `deg`   \n",
    "        to points `(x, y)`. Returns a vector of coefficients `p` that minimises   \n",
    "        the squared error.  \n",
    "        \n",
    "        Optional output: \n",
    "        w : array_like, shape (M,), optional\n",
    "        weights to apply to the y-coordinates of the sample points.\n",
    "        \n",
    "        cov : bool, optional\n",
    "        Return the estimate and the covariance matrix of the estimate\n",
    "        If full is True, then cov is not returned.\n",
    "        \n",
    "Let's demonstrate how polyfit works:"
   ]
  },
  {
   "cell_type": "code",
   "execution_count": 2,
   "metadata": {},
   "outputs": [
    {
     "name": "stdout",
     "output_type": "stream",
     "text": [
      "Help on function polyfit in module numpy:\n",
      "\n",
      "polyfit(x, y, deg, rcond=None, full=False, w=None, cov=False)\n",
      "    Least squares polynomial fit.\n",
      "    \n",
      "    Fit a polynomial ``p(x) = p[0] * x**deg + ... + p[deg]`` of degree `deg`\n",
      "    to points `(x, y)`. Returns a vector of coefficients `p` that minimises\n",
      "    the squared error in the order `deg`, `deg-1`, ... `0`.\n",
      "    \n",
      "    The `Polynomial.fit <numpy.polynomial.polynomial.Polynomial.fit>` class\n",
      "    method is recommended for new code as it is more stable numerically. See\n",
      "    the documentation of the method for more information.\n",
      "    \n",
      "    Parameters\n",
      "    ----------\n",
      "    x : array_like, shape (M,)\n",
      "        x-coordinates of the M sample points ``(x[i], y[i])``.\n",
      "    y : array_like, shape (M,) or (M, K)\n",
      "        y-coordinates of the sample points. Several data sets of sample\n",
      "        points sharing the same x-coordinates can be fitted at once by\n",
      "        passing in a 2D-array that contains one dataset per column.\n",
      "    deg : int\n",
      "        Degree of the fitting polynomial\n",
      "    rcond : float, optional\n",
      "        Relative condition number of the fit. Singular values smaller than\n",
      "        this relative to the largest singular value will be ignored. The\n",
      "        default value is len(x)*eps, where eps is the relative precision of\n",
      "        the float type, about 2e-16 in most cases.\n",
      "    full : bool, optional\n",
      "        Switch determining nature of return value. When it is False (the\n",
      "        default) just the coefficients are returned, when True diagnostic\n",
      "        information from the singular value decomposition is also returned.\n",
      "    w : array_like, shape (M,), optional\n",
      "        Weights to apply to the y-coordinates of the sample points. For\n",
      "        gaussian uncertainties, use 1/sigma (not 1/sigma**2).\n",
      "    cov : bool or str, optional\n",
      "        If given and not `False`, return not just the estimate but also its\n",
      "        covariance matrix. By default, the covariance are scaled by\n",
      "        chi2/sqrt(N-dof), i.e., the weights are presumed to be unreliable\n",
      "        except in a relative sense and everything is scaled such that the\n",
      "        reduced chi2 is unity. This scaling is omitted if ``cov='unscaled'``,\n",
      "        as is relevant for the case that the weights are 1/sigma**2, with\n",
      "        sigma known to be a reliable estimate of the uncertainty.\n",
      "    \n",
      "    Returns\n",
      "    -------\n",
      "    p : ndarray, shape (deg + 1,) or (deg + 1, K)\n",
      "        Polynomial coefficients, highest power first.  If `y` was 2-D, the\n",
      "        coefficients for `k`-th data set are in ``p[:,k]``.\n",
      "    \n",
      "    residuals, rank, singular_values, rcond\n",
      "        Present only if `full` = True.  Residuals is sum of squared residuals\n",
      "        of the least-squares fit, the effective rank of the scaled Vandermonde\n",
      "        coefficient matrix, its singular values, and the specified value of\n",
      "        `rcond`. For more details, see `linalg.lstsq`.\n",
      "    \n",
      "    V : ndarray, shape (M,M) or (M,M,K)\n",
      "        Present only if `full` = False and `cov`=True.  The covariance\n",
      "        matrix of the polynomial coefficient estimates.  The diagonal of\n",
      "        this matrix are the variance estimates for each coefficient.  If y\n",
      "        is a 2-D array, then the covariance matrix for the `k`-th data set\n",
      "        are in ``V[:,:,k]``\n",
      "    \n",
      "    \n",
      "    Warns\n",
      "    -----\n",
      "    RankWarning\n",
      "        The rank of the coefficient matrix in the least-squares fit is\n",
      "        deficient. The warning is only raised if `full` = False.\n",
      "    \n",
      "        The warnings can be turned off by\n",
      "    \n",
      "        >>> import warnings\n",
      "        >>> warnings.simplefilter('ignore', np.RankWarning)\n",
      "    \n",
      "    See Also\n",
      "    --------\n",
      "    polyval : Compute polynomial values.\n",
      "    linalg.lstsq : Computes a least-squares fit.\n",
      "    scipy.interpolate.UnivariateSpline : Computes spline fits.\n",
      "    \n",
      "    Notes\n",
      "    -----\n",
      "    The solution minimizes the squared error\n",
      "    \n",
      "    .. math ::\n",
      "        E = \\sum_{j=0}^k |p(x_j) - y_j|^2\n",
      "    \n",
      "    in the equations::\n",
      "    \n",
      "        x[0]**n * p[0] + ... + x[0] * p[n-1] + p[n] = y[0]\n",
      "        x[1]**n * p[0] + ... + x[1] * p[n-1] + p[n] = y[1]\n",
      "        ...\n",
      "        x[k]**n * p[0] + ... + x[k] * p[n-1] + p[n] = y[k]\n",
      "    \n",
      "    The coefficient matrix of the coefficients `p` is a Vandermonde matrix.\n",
      "    \n",
      "    `polyfit` issues a `RankWarning` when the least-squares fit is badly\n",
      "    conditioned. This implies that the best fit is not well-defined due\n",
      "    to numerical error. The results may be improved by lowering the polynomial\n",
      "    degree or by replacing `x` by `x` - `x`.mean(). The `rcond` parameter\n",
      "    can also be set to a value smaller than its default, but the resulting\n",
      "    fit may be spurious: including contributions from the small singular\n",
      "    values can add numerical noise to the result.\n",
      "    \n",
      "    Note that fitting polynomial coefficients is inherently badly conditioned\n",
      "    when the degree of the polynomial is large or the interval of sample points\n",
      "    is badly centered. The quality of the fit should always be checked in these\n",
      "    cases. When polynomial fits are not satisfactory, splines may be a good\n",
      "    alternative.\n",
      "    \n",
      "    References\n",
      "    ----------\n",
      "    .. [1] Wikipedia, \"Curve fitting\",\n",
      "           https://en.wikipedia.org/wiki/Curve_fitting\n",
      "    .. [2] Wikipedia, \"Polynomial interpolation\",\n",
      "           https://en.wikipedia.org/wiki/Polynomial_interpolation\n",
      "    \n",
      "    Examples\n",
      "    --------\n",
      "    >>> import warnings\n",
      "    >>> x = np.array([0.0, 1.0, 2.0, 3.0,  4.0,  5.0])\n",
      "    >>> y = np.array([0.0, 0.8, 0.9, 0.1, -0.8, -1.0])\n",
      "    >>> z = np.polyfit(x, y, 3)\n",
      "    >>> z\n",
      "    array([ 0.08703704, -0.81349206,  1.69312169, -0.03968254]) # may vary\n",
      "    \n",
      "    It is convenient to use `poly1d` objects for dealing with polynomials:\n",
      "    \n",
      "    >>> p = np.poly1d(z)\n",
      "    >>> p(0.5)\n",
      "    0.6143849206349179 # may vary\n",
      "    >>> p(3.5)\n",
      "    -0.34732142857143039 # may vary\n",
      "    >>> p(10)\n",
      "    22.579365079365115 # may vary\n",
      "    \n",
      "    High-order polynomials may oscillate wildly:\n",
      "    \n",
      "    >>> with warnings.catch_warnings():\n",
      "    ...     warnings.simplefilter('ignore', np.RankWarning)\n",
      "    ...     p30 = np.poly1d(np.polyfit(x, y, 30))\n",
      "    ...\n",
      "    >>> p30(4)\n",
      "    -0.80000000000000204 # may vary\n",
      "    >>> p30(5)\n",
      "    -0.99999999999999445 # may vary\n",
      "    >>> p30(4.5)\n",
      "    -0.10547061179440398 # may vary\n",
      "    \n",
      "    Illustration:\n",
      "    \n",
      "    >>> import matplotlib.pyplot as plt\n",
      "    >>> xp = np.linspace(-2, 6, 100)\n",
      "    >>> _ = plt.plot(x, y, '.', xp, p(xp), '-', xp, p30(xp), '--')\n",
      "    >>> plt.ylim(-2,2)\n",
      "    (-2, 2)\n",
      "    >>> plt.show()\n",
      "\n"
     ]
    }
   ],
   "source": [
    "help(np.polyfit)"
   ]
  },
  {
   "cell_type": "markdown",
   "metadata": {},
   "source": [
    "Generate some data: In this example, $y = x + 10 + uncertainty$. When uncertainty is small, a linear fitting should give us a slope around unity and intercept around 10"
   ]
  },
  {
   "cell_type": "code",
   "execution_count": 3,
   "metadata": {},
   "outputs": [],
   "source": [
    "n = 30\n",
    "x = np.linspace(0,50,n)\n",
    "errsize =15.0  \n",
    "y = x +  10.0 + errsize*np.random.randn(n) \n",
    "yerr = abs(y-x-10) # assume that each data set has some uncertainty\n",
    "\n",
    "# compute the mean and variance of the dataset\n",
    "y_mean = np.mean(y) \n",
    "SS_total = np.sum((y-y_mean)**2)\n"
   ]
  },
  {
   "cell_type": "markdown",
   "metadata": {},
   "source": [
    "First, let's plot the data and perform the curve fitting without considering the uncertainty. Write your code below to compute\n",
    "\n",
    "    p: the fitting polynomial\n",
    "    yfit: fitted results; \n",
    "    resid: residual; \n",
    "    chi2red: reduced chi_square \n",
    "    R2:  coefficient of determination between x and y\n",
    "\n"
   ]
  },
  {
   "cell_type": "code",
   "execution_count": 4,
   "metadata": {},
   "outputs": [
    {
     "data": {
      "image/png": "[encoded data removed]",
      "text/plain": [
       "<Figure size 720x360 with 1 Axes>"
      ]
     },
     "metadata": {
      "needs_background": "light"
     },
     "output_type": "display_data"
    }
   ],
   "source": [
    "\n",
    "p = np.polyfit(x, y, 1)  # coefficients and covariance matrix\n",
    "yfit = np.polyval(p, x)                            # evaluate the polynomial at x\n",
    "resid = y - yfit                                        # residual \n",
    "SS_res =  np.sum(resid**2) \n",
    "chi2red = np.sum((resid/yerr)**2) /(y.size - 2)        # chi_square\n",
    "R2 = 1.0 - SS_res/SS_total                   # coefficient of determination between x and y\n",
    "\n",
    "\n",
    "plt.figure(figsize=(10, 5))\n",
    "plt.errorbar(x, y, yerr=yerr, fmt = 'bo', ecolor='b', capsize=0)\n",
    "plt.plot(x, yfit, 'r', linewidth=3)\n",
    "plt.xlabel('x', fontsize=16)\n",
    "plt.ylabel('y', fontsize=16)\n",
    "plt.title('$y = %.2f + %.2f x \\; [R^2=%.2f,\\, \\chi^2=%.1f]$' %(p[1], p[0],  R2, chi2red), fontsize=20, color=[0, 0, 0])  \n",
    "plt.xlim((0, n+1))\n",
    "plt.ylim((-50, 100))\n",
    "plt.show()"
   ]
  },
  {
   "cell_type": "markdown",
   "metadata": {},
   "source": [
    "The curve fitting by a line considering the uncertainty:"
   ]
  },
  {
   "cell_type": "code",
   "execution_count": 5,
   "metadata": {},
   "outputs": [],
   "source": [
    "p_unc= np.polyfit(x, y, 1, w=1/yerr)  # coefficients and covariance matrix\n",
    "yfit_unc = np.polyval(p_unc, x)          # evaluate the polynomial at x\n",
    "resid_unc = y - yfit_unc                                        # residual \n",
    "SS_res_unc =  np.sum(resid_unc**2) \n",
    "chi2_unc = np.sum((resid/yerr)**2) /(y.size - 2)        # chi_square\n",
    "R2_unc = 1.0 - SS_res_unc/SS_total                   # coefficient of determination between x and y\n"
   ]
  },
  {
   "cell_type": "markdown",
   "metadata": {},
   "source": [
    "And the plot:"
   ]
  },
  {
   "cell_type": "code",
   "execution_count": 6,
   "metadata": {},
   "outputs": [
    {
     "data": {
      "image/png": "[encoded data removed]",
      "text/plain": [
       "<Figure size 720x360 with 1 Axes>"
      ]
     },
     "metadata": {
      "needs_background": "light"
     },
     "output_type": "display_data"
    }
   ],
   "source": [
    "plt.figure(figsize=(10, 5))\n",
    "plt.errorbar(x, y, yerr=yerr, fmt = 'bo', ecolor='b', capsize=0)\n",
    "plt.plot(x, yfit, 'r--', linewidth=2)\n",
    "plt.plot(x, yfit_unc, 'r', linewidth=3)\n",
    "plt.xlabel('x', fontsize=16)\n",
    "plt.ylabel('y', fontsize=16)\n",
    "plt.title('$y = %.2f  + %.2f x \\; [R^2=%.2f,\\, \\chi^2=%.1f]$' %(p_unc[1],  p_unc[0],  R2_unc, chi2_unc), fontsize=20, color=[0, 0, 0])  \n",
    "plt.xlim((0, n+1))\n",
    "plt.ylim((-50, 100))\n",
    "plt.show()"
   ]
  },
  {
   "cell_type": "markdown",
   "metadata": {},
   "source": [
    "#### Exercise:  write a linearfit function "
   ]
  },
  {
   "cell_type": "code",
   "execution_count": 7,
   "metadata": {},
   "outputs": [],
   "source": [
    "def linearfit(x, y, yerr=None):\n",
    "    w = None if (yerr is None or np.sum(yerr)==0) else 1/yerr\n",
    "    p = np.polyfit(x, y, 1, w=w)  # coefficients and covariance matrix\n",
    "    yfit = np.polyval(p, x)          # evaluate the polynomial at x\n",
    "    \n",
    "    SS_total = np.var(y)*y.size\n",
    "    resid = y - yfit                                        # residual \n",
    "    SS_res =  np.sum(resid**2) \n",
    "    \n",
    "    chi2red = None if  (yerr is None or np.sum(yerr)==0) else   np.sum((resid/yerr)**2) /(y.size - 2)        # chi_square\n",
    "    R2 = 1.0 - SS_res/SS_total                   # coefficient of determination between x and y\n",
    "\n",
    "    return yfit, p, R2, chi2red, resid"
   ]
  },
  {
   "cell_type": "markdown",
   "metadata": {},
   "source": [
    "We could apply a statistical test to verify if the data above is normallly distributed, but for now, by visual inspection, the residuals indeed seem to be normallly distributed."
   ]
  },
  {
   "cell_type": "markdown",
   "metadata": {},
   "source": [
    "### The effect of uncertainty on the curve fitting"
   ]
  },
  {
   "cell_type": "markdown",
   "metadata": {},
   "source": [
    "To demonstrate the effect of uncertainty on the curve fitting, let's plot the same (x, y) values but with different errors:"
   ]
  },
  {
   "cell_type": "code",
   "execution_count": 8,
   "metadata": {},
   "outputs": [],
   "source": [
    "# data\n",
    "x    = np.array([1, 2, 3, 4, 5])\n",
    "y    = np.array([1, 2, 3, 6, 4])\n",
    "yerr = np.array([[0, 0, 0, 0, 0], # no error\n",
    "                 [1, 1, 1, 1, 1], # same error for all points\n",
    "                 [1, 1, 1, .5, 2], # larger error for the 4th point\n",
    "                 [1, 1, 1, 2, .5]]) # larger error for the last point"
   ]
  },
  {
   "cell_type": "code",
   "execution_count": 9,
   "metadata": {},
   "outputs": [
    {
     "data": {
      "image/png": "[encoded data removed]",
      "text/plain": [
       "<Figure size 720x432 with 4 Axes>"
      ]
     },
     "metadata": {
      "needs_background": "light"
     },
     "output_type": "display_data"
    }
   ],
   "source": [
    "# plot\n",
    "fig, ax = plt.subplots(2, 2, figsize=(10, 6), sharex=True, sharey=True)\n",
    "axs = ax.flatten()\n",
    "for i, ax in enumerate(axs):\n",
    "    yf, p, R2, chi2red, resid = linearfit(x, y, yerr=yerr[i, :])\n",
    "    ax.errorbar(x, y, yerr=yerr[i, :], fmt = 'bo', ecolor='b', capsize=0, elinewidth=2)\n",
    "    ax.plot(x, yf, 'r', linewidth=3, color=[1, 0, 0, .5])\n",
    "    ax.set_title('$y = %.2f + %.2f x \\, [R^2=%.2f]$'\n",
    "                   %(p[1], p[0], R2), fontsize=18)  \n",
    "    ax.grid()\n",
    "\n",
    "ax.set_xlim(0.5, 5.5)\n",
    "fig.subplots_adjust(bottom=0.1, left=.05, right=.95, hspace=.2, wspace=.05)\n",
    "plt.suptitle('The effect of uncertainty on the curve fitting (same data, different errors)',\n",
    "             fontsize=16, y=1.02)\n",
    "plt.show()"
   ]
  },
  {
   "cell_type": "markdown",
   "metadata": {},
   "source": [
    "From figure above, if the errors (weights) are all equal, the fitting is the same as if we don't input any error (first line).   \n",
    "When the errors are different across data, the uncertainty has a strong impact on the curve fitting (second line)."
   ]
  },
  {
   "cell_type": "markdown",
   "metadata": {},
   "source": [
    "### Be careful when interpreting the fitting results"
   ]
  },
  {
   "cell_type": "markdown",
   "metadata": {},
   "source": [
    "We have to be carefull in interpreting the results of a curve fitting to determine whether the fitted model truely captures the relation between the independent variable (predictor) and the dependent variable (response).\n",
    "\n",
    "An illustrative example to demonstrate that the result of a curve fitting is not necessarily an indicator of the phenomenon being modelled is the [Anscombe's quartet](http://en.wikipedia.org/wiki/Anscombe%27s_quartet) data. These four sets of data have very similar basic statistical properties and linear fitting parameters, but are very different when visualized. Let's work with these data:"
   ]
  },
  {
   "cell_type": "code",
   "execution_count": 10,
   "metadata": {},
   "outputs": [
    {
     "name": "stdout",
     "output_type": "stream",
     "text": [
      "The Anscombe's quartet data ha)ve the same basic statistical properties:\n",
      "Mean of x    : [7.50090909 7.50090909 7.5        7.50090909]\n",
      "Variance of x: [3.75206281 3.75239008 3.74783636 3.74840826]\n",
      "Mean of y    : [7.50090909 7.50090909 7.5        7.50090909]\n",
      "Variance of y: [3.75206281 3.75239008 3.74783636 3.74840826]\n"
     ]
    }
   ],
   "source": [
    "# Anscombe's quartet data\n",
    "x =  np.array([[10, 8, 13, 9, 11, 14, 6, 4, 12, 7, 5],\n",
    "               [10, 8, 13, 9, 11, 14, 6, 4, 12, 7, 5],\n",
    "               [10, 8, 13, 9, 11, 14, 6, 4, 12, 7, 5],\n",
    "               [8,  8,  8, 8,  8,  8, 8, 19, 8, 8, 8]])\n",
    "y = np.array([[8.04, 6.95, 7.58, 8.81, 8.33, 9.96, 7.24, 4.26, 10.84, 4.82, 5.68],\n",
    "              [9.14, 8.14, 8.74, 8.77, 9.26, 8.10, 6.13, 3.10, 9.13, 7.26, 4.74],\n",
    "              [7.46, 6.77, 12.74, 7.11, 7.81, 8.84, 6.08, 5.39, 8.15, 6.42, 5.73],\n",
    "              [6.58, 5.76, 7.71, 8.84, 8.47, 7.04, 5.25, 12.50, 5.56, 7.91, 6.89]])\n",
    "# basic descriptive statistics\n",
    "print(\"The Anscombe's quartet data ha)ve the same basic statistical properties:\")\n",
    "print('Mean of x    :', np.mean(y, axis=1))\n",
    "print('Variance of x:', np.var(y, axis=1))\n",
    "print('Mean of y    :', np.mean(y, axis=1))\n",
    "print('Variance of y:', np.var(y, axis=1))"
   ]
  },
  {
   "cell_type": "code",
   "execution_count": 11,
   "metadata": {},
   "outputs": [
    {
     "data": {
      "image/png": "[encoded data removed]",
      "text/plain": [
       "<Figure size 720x432 with 4 Axes>"
      ]
     },
     "metadata": {
      "needs_background": "light"
     },
     "output_type": "display_data"
    }
   ],
   "source": [
    "# plot\n",
    "fig, ax = plt.subplots(2, 2, figsize=(10, 6), sharex=True, sharey=True)\n",
    "axs = ax.flatten()\n",
    "resid = np.empty_like(y)\n",
    "for i, ax in enumerate(axs):\n",
    "    yf, p, R2, chi2red, resid[i, :] = linearfit(x[i, :], y[i, :])\n",
    "    ax.plot(x[i, :], y[i, :], color=[0, .2, 1, .8], marker='o', linestyle='', markersize=8)\n",
    "    ax.plot(x[i, :], yf, 'r', linewidth=3, color=[1, 0, 0, .8])\n",
    "    ax.set_title('$y = %.2f + %.2f x \\, [R^2=%.2f]$' %(p[1], p[0], R2), fontsize=18)  \n",
    "    ax.grid()\n",
    "\n",
    "ax.set_xlim(0, 20)\n",
    "fig.subplots_adjust(bottom=0.1, left=.05, right=.95, hspace=.2, wspace=.05)\n",
    "plt.suptitle(\"Linear fit of the Anscombe's quartet data\",\n",
    "             fontsize=18, y=1.02)\n",
    "plt.show()"
   ]
  },
  {
   "cell_type": "markdown",
   "metadata": {},
   "source": [
    "Exactly the same model fits very different data.   \n",
    "We should be very carefull in interpreting the result of a curve fitting as a description of a phenomenon.\n",
    "This example teaches us that we need to be very careful when intepreting the fitting result."
   ]
  },
  {
   "cell_type": "markdown",
   "metadata": {},
   "source": [
    "## 5. Non-linear Data Fitting\n",
    "\n",
    "In reality, most of the problems are non-linear. In many cases, a non-linear fitting problem can be converted to linear fitting problem. For example:\n",
    "    \n",
    "$$ \n",
    "y=a{{x}^{b}}\\to \\ln y=\\ln a+b\\ln x \n",
    "$$\n",
    "\n",
    "$$ \n",
    "y=\\frac{1}{(a+bx)}\\to 1/y=a+bx\n",
    "$$\n",
    "\n",
    "However, if the function is too complex to convert, we have to do non-linear data fitting"
   ]
  },
  {
   "cell_type": "markdown",
   "metadata": {},
   "source": [
    "A more general curve fitting function is the `scipy.optimize.curve_fit`:\n",
    "\n",
    "    scipy.optimize.curve_fit(f, xdata, ydata, p0=None, sigma=None, **kw)[source]\n",
    "        Use non-linear least squares to fit a function, f, to data.\n",
    "        \n",
    "For the `curve_fit` funcion, we need to define a model (e.g., a mathematical expression) for the fit:\n",
    "\n",
    "    f : callable\n",
    "    The model function, f(x, ...). It must take the independent variable as the first argument and the parameters to fit as separate remaining arguments.\n",
    "    \n",
    "     p0 : None, scalar, or N-length sequence\n",
    "        Initial guess for the parameters.  If None, then the initial\n",
    "        values will all be 1 (if the number of parameters for the function\n",
    "        can be determined using introspection, otherwise a ValueError\n",
    "        is raised).\n",
    "    sigma : None or M-length sequence, optional\n",
    "        If not None, the uncertainties in the ydata array. These are used as\n",
    "        weights in the least-squares problem\n",
    "        i.e. minimising ``np.sum( ((f(xdata, *popt) - ydata) / sigma)**2 )``\n",
    "        If None, the uncertainties are assumed to be 1.\n",
    "  \n"
   ]
  },
  {
   "cell_type": "code",
   "execution_count": null,
   "metadata": {},
   "outputs": [],
   "source": []
  },
  {
   "cell_type": "code",
   "execution_count": 2,
   "metadata": {},
   "outputs": [],
   "source": [
    "# Import the necessary libraries\n",
    "from scipy.optimize import curve_fit\n",
    "from IPython.display import display, Math"
   ]
  },
  {
   "cell_type": "code",
   "execution_count": 3,
   "metadata": {},
   "outputs": [
    {
     "name": "stdout",
     "output_type": "stream",
     "text": [
      "Help on function curve_fit in module scipy.optimize.minpack:\n",
      "\n",
      "curve_fit(f, xdata, ydata, p0=None, sigma=None, absolute_sigma=False, check_finite=True, bounds=(-inf, inf), method=None, jac=None, **kwargs)\n",
      "    Use non-linear least squares to fit a function, f, to data.\n",
      "    \n",
      "    Assumes ``ydata = f(xdata, *params) + eps``.\n",
      "    \n",
      "    Parameters\n",
      "    ----------\n",
      "    f : callable\n",
      "        The model function, f(x, ...). It must take the independent\n",
      "        variable as the first argument and the parameters to fit as\n",
      "        separate remaining arguments.\n",
      "    xdata : array_like or object\n",
      "        The independent variable where the data is measured.\n",
      "        Should usually be an M-length sequence or an (k,M)-shaped array for\n",
      "        functions with k predictors, but can actually be any object.\n",
      "    ydata : array_like\n",
      "        The dependent data, a length M array - nominally ``f(xdata, ...)``.\n",
      "    p0 : array_like, optional\n",
      "        Initial guess for the parameters (length N). If None, then the\n",
      "        initial values will all be 1 (if the number of parameters for the\n",
      "        function can be determined using introspection, otherwise a\n",
      "        ValueError is raised).\n",
      "    sigma : None or M-length sequence or MxM array, optional\n",
      "        Determines the uncertainty in `ydata`. If we define residuals as\n",
      "        ``r = ydata - f(xdata, *popt)``, then the interpretation of `sigma`\n",
      "        depends on its number of dimensions:\n",
      "    \n",
      "            - A 1-D `sigma` should contain values of standard deviations of\n",
      "              errors in `ydata`. In this case, the optimized function is\n",
      "              ``chisq = sum((r / sigma) ** 2)``.\n",
      "    \n",
      "            - A 2-D `sigma` should contain the covariance matrix of\n",
      "              errors in `ydata`. In this case, the optimized function is\n",
      "              ``chisq = r.T @ inv(sigma) @ r``.\n",
      "    \n",
      "              .. versionadded:: 0.19\n",
      "    \n",
      "        None (default) is equivalent of 1-D `sigma` filled with ones.\n",
      "    absolute_sigma : bool, optional\n",
      "        If True, `sigma` is used in an absolute sense and the estimated parameter\n",
      "        covariance `pcov` reflects these absolute values.\n",
      "    \n",
      "        If False (default), only the relative magnitudes of the `sigma` values matter.\n",
      "        The returned parameter covariance matrix `pcov` is based on scaling\n",
      "        `sigma` by a constant factor. This constant is set by demanding that the\n",
      "        reduced `chisq` for the optimal parameters `popt` when using the\n",
      "        *scaled* `sigma` equals unity. In other words, `sigma` is scaled to\n",
      "        match the sample variance of the residuals after the fit. Default is False.\n",
      "        Mathematically,\n",
      "        ``pcov(absolute_sigma=False) = pcov(absolute_sigma=True) * chisq(popt)/(M-N)``\n",
      "    check_finite : bool, optional\n",
      "        If True, check that the input arrays do not contain nans of infs,\n",
      "        and raise a ValueError if they do. Setting this parameter to\n",
      "        False may silently produce nonsensical results if the input arrays\n",
      "        do contain nans. Default is True.\n",
      "    bounds : 2-tuple of array_like, optional\n",
      "        Lower and upper bounds on parameters. Defaults to no bounds.\n",
      "        Each element of the tuple must be either an array with the length equal\n",
      "        to the number of parameters, or a scalar (in which case the bound is\n",
      "        taken to be the same for all parameters). Use ``np.inf`` with an\n",
      "        appropriate sign to disable bounds on all or some parameters.\n",
      "    \n",
      "        .. versionadded:: 0.17\n",
      "    method : {'lm', 'trf', 'dogbox'}, optional\n",
      "        Method to use for optimization. See `least_squares` for more details.\n",
      "        Default is 'lm' for unconstrained problems and 'trf' if `bounds` are\n",
      "        provided. The method 'lm' won't work when the number of observations\n",
      "        is less than the number of variables, use 'trf' or 'dogbox' in this\n",
      "        case.\n",
      "    \n",
      "        .. versionadded:: 0.17\n",
      "    jac : callable, string or None, optional\n",
      "        Function with signature ``jac(x, ...)`` which computes the Jacobian\n",
      "        matrix of the model function with respect to parameters as a dense\n",
      "        array_like structure. It will be scaled according to provided `sigma`.\n",
      "        If None (default), the Jacobian will be estimated numerically.\n",
      "        String keywords for 'trf' and 'dogbox' methods can be used to select\n",
      "        a finite difference scheme, see `least_squares`.\n",
      "    \n",
      "        .. versionadded:: 0.18\n",
      "    kwargs\n",
      "        Keyword arguments passed to `leastsq` for ``method='lm'`` or\n",
      "        `least_squares` otherwise.\n",
      "    \n",
      "    Returns\n",
      "    -------\n",
      "    popt : array\n",
      "        Optimal values for the parameters so that the sum of the squared\n",
      "        residuals of ``f(xdata, *popt) - ydata`` is minimized.\n",
      "    pcov : 2-D array\n",
      "        The estimated covariance of popt. The diagonals provide the variance\n",
      "        of the parameter estimate. To compute one standard deviation errors\n",
      "        on the parameters use ``perr = np.sqrt(np.diag(pcov))``.\n",
      "    \n",
      "        How the `sigma` parameter affects the estimated covariance\n",
      "        depends on `absolute_sigma` argument, as described above.\n",
      "    \n",
      "        If the Jacobian matrix at the solution doesn't have a full rank, then\n",
      "        'lm' method returns a matrix filled with ``np.inf``, on the other hand\n",
      "        'trf'  and 'dogbox' methods use Moore-Penrose pseudoinverse to compute\n",
      "        the covariance matrix.\n",
      "    \n",
      "    Raises\n",
      "    ------\n",
      "    ValueError\n",
      "        if either `ydata` or `xdata` contain NaNs, or if incompatible options\n",
      "        are used.\n",
      "    \n",
      "    RuntimeError\n",
      "        if the least-squares minimization fails.\n",
      "    \n",
      "    OptimizeWarning\n",
      "        if covariance of the parameters can not be estimated.\n",
      "    \n",
      "    See Also\n",
      "    --------\n",
      "    least_squares : Minimize the sum of squares of nonlinear functions.\n",
      "    scipy.stats.linregress : Calculate a linear least squares regression for\n",
      "                             two sets of measurements.\n",
      "    \n",
      "    Notes\n",
      "    -----\n",
      "    With ``method='lm'``, the algorithm uses the Levenberg-Marquardt algorithm\n",
      "    through `leastsq`. Note that this algorithm can only deal with\n",
      "    unconstrained problems.\n",
      "    \n",
      "    Box constraints can be handled by methods 'trf' and 'dogbox'. Refer to\n",
      "    the docstring of `least_squares` for more information.\n",
      "    \n",
      "    Examples\n",
      "    --------\n",
      "    >>> import matplotlib.pyplot as plt\n",
      "    >>> from scipy.optimize import curve_fit\n",
      "    \n",
      "    >>> def func(x, a, b, c):\n",
      "    ...     return a * np.exp(-b * x) + c\n",
      "    \n",
      "    Define the data to be fit with some noise:\n",
      "    \n",
      "    >>> xdata = np.linspace(0, 4, 50)\n",
      "    >>> y = func(xdata, 2.5, 1.3, 0.5)\n",
      "    >>> np.random.seed(1729)\n",
      "    >>> y_noise = 0.2 * np.random.normal(size=xdata.size)\n",
      "    >>> ydata = y + y_noise\n",
      "    >>> plt.plot(xdata, ydata, 'b-', label='data')\n",
      "    \n",
      "    Fit for the parameters a, b, c of the function `func`:\n",
      "    \n",
      "    >>> popt, pcov = curve_fit(func, xdata, ydata)\n",
      "    >>> popt\n",
      "    array([ 2.55423706,  1.35190947,  0.47450618])\n",
      "    >>> plt.plot(xdata, func(xdata, *popt), 'r-',\n",
      "    ...          label='fit: a=%5.3f, b=%5.3f, c=%5.3f' % tuple(popt))\n",
      "    \n",
      "    Constrain the optimization to the region of ``0 <= a <= 3``,\n",
      "    ``0 <= b <= 1`` and ``0 <= c <= 0.5``:\n",
      "    \n",
      "    >>> popt, pcov = curve_fit(func, xdata, ydata, bounds=(0, [3., 1., 0.5]))\n",
      "    >>> popt\n",
      "    array([ 2.43708906,  1.        ,  0.35015434])\n",
      "    >>> plt.plot(xdata, func(xdata, *popt), 'g--',\n",
      "    ...          label='fit: a=%5.3f, b=%5.3f, c=%5.3f' % tuple(popt))\n",
      "    \n",
      "    >>> plt.xlabel('x')\n",
      "    >>> plt.ylabel('y')\n",
      "    >>> plt.legend()\n",
      "    >>> plt.show()\n",
      "\n"
     ]
    }
   ],
   "source": [
    "help(curve_fit)"
   ]
  },
  {
   "cell_type": "markdown",
   "metadata": {},
   "source": [
    "### Example: Gaussuian signal with noise\n",
    "\n",
    "Similar to the linear fitting, non-linear fitting also requires a \"model\" to guide the fitting process. Let's look at an exmple below. \n",
    "  \n",
    "  First, let generate a Guassian distribution function"
   ]
  },
  {
   "cell_type": "code",
   "execution_count": 9,
   "metadata": {},
   "outputs": [
    {
     "data": {
      "text/latex": [
       "$\\displaystyle y = a * exp\\left(-\\frac{(x-b)^2}{2c^2}\\right) + d$"
      ],
      "text/plain": [
       "<IPython.core.display.Math object>"
      ]
     },
     "metadata": {},
     "output_type": "display_data"
    }
   ],
   "source": [
    "def func(x, a, b, c, d):\n",
    "    # Gauss function\n",
    "    return a*np.exp(-(x-b)**2/(2*c**2)) + d\n",
    "\n",
    "display(Math( r'y = a * exp\\left(-\\frac{(x-b)^2}{2c^2}\\right) + d' ))"
   ]
  },
  {
   "cell_type": "markdown",
   "metadata": {},
   "source": [
    "Now, let's use this function to generate some \"fake\" data to be fitted. ** Note that in reality, we have to figure out what function to use **"
   ]
  },
  {
   "cell_type": "code",
   "execution_count": 10,
   "metadata": {},
   "outputs": [],
   "source": [
    "x = np.linspace(0, 8, 101)\n",
    "noise = np.random.randn(len(x)) + 1\n",
    "y = func(x, 10, 4, 1, np.mean(noise)) + noise\n",
    "yerr = np.abs(np.random.randn(len(x))) + 1"
   ]
  },
  {
   "cell_type": "markdown",
   "metadata": {},
   "source": [
    "Perform the curve fitting:"
   ]
  },
  {
   "cell_type": "code",
   "execution_count": 11,
   "metadata": {},
   "outputs": [
    {
     "name": "stdout",
     "output_type": "stream",
     "text": [
      "Fitted parameters:\n"
     ]
    },
    {
     "data": {
      "text/latex": [
       "$\\displaystyle a=-4.44 \\pm 0.96$"
      ],
      "text/plain": [
       "<IPython.core.display.Math object>"
      ]
     },
     "metadata": {},
     "output_type": "display_data"
    },
    {
     "data": {
      "text/latex": [
       "$\\displaystyle b=0.89 \\pm 0.25$"
      ],
      "text/plain": [
       "<IPython.core.display.Math object>"
      ]
     },
     "metadata": {},
     "output_type": "display_data"
    },
    {
     "data": {
      "text/latex": [
       "$\\displaystyle c=0.83 \\pm 0.31$"
      ],
      "text/plain": [
       "<IPython.core.display.Math object>"
      ]
     },
     "metadata": {},
     "output_type": "display_data"
    },
    {
     "data": {
      "text/latex": [
       "$\\displaystyle d=5.54 \\pm 0.44$"
      ],
      "text/plain": [
       "<IPython.core.display.Math object>"
      ]
     },
     "metadata": {},
     "output_type": "display_data"
    },
    {
     "data": {
      "text/latex": [
       "$\\displaystyle \\chi^2_{red}=4.75$"
      ],
      "text/plain": [
       "<IPython.core.display.Math object>"
      ]
     },
     "metadata": {},
     "output_type": "display_data"
    }
   ],
   "source": [
    "p,pcov  = curve_fit(func, x, y, sigma=yerr)\n",
    "yfit = func(x, p[0], p[1], p[2], p[3])\n",
    "resid = y - yfit\n",
    "chi2red = np.sum((resid/yerr)**2)/(y.size - 3)\n",
    "perr = np.sqrt(np.diag(pcov)) \n",
    "\n",
    "print('Fitted parameters:')\n",
    "display(Math( r'a=%.2f \\pm %.2f'   %(p[0], perr[0]) ))\n",
    "display(Math( r'b=%.2f \\pm %.2f'   %(p[1], perr[1]) ))\n",
    "display(Math( r'c=%.2f \\pm %.2f'   %(p[2], perr[2]) ))\n",
    "display(Math( r'd=%.2f \\pm %.2f'   %(p[3], perr[3]) ))\n",
    "display(Math( r'\\chi^2_{red}=%.2f' %(chi2red) ))"
   ]
  },
  {
   "cell_type": "markdown",
   "metadata": {},
   "source": [
    "Plot data and fitted curve:"
   ]
  },
  {
   "cell_type": "code",
   "execution_count": 13,
   "metadata": {},
   "outputs": [
    {
     "data": {
      "image/png": "[encoded data removed]",
      "text/plain": [
       "<Figure size 720x360 with 1 Axes>"
      ]
     },
     "metadata": {
      "needs_background": "light"
     },
     "output_type": "display_data"
    }
   ],
   "source": [
    "plt.figure(figsize=(10, 5))\n",
    "plt.errorbar(x, y, yerr=yerr, fmt = 'bo', ecolor='b', capsize=0)\n",
    "#plt.plot(x, yfit, 'r', linewidth=3, color=[1, 0, 0, .5])\n",
    "plt.xlabel('x', fontsize=16)\n",
    "plt.ylabel('y', fontsize=16)\n",
    "plt.grid(True)\n",
    "plt.show()"
   ]
  },
  {
   "cell_type": "markdown",
   "metadata": {},
   "source": [
    "Note that, because non-linear model and fitting usually involve more parameters, and therefore have more degrees of freedom. Without any supervison, the fitting results can be wrong (technicially it is not wrong but just not what we are looking for). \n",
    "\n",
    "To guide the fitting, we usually need to give the fitting model a good initial guess for the parameters (`p0`) to be fitted.  What is a good guess of the parameters for the example above?"
   ]
  },
  {
   "cell_type": "code",
   "execution_count": 15,
   "metadata": {},
   "outputs": [
    {
     "name": "stdout",
     "output_type": "stream",
     "text": [
      "Fitted parameters:\n"
     ]
    },
    {
     "data": {
      "text/latex": [
       "$\\displaystyle a=10.63 \\pm 0.29$"
      ],
      "text/plain": [
       "<IPython.core.display.Math object>"
      ]
     },
     "metadata": {},
     "output_type": "display_data"
    },
    {
     "data": {
      "text/latex": [
       "$\\displaystyle b=3.97 \\pm 0.03$"
      ],
      "text/plain": [
       "<IPython.core.display.Math object>"
      ]
     },
     "metadata": {},
     "output_type": "display_data"
    },
    {
     "data": {
      "text/latex": [
       "$\\displaystyle c=0.99 \\pm 0.04$"
      ],
      "text/plain": [
       "<IPython.core.display.Math object>"
      ]
     },
     "metadata": {},
     "output_type": "display_data"
    },
    {
     "data": {
      "text/latex": [
       "$\\displaystyle d=1.42 \\pm 0.16$"
      ],
      "text/plain": [
       "<IPython.core.display.Math object>"
      ]
     },
     "metadata": {},
     "output_type": "display_data"
    },
    {
     "data": {
      "text/latex": [
       "$\\displaystyle \\chi^2_{red}=0.40$"
      ],
      "text/plain": [
       "<IPython.core.display.Math object>"
      ]
     },
     "metadata": {},
     "output_type": "display_data"
    },
    {
     "data": {
      "image/png": "[encoded data removed]",
      "text/plain": [
       "<Figure size 720x360 with 1 Axes>"
      ]
     },
     "metadata": {
      "needs_background": "light"
     },
     "output_type": "display_data"
    }
   ],
   "source": [
    "first_guess=[1,4,1,5]\n",
    "p, cov = curve_fit(func, x, y, p0=first_guess, sigma=yerr)\n",
    "yfit = func(x, p[0], p[1], p[2], p[3])\n",
    "perr = np.sqrt(np.diag(cov))       # standard-deviation estimates for each coefficient\n",
    "resid = y - yfit\n",
    "chi2red = np.sum((resid/yerr)**2)/(y.size - 3)\n",
    "\n",
    "print('Fitted parameters:')\n",
    "display(Math( r'a=%.2f \\pm %.2f'   %(p[0], perr[0]) ))\n",
    "display(Math( r'b=%.2f \\pm %.2f'   %(p[1], perr[1]) ))\n",
    "display(Math( r'c=%.2f \\pm %.2f'   %(p[2], perr[2]) ))\n",
    "display(Math( r'd=%.2f \\pm %.2f'   %(p[3], perr[3]) ))\n",
    "display(Math( r'\\chi^2_{red}=%.2f' %(chi2red) ))\n",
    "\n",
    "plt.figure(figsize=(10, 5))\n",
    "plt.errorbar(x, y, yerr=yerr, fmt = 'bo', ecolor='b', capsize=0)\n",
    "plt.plot(x, yfit, 'r', linewidth=3, color=[1, 0, 0, .5])\n",
    "plt.xlabel('x', fontsize=16)\n",
    "plt.ylabel('y', fontsize=16)\n",
    "plt.show()"
   ]
  },
  {
   "cell_type": "markdown",
   "metadata": {},
   "source": [
    "#### Exercise 1:  non-linear fit Tau vs. Reflectance"
   ]
  },
  {
   "cell_type": "code",
   "execution_count": 19,
   "metadata": {},
   "outputs": [
    {
     "data": {
      "image/png": "[encoded data removed]",
      "text/plain": [
       "<Figure size 720x360 with 1 Axes>"
      ]
     },
     "metadata": {
      "needs_background": "light"
     },
     "output_type": "display_data"
    }
   ],
   "source": [
    "Tau = np.array([  0.299,        1.29400003 ,  2.28900003  ,  3.28399992,   4.27899981,\n",
    "   5.27399969 ,  6.26900005 ,  7.26399994,   8.25900078 ,  9.25400066,\n",
    "  10.2490005,   11.2440004 ,  12.2390003,   13.2340002 ,  14.2290001,\n",
    "  15.2240009 ,  16.2189999 ,  17.2140007   ,18.2089996 ,  19.2040005 ])\n",
    "\n",
    "Ref = np.array([ 0.17678887,  0.48721159 , 0.62823123 , 0.70785129,  0.75912076,  0.79498094,\n",
    "  0.82153791,  0.84198004,  0.85822612,  0.87143803,  0.8823905,   0.89163792,\n",
    "  0.89952338,  0.90634716,  0.91229314 , 0.91752762,  0.92218465,  0.92633438,\n",
    "  0.93006754,  0.93343675])\n",
    "\n",
    "\n",
    "def Ref_Tau(Tau,a,b):\n",
    "    return Tau/(a+b*Tau)\n",
    "\n",
    "p,pcov = curve_fit(Ref_Tau,Tau,Ref)\n",
    "Tau_fit = np.linspace(0.2,19,100)\n",
    "Ref_fit = Ref_Tau(Tau_fit,p[0],p[1])\n",
    "\n",
    "fig,ax = plt.subplots(figsize=[10,5])\n",
    "ax.plot(Tau,Ref,'bo')\n",
    "ax.plot(Tau_fit,Ref_fit,'r')\n",
    "ax.set_xlabel('Optical Thickness')\n",
    "ax.set_ylabel('Reflectance')\n",
    "ax.set_title(r'$R = \\tau / (%.2f + %.2f \\tau) $' %(p[0], p[1]), fontsize=18)  \n",
    "plt.show()\n",
    "# yf, p, R2, chi2red, resid= linearfit(1.0/Tau, 1.0/Ref)\n",
    "# fig,ax = plt.subplots(figsize=[10,5])\n",
    "# ax.plot(1.0/Tau, 1.0/Ref,' bo')\n",
    "# ax.plot(1.0/Tau, yf,'r')\n",
    "# print(p)"
   ]
  },
  {
   "cell_type": "code",
   "execution_count": null,
   "metadata": {
    "collapsed": true,
    "jupyter": {
     "outputs_hidden": true
    }
   },
   "outputs": [],
   "source": []
  }
 ],
 "metadata": {
  "kernelspec": {
   "display_name": "Python 3",
   "language": "python",
   "name": "python3"
  },
  "language_info": {
   "codemirror_mode": {
    "name": "ipython",
    "version": 3
   },
   "file_extension": ".py",
   "mimetype": "text/x-python",
   "name": "python",
   "nbconvert_exporter": "python",
   "pygments_lexer": "ipython3",
   "version": "3.7.7"
  }
 },
 "nbformat": 4,
 "nbformat_minor": 4
}
