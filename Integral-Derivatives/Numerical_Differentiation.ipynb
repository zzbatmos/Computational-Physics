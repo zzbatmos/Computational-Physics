{
 "cells": [
  {
   "cell_type": "markdown",
   "metadata": {},
   "source": [
    "#  Numerical Differentiation & Finding Root"
   ]
  },
  {
   "cell_type": "markdown",
   "metadata": {},
   "source": [
    "### Computational Physics\n",
    "### Dr. Zhibo Zhang, Physics Department"
   ]
  },
  {
   "cell_type": "markdown",
   "metadata": {},
   "source": [
    "---"
   ]
  },
  {
   "cell_type": "code",
   "execution_count": 1,
   "metadata": {},
   "outputs": [],
   "source": [
    "%matplotlib inline\n",
    "import numpy as np\n",
    "import matplotlib.pyplot as plt"
   ]
  },
  {
   "cell_type": "markdown",
   "metadata": {},
   "source": [
    "## Introduction: Numerical Differentiation"
   ]
  },
  {
   "cell_type": "markdown",
   "metadata": {},
   "source": [
    "Derivatives are everywhere in physics.  Velocity is the time derivative of position.  Acceleration is the time derivative of velocity.  Derivatives tell us about the slope of a function and the minimum or maximum of a function occurs where the derivative is zero.  We use these facts all the time so let’s investigate some numerical derivatives and their applications."
   ]
  },
  {
   "cell_type": "markdown",
   "metadata": {},
   "source": [
    "You hear a lot less about numerical derivatives than integrals, for a number of reasons:\n",
    "\n",
    "1. The basic techniques for numerical derivatives are quite simple, so they don’t take long to explain.\n",
    "\n",
    "2. Derivatives of known functions can always be calculated analytically, so there’s less need to calculate them numerically. However, there are many cases that we don't really know the function. In such cases, we have to rely on numerical differentiation\n",
    "\n",
    "3. There are some significant practical problems with numerical derivatives, which means they are used less often then numerical integrals."
   ]
  },
  {
   "cell_type": "markdown",
   "metadata": {},
   "source": [
    "The standard definition of a derivative, the one you see in the calculus books, is\n",
    "\n",
    "$$\n",
    "\\frac{df}{dx} = \\lim\\limits_{h\\rightarrow 0} \\frac{f(x+h)−f(x)}{h}\n",
    "$$"
   ]
  },
  {
   "cell_type": "markdown",
   "metadata": {},
   "source": [
    "This is the *forward difference* method - it’s simply the slope of the curve $f(x)$ measured over a small interval of width $h$ in the forward direction from $x$."
   ]
  },
  {
   "cell_type": "markdown",
   "metadata": {},
   "source": [
    "The backward difference, which has the mirror image definition, is given by\n",
    "\n",
    "$$\n",
    "\\frac{df}{dx} \\simeq \\frac{f(x) - f(x-h)}{h}\n",
    "$$"
   ]
  },
  {
   "cell_type": "markdown",
   "metadata": {},
   "source": [
    "The forward and backward differences typically give about the same answer and in many cases you can use either. Most often one uses the forward difference. There are a few special cases where one is preferred over the other, particularly when there is a discontinuity in the derivative of the function at the point $x$ or when the domain of the function is bounded and you want the value of the derivative on the boundary, in which case only one or other of the two difference formulas will work. The rest of the time, you just pick whichever one is most convenient. \n",
    "\n",
    "A third option is the centered difference, which is given by\n",
    "\n",
    "$$\n",
    "\\frac{df}{dx} \\simeq \\frac{f(x+h) - f(x-h)}{2h}\n",
    "$$"
   ]
  },
  {
   "cell_type": "markdown",
   "metadata": {},
   "source": [
    "Consider a function like, $y = x^5$.  Numerically in a computer, this function is represented as an array of $y$ values evaluated at $x$ values. "
   ]
  },
  {
   "cell_type": "code",
   "execution_count": 2,
   "metadata": {},
   "outputs": [
    {
     "data": {
      "text/plain": [
       "[<matplotlib.lines.Line2D at 0x1170f3450>]"
      ]
     },
     "execution_count": 2,
     "metadata": {},
     "output_type": "execute_result"
    },
    {
     "data": {
      "image/png": "[encoded data removed]",
      "text/plain": [
       "<Figure size 432x288 with 1 Axes>"
      ]
     },
     "metadata": {
      "needs_background": "light"
     },
     "output_type": "display_data"
    }
   ],
   "source": [
    "x = np.arange(0.,10.01,0.1)\n",
    "y = x**5\n",
    "\n",
    "plt.plot(x,y)"
   ]
  },
  {
   "cell_type": "markdown",
   "metadata": {},
   "source": [
    "The numerical derivative is calculated using the pre-calculus method of finding $\\Delta y$ and dividing by $\\Delta x$.  This is only a good approximation to the derivative if $\\Delta$ is small, but it’s the best we’ve got.  We are just going to calculate the slope, $\\Delta y/\\Delta x$ at every point."
   ]
  },
  {
   "cell_type": "code",
   "execution_count": 3,
   "metadata": {},
   "outputs": [
    {
     "name": "stdout",
     "output_type": "stream",
     "text": [
      "101 100\n",
      "100\n"
     ]
    }
   ],
   "source": [
    "dy = np.diff(y) #y(n+1)-y(n)\n",
    "\n",
    "#Check out the help on the diff method if you want to learn more:\n",
    "#help(np.diff)\n",
    "\n",
    "print(len(y), len(dy))\n",
    "dx = np.diff(x)\n",
    "dydx = (dy/dx)\n",
    "print(len(dydx))"
   ]
  },
  {
   "cell_type": "markdown",
   "metadata": {},
   "source": [
    "The following won’t work. Can you see why?"
   ]
  },
  {
   "cell_type": "code",
   "execution_count": 4,
   "metadata": {},
   "outputs": [
    {
     "data": {
      "text/plain": [
       "[<matplotlib.lines.Line2D at 0x1171ab9d0>]"
      ]
     },
     "execution_count": 4,
     "metadata": {},
     "output_type": "execute_result"
    },
    {
     "data": {
      "image/png": "[encoded data removed]",
      "text/plain": [
       "<Figure size 432x288 with 1 Axes>"
      ]
     },
     "metadata": {
      "needs_background": "light"
     },
     "output_type": "display_data"
    }
   ],
   "source": [
    "plt.plot(x[0:-1],dydx)"
   ]
  },
  {
   "cell_type": "markdown",
   "metadata": {},
   "source": [
    "The vector `x` is longer by one element than the derivative vector `dydx`.  If we want to have the `dydx` with the same length as our original `x,y`, we can do:"
   ]
  },
  {
   "cell_type": "code",
   "execution_count": 5,
   "metadata": {},
   "outputs": [],
   "source": [
    "#specify the size of dy ahead because diff returns an array of n-1 elements\n",
    "dydx1 = np.zeros(y.shape,float) #we know it will be this size\n",
    "\n",
    "dydx1[0:-1] = np.diff(y)/np.diff(x)\n",
    "dydx1[-1] = (y[-1] - y[-2])/(x[-1] - x[-2])"
   ]
  },
  {
   "cell_type": "markdown",
   "metadata": {},
   "source": [
    "which will use the forward finite difference for all elements but the last one, where we use a backward difference.  \n",
    "\n",
    "Recall the slicing syntax:\n",
    "\n",
    "    array[:] means take the whole array\n",
    "    array[2:7] means take the third through 6th elements (Python numbering)\n",
    "    array[-1] means return the last element in the array (negative numbers count back from the end)\n",
    "    array[1:-1] means take everything but the first and last elements in the array\n",
    "\n",
    "\n",
    "To appreciate how array slicing like `array[2:7]` works, think of the left-hand-side of the colon as one index and the right-hand-side as another and implement any logic for each side separately.  So for example, to implement the two-point forward difference using any arbitrary start and end points, `i` and `j` you would use:\n",
    "\n",
    "```\n",
    "dydx[i:j] = (y[i+1:j+1] - y[i:j])/(x[i+1:j+1] - x[i:j])\n",
    "```\n",
    "\n",
    "As an alternative to the two-point forward difference, we can calculate the slope at the center of each x-bin.  In this case, we have to treat the first and last elements specially, but we can use array slices for everything in between:"
   ]
  },
  {
   "cell_type": "code",
   "execution_count": 6,
   "metadata": {},
   "outputs": [],
   "source": [
    "#calculate dydx by center differencing using array slices\n",
    "dydx2 = np.zeros(y.shape,float) #we know it will be this size\n",
    "\n",
    "dydx2[1:-1] = (y[2:] - y[:-2])/(x[2:] - x[:-2]) #center difference\n",
    "\n",
    "dydx2[0] = (y[1]-y[0])/(x[1]-x[0]) #forward difference\n",
    "\n",
    "dydx2[-1] = (y[-1] - y[-2])/(x[-1] - x[-2]) #backward difference"
   ]
  },
  {
   "cell_type": "markdown",
   "metadata": {},
   "source": [
    "Let’s compare our numerical derivatives to the exact value: \n",
    "    \n",
    "$$\\frac{dy}{dx} = 5x^4$$"
   ]
  },
  {
   "cell_type": "code",
   "execution_count": 7,
   "metadata": {},
   "outputs": [],
   "source": [
    "dydxExact = 5*x**4"
   ]
  },
  {
   "cell_type": "code",
   "execution_count": 8,
   "metadata": {},
   "outputs": [
    {
     "data": {
      "image/png": "[encoded data removed]",
      "text/plain": [
       "<Figure size 432x288 with 1 Axes>"
      ]
     },
     "metadata": {
      "needs_background": "light"
     },
     "output_type": "display_data"
    }
   ],
   "source": [
    "plt.plot(x,dydx1,label='forward difference')\n",
    "plt.plot(x,dydx2,label='center difference')\n",
    "plt.plot(x,dydxExact,label='exact')\n",
    "plt.legend(loc='upper left')\n",
    "plt.show()"
   ]
  },
  {
   "cell_type": "markdown",
   "metadata": {},
   "source": [
    "They are *slightly* different but it is hard to see.  Let’s plot the error introduced by our numerical derivatives.  Start from the second value in the array to avoid dividing by zero."
   ]
  },
  {
   "cell_type": "code",
   "execution_count": 9,
   "metadata": {},
   "outputs": [
    {
     "data": {
      "image/png": "[encoded data removed]",
      "text/plain": [
       "<Figure size 432x288 with 1 Axes>"
      ]
     },
     "metadata": {
      "needs_background": "light"
     },
     "output_type": "display_data"
    }
   ],
   "source": [
    "percentError1 = 100*abs( dydx1[1:] - dydxExact[1:] )/dydxExact[1:]\n",
    "percentError2 = 100*abs( dydx2[1:] - dydxExact[1:] )/dydxExact[1:]\n",
    "\n",
    "#Use a semilog y-axis to see the variation better\n",
    "plt.semilogy(x[1:], percentError1, label='forward difference')\n",
    "plt.semilogy(x[1:], percentError2, label='center difference')\n",
    "plt.ylabel(\"percent error with dydxExact\")\n",
    "plt.legend(loc=\"upper right\")\n",
    "plt.show()"
   ]
  },
  {
   "cell_type": "markdown",
   "metadata": {},
   "source": [
    "Since the center difference is the more accurate of the two, we'll generally use that one. The overall accuracy of the derivative depends on the spacing of points. You can explore this phenomenon further with the accompanying exercises."
   ]
  },
  {
   "cell_type": "markdown",
   "metadata": {},
   "source": [
    "---"
   ]
  },
  {
   "cell_type": "markdown",
   "metadata": {},
   "source": [
    "## Introduction: Finding Root"
   ]
  },
  {
   "cell_type": "markdown",
   "metadata": {},
   "source": [
    "Finding the zero of a function (i.e., finding the root) is a very common task in physics. As we learned in the class, there are two ways to find the root of a given function: Bisection method and Newton's method"
   ]
  },
  {
   "cell_type": "markdown",
   "metadata": {},
   "source": [
    "###Bisection method\n",
    "The Bisection method is a simple method to find the zero of a function. TWe only need to specify the function $f(x)$ and two values of $x$ between which $f(x)$ is zero - let's call those two points $x_1$ and $x_2$. As $f(x)$ equals zero somewhere between $x_1$ and $x_2$, that means that $f(x)$ is positive at $x_1$ or $x_2$ and negative at the other one. In other words, the product of the two function values is negative: $f(x_1)f(x_2)<0$. If this condition is fulfilled, all we know is that $f(x)$ is zero somewhere in the interval between $x_1$ and $x_2$ (provided $f(x)$ is continuous, of course). The basic idea of the bisection method is to iterate towards the zero of the function by cutting the interval in half every iteration. This is done by computing the middle between $x_1$ and $x_2$, let's call that point $x_m$, and compute $f(x_m)$. Next, replace either $x_1$ or $x_2$ by $x_m$ making sure that $f(x)$ remains negative at one of the two values and positive at the other. Repeat the process until the interval is small enough. In summary, the algorithm works as follows:\n",
    "\n",
    "1. Compute $f(x)$ at $x_1$ and $x_2$ and make sure that $f(x_1)f(x_2)<0$.\n",
    "2. Compute $x_m = \\frac{1}{2}(x_1+x_2)$.\n",
    "3. Compute $f(x_m)$.\n",
    "4. If $f(x_m)f(x_2)<0$, replace $x_1$ by $x_m$, otherwise, replace $x_2$ by $x_m$.\n",
    "5. Test whether $|x_1-x_2|<\\varepsilon$, where $\\varepsilon$ is a user-specified tolerance. If this is not yet the case, return to step 2."
   ]
  },
  {
   "cell_type": "markdown",
   "metadata": {},
   "source": [
    "###Exercise 1. <a name=\"back1\"></a>Bisection method\n",
    "\n",
    "*Step 1.*\n",
    "Write a Python function for $f(x)=\\frac{1}{2}-\\text{e}^{-x}$. Create a plot of $f(x)$ for $x$ varying from 0 to 4. Notice that $f(x)$ has a zero somewhere on the plotted interval (for this example it isn't really that hard to determine the zero exactly, of course, and we will do that later on to test whether our code works correctly)."
   ]
  },
  {
   "cell_type": "code",
   "execution_count": 12,
   "metadata": {},
   "outputs": [
    {
     "name": "stdout",
     "output_type": "stream",
     "text": [
      "0.6931471805599453\n",
      "-0.24084218055563292\n"
     ]
    },
    {
     "data": {
      "image/png": "[encoded data removed]",
      "text/plain": [
       "<Figure size 432x288 with 1 Axes>"
      ]
     },
     "metadata": {
      "needs_background": "light"
     },
     "output_type": "display_data"
    }
   ],
   "source": [
    "def f(x):\n",
    "    return 1.0/2.0 - np.exp(-x)\n",
    "def fp(x):\n",
    "    return np.exp(-x)\n",
    "x = np.arange(0,4, 0.1)\n",
    "plt.plot(x,f(x),'r',lw=1.5)\n",
    "plt.axhline(0.0)\n",
    "print(-np.log(0.5))\n",
    "print(f(0)*f(4))"
   ]
  },
  {
   "cell_type": "markdown",
   "metadata": {},
   "source": [
    "*Step 2.* Implement the bisection method in a function called `bisection`. Your `bisection` method should take the following arguments:\n",
    "\n",
    "1. The function for which you want to find the zero.\n",
    "2. $x_1$ and $x_2$\n",
    "3. The tolerance `tol` used as a stopping criterion. Make `tol` a keyword argument with a default value of 0.001.\n",
    "4. The maximum number of iterations `nmax`. Make `nmax` a keyword argument with a default value of, for example, 10.\n",
    "\n",
    "Your function should return the value of $x$ where $f(x)$ equals (approximately) zero. Your function should print a warning to the screen when the maximum number of iterations is reached before the tolerance is met.\n",
    "\n",
    "In writing your code, implement steps 2-5 of the algorithm explained above in a regular loop that you perform `nmax` times and break out of the loop (using the `break` command) when the tolerance is met. Doing it this way will prevent you from getting stuck in an infinite loop, which may happen if you use a `while` loop. \n",
    "In writing your code it is advisable to print the values of $x_1$, $x_2$, $f(x_1)$, and $f(x_2)$ to the screen every iteration, so you can see how your `bisection` function performs (or whether you have any bugs left). \n",
    "\n",
    "Use your `bisection` method to find the zero of the function $f(x)$ you programmed in Step 1 and make sure it is within `tol=0.001` of the exact value (which you can determine by hand). "
   ]
  },
  {
   "cell_type": "code",
   "execution_count": 13,
   "metadata": {},
   "outputs": [
    {
     "name": "stdout",
     "output_type": "stream",
     "text": [
      " iteration 1\n",
      " iteration 2\n",
      " iteration 3\n",
      " iteration 4\n",
      " iteration 5\n",
      " iteration 6\n",
      " iteration 7\n",
      " iteration 8\n",
      " iteration 9\n",
      " iteration 10\n",
      " iteration 11\n",
      " iteration 12\n",
      " iteration 13\n",
      " iteration 14\n",
      " iteration 15\n",
      " iteration 16\n",
      " iteration 17\n",
      " iteration 18\n",
      "analytical solution 0.6931471805599453\n",
      "err 1.4286068202862268e-06\n"
     ]
    }
   ],
   "source": [
    "def bisection(func, x1,x2, tol=1e-3,nmax=30):\n",
    "    f1 = func(x1)\n",
    "    f2 = func(x2)\n",
    "    if f1*f2>0:\n",
    "        print('f(x1)*f(x2) should be negative')\n",
    "        return \n",
    "    for i in range(nmax):\n",
    "        xm = 0.5*(x1+x2)\n",
    "        fm = func(xm)\n",
    "        if fm*f1<0:\n",
    "            x2 = xm\n",
    "        else:\n",
    "            x1 = xm\n",
    "        if abs(x1-x2) <= tol:\n",
    "            return x1\n",
    "        print(' iteration',i+1)\n",
    "\n",
    "x0 = bisection(f, 0, 4.0, tol=1e-5,nmax=30)\n",
    "x0_an = -np.log(0.5)\n",
    "print ('analytical solution', x0_an)\n",
    "print ('err', abs(x0-x0_an))\n"
   ]
  },
  {
   "cell_type": "markdown",
   "metadata": {},
   "source": [
    "*Step 3*\n",
    "Demonstrate that your `bisection` method works correctly by finding the zero of cos($x$) between $x_1=0$ and $x_2=3$ running the following command:\n",
    "\n",
    "`bisection(np.cos, 0, 3, tol=1e-6, nmax=30)`"
   ]
  },
  {
   "cell_type": "markdown",
   "metadata": {},
   "source": [
    "The Bisection method is a brute-force method that is guaranteed to work when the user specifies an interval from $x_1$ to $x_2$ that contains a zero (and the function is continuous). The Bisection method is not very efficient (it requires a lot of function evaluations) and it is inconvienient that the user has to specify an interval that contains the zero. A smarter alternative is Newton's method (also called the Newton-Raphson method), but it is, unfortunately, not guaranteed that it always works, as is explained below. \n",
    "\n",
    "Let's try to find the zero of the function represented by the blue line in the graph below. Newton's method starts at a user-defined starting location, called $x_0$ here and shown with the blue dot. A straight line is fitted through the point $(x,y)=(x_0,f(x_0))$ in such a way that the line is tangent to $f(x)$ at $x_0$ (the red line). The intersection of the red line with the horizontal axis is the next estimate $x_1$ of the zero of the function (the red dot). This process is continued until a value of $f(x)$ is found that is sufficiently small. Hence, a straight line is fitted through the point $(x,y)=(x_1,f(x_1))$, again tangent to the function, and the intersection of this line with the horizontal axis is the next best estimate of the zero of the function, etc., etc.\n",
    "\n",
    "\n",
    "<img src=\"http://i.imgur.com/tK1EOtD.png\" alt=\"Newton's method on wikipedia\">\n",
    "\n",
    "The equation for a straight line with slope $a$ and through the point $x_n,f(x_n)$ is\n",
    "\n",
    "$y = a(x-x_n) + f(x_n)$\n",
    "\n",
    "As we want the line to be tangent to the function $f(x)$ at the point $x=x_n$, the slope $a$ is equal to the derivative of $f(x)$ at $x_n$: $a=f'(x_n)$. To find the intersection of the line with the horizontal axis, we have to find the value of $x$ that results in $y=0$. This is our next estimate $x_{n+1}$ of the zero of the function. Hence we need to solve\n",
    "\n",
    "$0 = f'(x_n) (x_{n+1}-x_n) + f(x_n)$\n",
    "\n",
    "which gives\n",
    "\n",
    "$\\boxed{x_{n+1} = x_n -\\frac{f(x_n)}{f'(x_n)}}$\n",
    "\n",
    "The search is completed when $|f(x)|$ is below a user-specified tolerance.\n",
    "A nice animated illustration of Newton's method can be found on wikipedia.\n",
    "\n",
    "<img src=\"http://upload.wikimedia.org/wikipedia/commons/e/e0/NewtonIteration_Ani.gif\" alt=\"Newton's method on wikipedia\" width=\"400px\">"
   ]
  },
  {
   "cell_type": "markdown",
   "metadata": {},
   "source": [
    "Newton's method is guaranteed to find the zero of a function if the function is *well behaved* and you start your search *close enough* to the zero. If those two conditions are met, Newton's method is very fast. If they are not met, the method does not converge to the zero. Another disadvantage of Newton's method is that you need to define the derivative of the function. Strangely enough, the function value doesn't have to go down every iteration (as is illustated in the figure above going from $x_2$ to $x_3$)."
   ]
  },
  {
   "cell_type": "markdown",
   "metadata": {},
   "source": [
    "###Exercise 2. <a name=\"back2\"></a>Newton's method\n",
    "Implement Newton's method in a Python function called `newtonsmethod` and test your function by finding the zero of $f(x)=\\frac{1}{2}-\\text{e}^{-x}$, as we used in Exercise 1. Use $x_0=1$ as the starting point of your search. The `newtonsmethod` function should take the following arguments:\n",
    "\n",
    "1. The function for which you want to find the zero.\n",
    "2. The derivative of the function for which you want to find the zero.\n",
    "3. The starting point of the search $x_0$.\n",
    "4. The tolerance `tol` used as a stopping criterion. Make `tol` a keyword argument with a default value of $10^{-6}$.\n",
    "5. The maximum number of iterations `nmax`. Make `nmax` a keyword argument with a default value of 10.\n",
    "\n",
    "Your function should return the value of $x$ where $f(x)$ equals (approximately) zero. Your function should print a warning to the screen when the maximum number of iterations is reached before the tolerance is met. \n",
    "\n",
    "It is suggested to print the value of $x_{n+1}$ and the corresponding function value to the screen every iteration so you know whether your function is making good progress. If you implement everything correctly, you should find a zero that gives a function value less than $10^{-6}$ within 3 iterations if you start at $x=1$. How many iterations do you need when you start at $x=4$?"
   ]
  },
  {
   "cell_type": "code",
   "execution_count": 12,
   "metadata": {},
   "outputs": [
    {
     "name": "stdout",
     "output_type": "stream",
     "text": [
      "starting at x=1\n",
      "tolerance reached in 2 iterations\n",
      "xzero,f(xzero)  0.6940423752639113 0.0004473970683622208\n",
      "starting at x=4\n",
      "tolerance reached in 6 iterations\n",
      "xzero,f(xzero)  0.6932759437277134 6.437743907361515e-05\n"
     ]
    }
   ],
   "source": [
    "def newton(func, fp, xs, tol=1e-3,nmax=30):\n",
    "        f = func(xs)\n",
    "        for i in np.arange(nmax):\n",
    "            fprime = fp(x0)\n",
    "            xs = xs - f/fprime\n",
    "            f = func(xs)\n",
    "            if abs(f) < tol: \n",
    "                print('tolerance reached in',i+1,'iterations')\n",
    "                break\n",
    "        if abs(f) > tol:\n",
    "            print ('Max number of iterations reached before convergence')\n",
    "        return xs\n",
    "    \n",
    "print ('starting at x=1')\n",
    "xzero = newton(f,fp,1)\n",
    "print ('xzero,f(xzero) ',xzero,f(xzero))\n",
    "\n",
    "print('starting at x=4')\n",
    "xzero = newton(f,fp,4,nmax=40)\n",
    "print('xzero,f(xzero) ',xzero,f(xzero))"
   ]
  },
  {
   "cell_type": "code",
   "execution_count": null,
   "metadata": {},
   "outputs": [],
   "source": []
  },
  {
   "cell_type": "code",
   "execution_count": null,
   "metadata": {},
   "outputs": [],
   "source": []
  },
  {
   "cell_type": "markdown",
   "metadata": {},
   "source": [
    "Demonstrate that your `newton` function works by finding the zero of $\\sin(x)$. As you know, the $\\sin(x)$ function has many zeros: $-2\\pi$, $-\\pi$, $0$, $pi$, $2\\pi$, etc. Which zero do you find when starting at $x=1$ and which zero do you find when starting at $x=1.5$?"
   ]
  },
  {
   "cell_type": "markdown",
   "metadata": {},
   "source": [
    "### Root finding methods in `scipy`\n",
    "The package `scipy.optimize` includes a number of routines for the minimization of a function and to find the zeros of a function. Two of the rootfinding methods are called, no suprise, `bisect` and `newton`. "
   ]
  },
  {
   "cell_type": "markdown",
   "metadata": {},
   "source": [
    "### Exercise <a name=\"back3\"></a>3\n",
    "Use the `newton` method of `scipy.optimize` package to find the $x$ value for which $\\ln(x^2)=2$ (i.e., find the zero of the function $\\ln(x^2)-2$), and demonstrate that your value of $x$ indeed gives $\\ln(x^2)=2$."
   ]
  },
  {
   "cell_type": "code",
   "execution_count": 13,
   "metadata": {},
   "outputs": [
    {
     "name": "stdout",
     "output_type": "stream",
     "text": [
      "value of x: -2.7182818284590455\n",
      "ln(x^2): 2.0000000000000004\n"
     ]
    }
   ],
   "source": [
    "import scipy.optimize as so\n",
    "\n",
    "def g(x):\n",
    "    return np.log(x**2)-2\n",
    "\n",
    "x = so.newton(g,10)\n",
    "print ('value of x:', x)\n",
    "print ('ln(x^2):', np.log(x**2))"
   ]
  },
  {
   "cell_type": "code",
   "execution_count": 14,
   "metadata": {},
   "outputs": [
    {
     "name": "stdout",
     "output_type": "stream",
     "text": [
      "Help on function newton in module scipy.optimize.zeros:\n",
      "\n",
      "newton(func, x0, fprime=None, args=(), tol=1.48e-08, maxiter=50, fprime2=None, x1=None, rtol=0.0, full_output=False, disp=True)\n",
      "    Find a zero of a real or complex function using the Newton-Raphson\n",
      "    (or secant or Halley's) method.\n",
      "    \n",
      "    Find a zero of the function `func` given a nearby starting point `x0`.\n",
      "    The Newton-Raphson method is used if the derivative `fprime` of `func`\n",
      "    is provided, otherwise the secant method is used. If the second order\n",
      "    derivative `fprime2` of `func` is also provided, then Halley's method is\n",
      "    used.\n",
      "    \n",
      "    If `x0` is a sequence with more than one item, then `newton` returns an\n",
      "    array, and `func` must be vectorized and return a sequence or array of the\n",
      "    same shape as its first argument. If `fprime` or `fprime2` is given, then\n",
      "    its return must also have the same shape.\n",
      "    \n",
      "    Parameters\n",
      "    ----------\n",
      "    func : callable\n",
      "        The function whose zero is wanted. It must be a function of a\n",
      "        single variable of the form ``f(x,a,b,c...)``, where ``a,b,c...``\n",
      "        are extra arguments that can be passed in the `args` parameter.\n",
      "    x0 : float, sequence, or ndarray\n",
      "        An initial estimate of the zero that should be somewhere near the\n",
      "        actual zero. If not scalar, then `func` must be vectorized and return\n",
      "        a sequence or array of the same shape as its first argument.\n",
      "    fprime : callable, optional\n",
      "        The derivative of the function when available and convenient. If it\n",
      "        is None (default), then the secant method is used.\n",
      "    args : tuple, optional\n",
      "        Extra arguments to be used in the function call.\n",
      "    tol : float, optional\n",
      "        The allowable error of the zero value. If `func` is complex-valued,\n",
      "        a larger `tol` is recommended as both the real and imaginary parts\n",
      "        of `x` contribute to ``|x - x0|``.\n",
      "    maxiter : int, optional\n",
      "        Maximum number of iterations.\n",
      "    fprime2 : callable, optional\n",
      "        The second order derivative of the function when available and\n",
      "        convenient. If it is None (default), then the normal Newton-Raphson\n",
      "        or the secant method is used. If it is not None, then Halley's method\n",
      "        is used.\n",
      "    x1 : float, optional\n",
      "        Another estimate of the zero that should be somewhere near the\n",
      "        actual zero. Used if `fprime` is not provided.\n",
      "    rtol : float, optional\n",
      "        Tolerance (relative) for termination.\n",
      "    full_output : bool, optional\n",
      "        If `full_output` is False (default), the root is returned.\n",
      "        If True and `x0` is scalar, the return value is ``(x, r)``, where ``x``\n",
      "        is the root and ``r`` is a `RootResults` object.\n",
      "        If True and `x0` is non-scalar, the return value is ``(x, converged,\n",
      "        zero_der)`` (see Returns section for details).\n",
      "    disp : bool, optional\n",
      "        If True, raise a RuntimeError if the algorithm didn't converge, with\n",
      "        the error message containing the number of iterations and current\n",
      "        function value. Otherwise, the convergence status is recorded in a\n",
      "        `RootResults` return object.\n",
      "        Ignored if `x0` is not scalar.\n",
      "        *Note: this has little to do with displaying, however,\n",
      "        the `disp` keyword cannot be renamed for backwards compatibility.*\n",
      "    \n",
      "    Returns\n",
      "    -------\n",
      "    root : float, sequence, or ndarray\n",
      "        Estimated location where function is zero.\n",
      "    r : `RootResults`, optional\n",
      "        Present if ``full_output=True`` and `x0` is scalar.\n",
      "        Object containing information about the convergence. In particular,\n",
      "        ``r.converged`` is True if the routine converged.\n",
      "    converged : ndarray of bool, optional\n",
      "        Present if ``full_output=True`` and `x0` is non-scalar.\n",
      "        For vector functions, indicates which elements converged successfully.\n",
      "    zero_der : ndarray of bool, optional\n",
      "        Present if ``full_output=True`` and `x0` is non-scalar.\n",
      "        For vector functions, indicates which elements had a zero derivative.\n",
      "    \n",
      "    See Also\n",
      "    --------\n",
      "    brentq, brenth, ridder, bisect\n",
      "    fsolve : find zeros in N dimensions.\n",
      "    \n",
      "    Notes\n",
      "    -----\n",
      "    The convergence rate of the Newton-Raphson method is quadratic,\n",
      "    the Halley method is cubic, and the secant method is\n",
      "    sub-quadratic. This means that if the function is well-behaved\n",
      "    the actual error in the estimated zero after the nth iteration\n",
      "    is approximately the square (cube for Halley) of the error\n",
      "    after the (n-1)th step. However, the stopping criterion used\n",
      "    here is the step size and there is no guarantee that a zero\n",
      "    has been found. Consequently, the result should be verified.\n",
      "    Safer algorithms are brentq, brenth, ridder, and bisect,\n",
      "    but they all require that the root first be bracketed in an\n",
      "    interval where the function changes sign. The brentq algorithm\n",
      "    is recommended for general use in one dimensional problems\n",
      "    when such an interval has been found.\n",
      "    \n",
      "    When `newton` is used with arrays, it is best suited for the following\n",
      "    types of problems:\n",
      "    \n",
      "    * The initial guesses, `x0`, are all relatively the same distance from\n",
      "      the roots.\n",
      "    * Some or all of the extra arguments, `args`, are also arrays so that a\n",
      "      class of similar problems can be solved together.\n",
      "    * The size of the initial guesses, `x0`, is larger than O(100) elements.\n",
      "      Otherwise, a naive loop may perform as well or better than a vector.\n",
      "    \n",
      "    Examples\n",
      "    --------\n",
      "    >>> from scipy import optimize\n",
      "    >>> import matplotlib.pyplot as plt\n",
      "    \n",
      "    >>> def f(x):\n",
      "    ...     return (x**3 - 1)  # only one real root at x = 1\n",
      "    \n",
      "    ``fprime`` is not provided, use the secant method:\n",
      "    \n",
      "    >>> root = optimize.newton(f, 1.5)\n",
      "    >>> root\n",
      "    1.0000000000000016\n",
      "    >>> root = optimize.newton(f, 1.5, fprime2=lambda x: 6 * x)\n",
      "    >>> root\n",
      "    1.0000000000000016\n",
      "    \n",
      "    Only ``fprime`` is provided, use the Newton-Raphson method:\n",
      "    \n",
      "    >>> root = optimize.newton(f, 1.5, fprime=lambda x: 3 * x**2)\n",
      "    >>> root\n",
      "    1.0\n",
      "    \n",
      "    Both ``fprime2`` and ``fprime`` are provided, use Halley's method:\n",
      "    \n",
      "    >>> root = optimize.newton(f, 1.5, fprime=lambda x: 3 * x**2,\n",
      "    ...                        fprime2=lambda x: 6 * x)\n",
      "    >>> root\n",
      "    1.0\n",
      "    \n",
      "    When we want to find zeros for a set of related starting values and/or\n",
      "    function parameters, we can provide both of those as an array of inputs:\n",
      "    \n",
      "    >>> f = lambda x, a: x**3 - a\n",
      "    >>> fder = lambda x, a: 3 * x**2\n",
      "    >>> np.random.seed(4321)\n",
      "    >>> x = np.random.randn(100)\n",
      "    >>> a = np.arange(-50, 50)\n",
      "    >>> vec_res = optimize.newton(f, x, fprime=fder, args=(a, ))\n",
      "    \n",
      "    The above is the equivalent of solving for each value in ``(x, a)``\n",
      "    separately in a for-loop, just faster:\n",
      "    \n",
      "    >>> loop_res = [optimize.newton(f, x0, fprime=fder, args=(a0,))\n",
      "    ...             for x0, a0 in zip(x, a)]\n",
      "    >>> np.allclose(vec_res, loop_res)\n",
      "    True\n",
      "    \n",
      "    Plot the results found for all values of ``a``:\n",
      "    \n",
      "    >>> analytical_result = np.sign(a) * np.abs(a)**(1/3)\n",
      "    >>> fig = plt.figure()\n",
      "    >>> ax = fig.add_subplot(111)\n",
      "    >>> ax.plot(a, analytical_result, 'o')\n",
      "    >>> ax.plot(a, vec_res, '.')\n",
      "    >>> ax.set_xlabel('$a$')\n",
      "    >>> ax.set_ylabel('$x$ where $f(x, a)=0$')\n",
      "    >>> plt.show()\n",
      "\n"
     ]
    }
   ],
   "source": [
    "help(so.newton)\n"
   ]
  },
  {
   "cell_type": "code",
   "execution_count": null,
   "metadata": {},
   "outputs": [],
   "source": []
  },
  {
   "cell_type": "code",
   "execution_count": null,
   "metadata": {},
   "outputs": [],
   "source": []
  }
 ],
 "metadata": {
  "kernelspec": {
   "display_name": "Python 3",
   "language": "python",
   "name": "python3"
  },
  "language_info": {
   "codemirror_mode": {
    "name": "ipython",
    "version": 3
   },
   "file_extension": ".py",
   "mimetype": "text/x-python",
   "name": "python",
   "nbconvert_exporter": "python",
   "pygments_lexer": "ipython3",
   "version": "3.7.7"
  }
 },
 "nbformat": 4,
 "nbformat_minor": 4
}
