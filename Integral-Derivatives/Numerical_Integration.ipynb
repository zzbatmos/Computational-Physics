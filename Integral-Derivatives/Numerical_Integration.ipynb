{
 "cells": [
  {
   "cell_type": "markdown",
   "metadata": {},
   "source": [
    "# Numerical Integration"
   ]
  },
  {
   "cell_type": "markdown",
   "metadata": {},
   "source": [
    "### PHYS640 Computational Physics\n",
    "Dr. Zhibo Zhang, Physics Departmen"
   ]
  },
  {
   "cell_type": "code",
   "execution_count": 2,
   "metadata": {
    "ExecuteTime": {
     "end_time": "2019-03-26T11:00:30.558798Z",
     "start_time": "2019-03-26T11:00:29.516733Z"
    }
   },
   "outputs": [],
   "source": [
    "%matplotlib inline\n",
    "import numpy as np\n",
    "import matplotlib.pyplot as plt"
   ]
  },
  {
   "cell_type": "markdown",
   "metadata": {},
   "source": [
    "## Introduction"
   ]
  },
  {
   "cell_type": "markdown",
   "metadata": {},
   "source": [
    "We often need to calculate integrals in physics (thermodynamics, electromagnetism,  quantum mechanics, etc.). Given a function $f(x)$, the integral of $f(x)$ between two limits, $a$ and $b$ is equivalent to find the area under the curve:\n",
    "    \n",
    "$$\n",
    "I(a,b) = \\int_a^b f(x) dx\n",
    "$$\n",
    "\n",
    "<img src=\"integral_demo.png\" width=400>\n",
    "\n",
    "In calculus, you learned how to evaluate integrals analytically. If a function $g$ is the anti-derivative of $f$, namely:\n",
    "\n",
    "$$\n",
    "g'(x)=f(x)\n",
    "$$\n",
    "\n",
    "Then, the integral of $f(x)$ between $a$ and $b$ can be solved analytically by:\n",
    "\n",
    "$$\n",
    "\\int_a^b f(x) dx = g(b)-g(a)\n",
    "$$\n"
   ]
  },
  {
   "cell_type": "markdown",
   "metadata": {},
   "source": [
    "---"
   ]
  },
  {
   "cell_type": "markdown",
   "metadata": {},
   "source": [
    "## Example: Work Done By Isothermal Expansion"
   ]
  },
  {
   "cell_type": "markdown",
   "metadata": {},
   "source": [
    "Let's look a real example. An ideal gas originally have a temperature, volume and pressure at $T_0$, $V_0$, $P_0$, respectively. It expanded from $V_0$ to $V_1$. During the expansion, the temperature remains constant (i.e., isothermal expansion). \n",
    "\n",
    "*Question: How much work $W$ did this ideal gas do on the environment during the expansion?*\n",
    "\n",
    "To solve this question, we need to do the following integration:\n",
    "\n",
    "$$\n",
    "W = \\int_{V_0}^{V_1} P(V,T) dV\n",
    "$$\n",
    "\n",
    "From the ideal gas law, we know that\n",
    "\n",
    "$PV=mRT$ or $P=\\frac{mRT}{V}$\n",
    "\n",
    "where $m$ is the mass of the ideal gas and $R$ is the gas constant. Substituting $P$ into the integral, we can get\n",
    "\n",
    "$$\n",
    "W = \\int_{V_0}^{V_1} \\frac{mRT}{V} dV = mRT\\ln \\left( \\frac{{{V}_{1}}}{{{V}_{0}}} \\right)\n",
    "$$\n",
    "\n",
    "we can write a simple python code to compute W."
   ]
  },
  {
   "cell_type": "code",
   "execution_count": 3,
   "metadata": {
    "ExecuteTime": {
     "end_time": "2019-03-26T11:00:42.546085Z",
     "start_time": "2019-03-26T11:00:41.840884Z"
    },
    "scrolled": true
   },
   "outputs": [
    {
     "data": {
      "image/png": "[encoded data removed]",
      "text/plain": [
       "<Figure size 432x288 with 1 Axes>"
      ]
     },
     "metadata": {
      "needs_background": "light"
     },
     "output_type": "display_data"
    },
    {
     "name": "stdout",
     "output_type": "stream",
     "text": [
      "Total Work Done, W = 1.261e+06 J\n"
     ]
    }
   ],
   "source": [
    "def Isothermal_expansion_analytical(m,R,T,V0,V1,plot_fig=False):\n",
    "    W = m*R*T*np.log(V1/V0)\n",
    "    \n",
    "    if plot_fig:\n",
    "        V = np.linspace(V0,V1)\n",
    "        P = m*R*T/V\n",
    "        fig,ax = plt.subplots()  \n",
    "        ax.fill_between(V,0,P, facecolor='b',alpha=0.5)\n",
    "        ax.set_xlabel(r'$Volume\\ [m^{3}]$',fontsize='large')\n",
    "        ax.set_ylabel(r'$Pressue\\ [Pa]$',fontsize='large')\n",
    "        ax.set_title('Work done by isothermal expansion')\n",
    "        plt.show()\n",
    "    return W\n",
    "m = 10.0 #[kg]\n",
    "R = 287.0 # gas constant of air J/kg/K\n",
    "T = 400.0 #[K]\n",
    "V0 = 10.0 #[m**3]\n",
    "V1 = 30.0 #[m**3] \n",
    "W_analy = Isothermal_expansion_analytical(m,R,T,V0,V1,plot_fig=True)\n",
    "print('Total Work Done, W =', '{:.3e}'.format(W_analy), 'J')"
   ]
  },
  {
   "cell_type": "markdown",
   "metadata": {},
   "source": [
    "The above example is simple, because we know the analytical soluation of the integral. In real world, Most functions are too difficult to integrate analytically and for these we need to use the computer to integrate numerically.  A numerical integral goes back to the basic principles of calculus.  Different from the analytical solution, numerical integration calculates the integral *approximately* by dividing up the area into small patches and adding them all together.\n",
    "\n",
    "Then the integral becomes \n",
    "$$\n",
    "I(a,b) = \\int_a^b f(x) dx \\approx \\sum\\limits_{i=1}^{N}{{{A}_{i}}}\n",
    "$$\n",
    "\n",
    "where $A_i$ is the area of each small patch. There are many ways to divide up the area into small patches. The easiest way is to use small rectangle slice with the same width, as in the figue below.   \n",
    "\n",
    "<img src=\"Rectangles.png\" width=400>\n",
    "\n",
    "However, as you can see from the figure, this is not a good choice becaue the rectangle slices do not fit the curve closely. As such, the total areas of the rectangle slices will be different from the area under the curve. The difference is the error. \n",
    "\n",
    "Let's use our isothermal integration as example."
   ]
  },
  {
   "cell_type": "code",
   "execution_count": 12,
   "metadata": {
    "ExecuteTime": {
     "end_time": "2019-03-26T11:00:58.709783Z",
     "start_time": "2019-03-26T11:00:58.695998Z"
    }
   },
   "outputs": [
    {
     "name": "stdout",
     "output_type": "stream",
     "text": [
      "W = 1.428e+06 J\n",
      "Absolute error 1.664e+05 J\n",
      "Relative error 13.20 %\n"
     ]
    }
   ],
   "source": [
    "def Isothermal_expansion_simple(m,R,T,V0,V1,Ninterval):\n",
    "    # divide the V0 ~ V1 into small intervals\n",
    "    Vi = np.linspace(V0,V1,Ninterval,endpoint=False) # endpoint=False is to excluse the endpoint V1\n",
    "    dV = (V1-V0)/float(Ninterval)\n",
    "    # compute the pressure of the ideal gas at each interval\n",
    "    Pi = m*R*T/Vi\n",
    "    W = np.sum(Pi*dV)\n",
    "    return W \n",
    "Ninterval = 5\n",
    "W_simple = Isothermal_expansion_simple(m,R,T,V0,V1,Ninterval)\n",
    "print('W =', '{:.3e}'.format(W_simple) , 'J')\n",
    "print('Absolute error' , '{:.3e}'.format(W_simple - W_analy) , 'J')\n",
    "print('Relative error' , '{:.2f}'.format((W_simple - W_analy)/ W_analy *100.0) , '%')"
   ]
  },
  {
   "cell_type": "markdown",
   "metadata": {},
   "source": [
    "As you can see, when Ninterval = 5 the error of the above simple method is pretty large. In the rest of this section, we will learn some other (better) method to divide the area and do the numerical integration. Before we start, let's keep in mind that a good method should be\n",
    "\n",
    "* Accurate, so that we get the correct result\n",
    "* Efficient, so that we can get things done"
   ]
  },
  {
   "cell_type": "markdown",
   "metadata": {},
   "source": [
    "## Trapezoidal Rule"
   ]
  },
  {
   "cell_type": "markdown",
   "metadata": {},
   "source": [
    "A better approach, which involves very little extra work, is to divide the area into trapezoids rather than rectangles.  The area under the trapezoids is a considerably better approximation to the area under the curve, and this approach, though simple, often gives perfectly adequate results.\n",
    "\n",
    "<img src=\"Trapz.png\" width=420>\n",
    "\n"
   ]
  },
  {
   "cell_type": "markdown",
   "metadata": {},
   "source": [
    "We can improve the approximation by making the size of the trapezoids smaller.  Suppose we divide the interval from $a$ to $b$ into $N$ slices or steps, so that each slice has width $h = (b − a)/N$ . Then the right-hand side of the $k$ th slice falls at $a+kh$, and the left-hand side falls at $a+kh−h$ = $a+(k−1)h$ . Thus the area of the trapezoid for this slice is\n",
    "\n",
    "$$\n",
    "A_k = \\tfrac{1}{2}h[ f(a+(k−1)h)+ f(a+kh) ]\n",
    "$$\n",
    "\n",
    "This is the *trapezoidal rule*. It gives us a trapezoidal approximation to the area under one slice of our function."
   ]
  },
  {
   "cell_type": "markdown",
   "metadata": {},
   "source": [
    "Now our approximation for the area under the whole curve is the sum of the areas of the trapezoids for all $N$ slices\n",
    "\n",
    "$$\n",
    "I(a,b) \\simeq \\sum\\limits_{k=1}^N A_k = \\tfrac{1}{2}h \\sum\\limits_{k=1}^N [ f(a+(k−1)h)+ f(a+kh) ] = h \\left[ \\tfrac{1}{2}f(a) + \\tfrac{1}{2}f(b) + \\sum\\limits_{k=1}^{N-1} f(a+kh)\\right]\n",
    "$$\n",
    "\n",
    "Note the structure of the formula: the quantity inside the square brackets is a sum over values of $f(x)$ measured at equally spaced points in the integration domain, and we take a half of the values at the start and end points but one times the value at all the interior points."
   ]
  },
  {
   "cell_type": "markdown",
   "metadata": {},
   "source": [
    "### Applying the Trapezoidal rule"
   ]
  },
  {
   "cell_type": "markdown",
   "metadata": {},
   "source": [
    "Let's go back to our isothermal expansion example."
   ]
  },
  {
   "cell_type": "markdown",
   "metadata": {},
   "source": [
    "This is an integral we can do by hand, so we can check our work.  To define the function, let's use a lambda expression (you learned about these in the advanced python section of CodeCademy).  It's basically just a way of defining a function of some variables in one line.  For this case, it is just a function of `x`:"
   ]
  },
  {
   "cell_type": "code",
   "execution_count": 5,
   "metadata": {},
   "outputs": [
    {
     "name": "stdout",
     "output_type": "stream",
     "text": [
      "W = 1.271e+06 J\n",
      "Absolute error 9.338e+03 J\n",
      "Relative error 0.74 %\n"
     ]
    }
   ],
   "source": [
    "def Isothermal_expansion_trapezoidal(m,R,T,V0,V1,Ninterval):  \n",
    "    P = lambda V : m*R*T/V # here P is a simple function of V P(V) = mRT/V; m, R, T are parameters\n",
    "    a = V0\n",
    "    b = V1\n",
    "    h = (b-a) / Ninterval\n",
    "    k = np.arange(1,Ninterval)\n",
    "    W = h*(0.5*P(a) + 0.5*P(b) + np.sum(P(a+k*h)))\n",
    "    return W \n",
    "Ninterval = 6\n",
    "W_trap = Isothermal_expansion_trapezoidal(m,R,T,V0,V1,Ninterval)\n",
    "print('W =', '{:.3e}'.format(W_trap) , 'J')\n",
    "print('Absolute error' , '{:.3e}'.format(W_trap - W_analy) , 'J')\n",
    "print('Relative error' , '{:.2f}'.format((W_trap - W_analy)/ W_analy *100.0) , '%')"
   ]
  },
  {
   "cell_type": "markdown",
   "metadata": {},
   "source": [
    "You can see that using the trapezoidal method, we achieved much better result by cutting the area into small trapez instead of the rectangles. \n",
    "\n",
    "It turns out that the error associated with the trapezoidal method is proportional to:\n",
    "\n",
    "$$\n",
    "\\varepsilon \\tilde{\\ }O\\left( \\frac{{{[b-a]}^{3}}}{{{N}^{2}}} \\right){{f}^{(2)}} \n",
    "$$\n",
    "\n",
    "where ${f}^{(2)}$ is the second order derivative of the function be integrated, $N$ is the number of the interval. In other words, trapezoidal method is accurate for linear functions becace their second order derivatives are zero."
   ]
  },
  {
   "cell_type": "markdown",
   "metadata": {},
   "source": [
    "---"
   ]
  },
  {
   "cell_type": "markdown",
   "metadata": {},
   "source": [
    "## Simpson's Rule"
   ]
  },
  {
   "cell_type": "markdown",
   "metadata": {},
   "source": [
    "The trapezoidal rule estimates the area under a curve by approximating the curve with straight-line segments.  We can often get a better result if we approximate the function instead with curves of some kind.  *Simpson's rule* uses quadratic curves.  In order to specify a quadratic completely one needs three points, not just two as with a straight line. So in this method we take a pair of adjacent slices and fit a quadratic through the three points that mark the boundaries of those slices.  \n",
    "\n",
    "Given a function $f(x)$ and spacing between adjacent points $h$, if we fit a quadratic curve $ax^2 + bx + c$  through the points $x$ = $-h$, 0, $+h$, we get\n",
    "\n",
    "$$\n",
    "f(-h) = ah^2 - bh + c, \\hspace{1cm} f(0) = c, \\hspace{1cm} f(h) = ah^2 +bh +c\n",
    "$$"
   ]
  },
  {
   "cell_type": "markdown",
   "metadata": {},
   "source": [
    "Solving for $a$, $b$, and $c$ gives:\n",
    "\n",
    "$$\n",
    "a = \\frac{1}{h^2}\\left[\\tfrac{1}{2}f(-h) - f(0) + \\tfrac{1}{2}f(h)\\right], \\hspace{1cm} b = \\frac{1}{2h}\\left[f(h)-f(-h)\\right], \\hspace{1cm} c = f(0)\n",
    "$$"
   ]
  },
  {
   "cell_type": "markdown",
   "metadata": {},
   "source": [
    "and the area under the curve of $f(x)$ from $-h$ to $+h$ is given approximately by the area under the quadratic:\n",
    "    \n",
    "$$\n",
    "I(-h,h) \\simeq \\int_{-h}^h (ax^2+bx+c)dx = \\tfrac{2}{3}ah^3 + 2ch = \\tfrac{1}{3}h[f(-h)+4f(0)+f(h)]\n",
    "$$"
   ]
  },
  {
   "cell_type": "markdown",
   "metadata": {},
   "source": [
    "This is Simpson’s rule. It gives us an approximation to the area under two adjacent slices of our function. Note that the final formula for the area involves only $h$ and the value of the function at evenly spaced points, just as with the trapezoidal rule. So to use Simpson’s rule we don’t actually have to worry about the details of fitting a quadratic—we just plug numbers into this formula and it gives us an answer. This makes Simpson’s rule almost as simple to use as the trapezoidal rule, and yet Simpson’s rule often gives much more accurate answers.\n",
    "\n",
    "Applying Simpson’s rule involves dividing the domain of integration into many slices and using the rule to separately estimate the area under successive pairs of slices, then adding the estimates for all pairs to get the final answer."
   ]
  },
  {
   "cell_type": "markdown",
   "metadata": {},
   "source": [
    "If we are integrating from $x = a$ to $x = b$ in slices of width $h$ then Simpson’s rule gives the area under the $k$ th pair, approximately, as\n",
    "\n",
    "$$\n",
    "A_k = \\tfrac{1}{3}h[f(a+(2k-2)h)+4f(a+(2k-1)h) + f(a+2kh)]\n",
    "$$\n",
    "\n",
    "With $N$ slices in total, there are $N/2$ pairs of slices, and the approximate value of the entire integral is given by the sum\n",
    "\n",
    "$$\n",
    "I(a,b) \\simeq \\sum\\limits_{k=1}^{N/2}A_k = \\tfrac{1}{3}h\\left[f(a)+f(b)+4\\sum\\limits_{k=1}^{N/2}f(a+(2k-1)h)+2\\sum\\limits_{k=1}^{N/2-1}f(a+2kh)\\right]\n",
    "$$"
   ]
  },
  {
   "cell_type": "markdown",
   "metadata": {},
   "source": [
    "<font color='red'>***Note that the total number of intervals must be even for Simpson's rule to work.***</font>"
   ]
  },
  {
   "cell_type": "markdown",
   "metadata": {},
   "source": [
    "### Applying Simpson's rule"
   ]
  },
  {
   "cell_type": "markdown",
   "metadata": {},
   "source": [
    "Now, let's go back to our isothermal expansion example and see the accuracy of Simpson's rule."
   ]
  },
  {
   "cell_type": "code",
   "execution_count": 6,
   "metadata": {},
   "outputs": [
    {
     "name": "stdout",
     "output_type": "stream",
     "text": [
      "W = 1.262e+06 J\n",
      "Absolute error 3.783e+02 J\n",
      "Relative error 0.03 %\n"
     ]
    }
   ],
   "source": [
    "def Isothermal_expansion_Simpson(m,R,T,V0,V1,Ninterval):  \n",
    "    P = lambda V : m*R*T/V # here P is a simple function of V P(V) = mRT/V; m, R, T are parameters\n",
    "    a = V0\n",
    "    b = V1\n",
    "    h = (b-a) / Ninterval\n",
    "    k1 = np.arange(1,Ninterval/2+1)\n",
    "    k2 = np.arange(1,Ninterval/2)\n",
    "    W = (1./3.)*h*(P(a) + P(b) + 4.*np.sum(P(a+(2*k1-1)*h)) + 2.*P(a+2*k2*h).sum())\n",
    "    return W \n",
    "Ninterval = 6\n",
    "W_Simpson = Isothermal_expansion_Simpson(m,R,T,V0,V1,Ninterval)\n",
    "print('W =', '{:.3e}'.format(W_Simpson) , 'J')\n",
    "print('Absolute error' , '{:.3e}'.format(W_Simpson - W_analy) , 'J')\n",
    "print('Relative error' , '{:.2f}'.format((W_Simpson - W_analy)/ W_analy *100.0) , '%')"
   ]
  },
  {
   "cell_type": "markdown",
   "metadata": {},
   "source": [
    "You can see that the accuracy of Simpson's rule is even better than the trapezoidal method.\n",
    "\n",
    "It turns out that the error associated with the Simpson's method is proportional to:\n",
    "\n",
    "\n",
    "$$\n",
    "\\varepsilon \\tilde{\\ }O\\left( \\frac{{{[b-a]}^{5}}}{{{N}^{4}}} \\right){{f}^{(4)}}\n",
    "$$\n",
    "\n",
    "where ${f}^{(4)}$ is the second order derivative of the function be integrated, $N$ is the number of the interval. where ${f}^{(4)}$ is the second order derivative of the function be integrated, $N$ is the number of the interval. In other words, Simpson's method is accurate for 3rd or lower degree polynomials becace their 4th order derivatives are zero."
   ]
  },
  {
   "cell_type": "markdown",
   "metadata": {},
   "source": [
    "---"
   ]
  },
  {
   "cell_type": "markdown",
   "metadata": {},
   "source": [
    "## Adaptive methods and higher order approximations"
   ]
  },
  {
   "cell_type": "markdown",
   "metadata": {},
   "source": [
    "In some cases, particularly for integrands that are rapidly varying, a very large number of steps may be needed to achieve the desired accuracy, which means the calculation can become slow. "
   ]
  },
  {
   "cell_type": "markdown",
   "metadata": {},
   "source": [
    "So how do we choose the number $N$ of steps for our integrals? In our example calculations we just chose round numbers and looked to see if the results seemed reasonable.  A more common situation is that we want to calculate the value of an integral to a given accuracy, such as four decimal places, and we would like to know how many steps will be needed. So long as the desired accuracy does not exceed the fundamental limit set by the machine precision of our computer— the rounding error that limits all calculations—then it should always be possible to meet our goal by using a large enough number of steps. At the same time, we want to avoid using more steps than are necessary, since more steps take more time and our calculation will be slower. \n",
    "\n",
    "Ideally we would like an $N$ that gives us the accuracy we want and no more.  A simple way to achieve this is to start with a small value of $N$ and repeatedly double it until we achieve the accuracy we want.  This method is an example of an *adaptive integration* method, one that changes its own parameters to get a desired answer."
   ]
  },
  {
   "cell_type": "markdown",
   "metadata": {},
   "source": [
    "The trapezoidal rule is based on approximating an integrand $f(x)$ with straight-line segments, while Simpson’s rule uses quadratics. We can create higher-order (and hence potentially more accurate) rules by using higher-order polynomials, fitting $f(x)$ with cubics, quartics, and so forth. The general form of the trapezoidal and Simpson rules is\n",
    "\n",
    "$$\n",
    "\\int_a^b f(x)dx \\simeq \\sum\\limits_{k=1}^{N}w_kf(x_k)\n",
    "$$\n",
    "\n",
    "where the $x_k$ are the positions of the sample points at which we calculate the integrand and the $w_k$ are some set of weights.  In the trapezoidal rule, the first and last weights are $\\tfrac{1}{2}$ and the others are all 1, while in Simpson’s rule the weights are $\\tfrac{1}{3}$ for the first and last slices and alternate between $\\tfrac{4}{3}$ and $\\tfrac{2}{3}$ for the other slices.  For higher-order rules the basic form is the same: after fitting to the appropriate polynomial and integrating we end up with a set of weights that multiply the values $f(x_k)$ of the integrand at evenly spaced sample points. "
   ]
  },
  {
   "cell_type": "markdown",
   "metadata": {},
   "source": [
    "Notice that the trapezoidal rule is *exact* if the function being integrated is actually a straight line, because then the straight-line approximation isn’t an approximation at all. Similarly, Simpson’s rule is exact if the function being integrated is a quadratic, and so on for higher order polynomials.\n",
    "\n",
    "There are other more advanced schemes for calculating integrals that can achieve high accuracy while still arriving at an answer quickly. These typically combine the higher order polynomial approximations with adaptive methods for choosing the number of slices, in some cases allowing their sizes to vary over different regions of the integrand.  \n",
    "\n",
    "One such method, called *Gaussian Quadrature* - after its inventor, Carl Friedrich Gauss, uses Legendre polynomials to choose the $x_k$ and $w_k$ such that we can obtain an integration rule accurate to the highest possible order of $2N−1$.  It is beyond the scope of this course to derive the Gaussian quadrature method, but you can learn more about it by searching the literature.   \n",
    "\n",
    "Now that we understand the basics of numerical integration and have even coded our own trapezoidal and Simpson's rules, we can feel justified in using `scipy`'s built-in library of numerical integrators that build on these basic ideas, without coding them ourselves."
   ]
  },
  {
   "cell_type": "markdown",
   "metadata": {},
   "source": [
    "## `scipy.integrate`"
   ]
  },
  {
   "cell_type": "markdown",
   "metadata": {},
   "source": [
    "It is time to look at `scipy`'s built-in functions for integrating functions numerically.  Start by importing the library."
   ]
  },
  {
   "cell_type": "code",
   "execution_count": 7,
   "metadata": {},
   "outputs": [],
   "source": [
    "import scipy.integrate as integrate\n",
    "#check out the help:\n",
    "#help(integrate)\n",
    "\n"
   ]
  },
  {
   "cell_type": "markdown",
   "metadata": {},
   "source": [
    "An overview of the module is provided by the help command, but it produces a lot of output.  Here's a quick summary:\n",
    "\n",
    "**Methods for Integrating Functions given function object.**\n",
    "\n",
    "    quad          -- General purpose integration.\n",
    "    dblquad       -- General purpose double integration.\n",
    "    tplquad       -- General purpose triple integration.\n",
    "    fixed_quad    -- Integrate func(x) using Gaussian quadrature of order n.\n",
    "    quadrature    -- Integrate with given tolerance using Gaussian quadrature.\n",
    "    romberg       -- Integrate func using Romberg integration.\n",
    "\n",
    "**Methods for Integrating Functions given fixed samples.**\n",
    "\n",
    "    trapz         -- Use trapezoidal rule to compute integral from samples.\n",
    "    cumtrapz      -- Use trapezoidal rule to cumulatively compute integral.\n",
    "    simps         -- Use Simpson's rule to compute integral from samples.\n",
    "    romb          -- Use Romberg Integration to compute integral from (2**k + 1) evenly-spaced samples.\n",
    "\n",
    "See the <code>special</code> module's orthogonal polynomials (<code>scipy.special</code>) for Gaussian quadrature roots and weights for other weighting factors and regions.\n",
    "\n",
    "**Interface to numerical integrators of ODE systems.**\n",
    "\n",
    "    odeint        -- General integration of ordinary differential equations.\n",
    "    ode           -- Integrate ODE using VODE and ZVODE routines."
   ]
  },
  {
   "cell_type": "markdown",
   "metadata": {},
   "source": [
    "### General integration (`quad`)"
   ]
  },
  {
   "cell_type": "markdown",
   "metadata": {},
   "source": [
    "The `scipy` function `quad` is provided to integrate a function of one variable between two points. The points can be  $\\pm\\infty$ ($\\pm$ `np.infty`) to indicate infinite limits. Now, let's use the `scipy.integrate.quad` function as a black box to solve the isothermal expansion problem."
   ]
  },
  {
   "cell_type": "code",
   "execution_count": 8,
   "metadata": {},
   "outputs": [
    {
     "name": "stdout",
     "output_type": "stream",
     "text": [
      "W = 1.261e+06 J\n",
      "Absolute error 2.328e-10 J\n",
      "Relative error 0.00000 %\n"
     ]
    }
   ],
   "source": [
    "#help(integrate.quad)\n",
    "def Isothermal_expansion_quad(m,R,T,V0,V1):  \n",
    "#    P = lambda V : m*R*T/V # here P is a simple function of V P(V) = mRT/V; m, R, T are parameters\n",
    "    def P(V): return m*R*T/V\n",
    "    W, err = integrate.quad(P,V0,V1)\n",
    "    return W , err\n",
    "\n",
    "W_quad, err = Isothermal_expansion_quad(m,R,T,V0,V1)\n",
    "print('W =', '{:.3e}'.format(W_quad), 'J')\n",
    "print('Absolute error' , '{:.3e}'.format(W_quad - W_analy) , 'J')\n",
    "print('Relative error' , '{:.5f}'.format((W_quad - W_analy)/ W_analy *100.0) , '%')"
   ]
  },
  {
   "cell_type": "markdown",
   "metadata": {},
   "source": [
    "Take another example, suppose you wish to integrate the following: \n",
    "\n",
    "$$\n",
    "I = \\int_0^{2\\pi} e^{-x}\\sin(x)dx\n",
    "$$\n",
    "\n",
    "This could be computed using `quad` as:"
   ]
  },
  {
   "cell_type": "code",
   "execution_count": 9,
   "metadata": {},
   "outputs": [
    {
     "name": "stdout",
     "output_type": "stream",
     "text": [
      "0.49906627863414593 6.023731631928322e-15\n"
     ]
    }
   ],
   "source": [
    "#fun = lambda x : np.exp(-x)*np.sin(x) \n",
    "\n",
    "def fun(x):\n",
    "        return np.exp(-x)*np.sin(x) \n",
    "\n",
    "result,error = integrate.quad(fun, 0, 2*np.pi) \n",
    "\n",
    "print(result,error)"
   ]
  },
  {
   "cell_type": "markdown",
   "metadata": {},
   "source": [
    "The first argument to quad is a “callable” Python object (i.e a function, method, or class instance). Notice that we used a `lambda` function in this case as the argument. The next two arguments are the limits of integration. The return value is a tuple, with the first element holding the estimated value of the integral and the second element holding an upper bound on the error."
   ]
  },
  {
   "cell_type": "markdown",
   "metadata": {},
   "source": [
    "The analytic solution to the integral is \n",
    "\n",
    "$$\n",
    "\\int_0^{2\\pi} e^{-x} \\sin(x) dx = \\frac{1}{2} -  e^{-2\\pi} \\simeq \\textrm{0.499066}\n",
    "$$\n",
    "\n",
    "so that is pretty good."
   ]
  },
  {
   "cell_type": "markdown",
   "metadata": {},
   "source": [
    "Here it is again, integrated from 0 to infinity:"
   ]
  },
  {
   "cell_type": "code",
   "execution_count": 10,
   "metadata": {},
   "outputs": [
    {
     "name": "stdout",
     "output_type": "stream",
     "text": [
      "(0.5000000000000002, 1.4875911973447031e-08)\n"
     ]
    }
   ],
   "source": [
    "I = integrate.quad(fun, 0, np.infty)\n",
    "\n",
    "print(I)"
   ]
  },
  {
   "cell_type": "markdown",
   "metadata": {},
   "source": [
    "In this case the analytic solution is exactly 1/2, so again pretty good."
   ]
  },
  {
   "cell_type": "markdown",
   "metadata": {},
   "source": [
    "We can calculate the error in the result by looking at the difference between the exact result and the numerical value from `quad` with"
   ]
  },
  {
   "cell_type": "code",
   "execution_count": 11,
   "metadata": {},
   "outputs": [
    {
     "name": "stdout",
     "output_type": "stream",
     "text": [
      "2.220446049250313e-16\n"
     ]
    }
   ],
   "source": [
    "print(abs(I[0]-0.5))\n"
   ]
  },
  {
   "cell_type": "markdown",
   "metadata": {},
   "source": [
    "In this case, the numerically-computed integral is within $10^{-16}$ of the exact result — well below the reported error bound."
   ]
  },
  {
   "cell_type": "markdown",
   "metadata": {},
   "source": [
    "---"
   ]
  },
  {
   "cell_type": "markdown",
   "metadata": {},
   "source": [
    "## Integrating array data"
   ]
  },
  {
   "cell_type": "markdown",
   "metadata": {},
   "source": [
    "When you want to compute the integral for an array of data, you don't have the luxury of varying your choice of $N$, the number of slices (unless you create an interpolated approximation to your data).\n",
    "\n",
    "There are three functions for computing integrals given only samples: `trapz` , `simps`, and `romb`.  The trapezoidal rule approximates the function as a straight line between adjacent points while Simpson’s rule approximates the function between three adjacent points as a parabola, as we have already seen. The first two functions can also handle non-equally-spaced samples (something we did not code ourselves) which is a useful extension to these integration rules.\n",
    "\n",
    "If the samples are equally-spaced and the number of samples available is $2^k+1$ for some integer $k$, then Romberg integration can be used to obtain high-precision estimates of the integral using the available samples. Romberg integration is an adaptive method that uses the trapezoid rule at step-sizes related by a power of two and then performs something called Richardson extrapolation on these estimates to approximate the integral with a higher-degree of accuracy. (A different interface to Romberg integration useful when the function can be provided is also available as `romberg`)."
   ]
  },
  {
   "cell_type": "markdown",
   "metadata": {},
   "source": [
    "### Applying `simps` to array data"
   ]
  },
  {
   "cell_type": "markdown",
   "metadata": {},
   "source": [
    "Here is an example of using `simps` to compute the integral for some discrete data:"
   ]
  },
  {
   "cell_type": "code",
   "execution_count": 11,
   "metadata": {},
   "outputs": [
    {
     "data": {
      "image/png": "[encoded data removed]",
      "text/plain": [
       "<Figure size 432x288 with 1 Axes>"
      ]
     },
     "metadata": {
      "needs_background": "light"
     },
     "output_type": "display_data"
    }
   ],
   "source": [
    "x = np.arange(0, 20, 2)\n",
    "y = np.array([0, 3, 5, 2, 8, 9, 0, -3, 4, 9], dtype = float)\n",
    "plt.plot(x,y)\n",
    "\n",
    "#Show the integration area as a filled region\n",
    "plt.fill_between(x, y, y2=0,color='red',hatch='//',alpha=0.2)\n",
    "\n",
    "plt.show()"
   ]
  },
  {
   "cell_type": "code",
   "execution_count": 16,
   "metadata": {},
   "outputs": [
    {
     "name": "stdout",
     "output_type": "stream",
     "text": [
      "Simpson's Rule Integral for discrete samples = 64.66666666666666\n"
     ]
    }
   ],
   "source": [
    "I = integrate.simps(y,x)  \n",
    "print (\"Simpson's Rule Integral for discrete samples =\",I)"
   ]
  },
  {
   "cell_type": "markdown",
   "metadata": {},
   "source": [
    "## example: integration of solar spectrum at the top of atmosphere"
   ]
  },
  {
   "cell_type": "code",
   "execution_count": 24,
   "metadata": {},
   "outputs": [
    {
     "name": "stdout",
     "output_type": "stream",
     "text": [
      "(1697, 2)\n",
      "1364.9424521518335\n"
     ]
    },
    {
     "data": {
      "image/png": "[encoded data removed]",
      "text/plain": [
       "<Figure size 432x288 with 1 Axes>"
      ]
     },
     "metadata": {
      "needs_background": "light"
     },
     "output_type": "display_data"
    }
   ],
   "source": [
    "data = np.loadtxt('solar_spectrum.txt',skiprows=1)\n",
    "print(data.shape)\n",
    "wl, intensity = data[:,0],data[:,1]\n",
    "fig,ax=plt.subplots()\n",
    "ax.plot(wl,intensity)\n",
    "ax.set_xscale('log')\n",
    "ax.set_xlabel('wavelength [$\\mu m$]',fontsize='x-large')\n",
    "ax.set_ylabel('solar irradiance [$W/m^2/\\mu m$]',fontsize='x-large')\n",
    "\n",
    "solar_constant = integrate.simps(intensity,wl)\n",
    "print(solar_constant )"
   ]
  },
  {
   "cell_type": "markdown",
   "metadata": {},
   "source": [
    "---"
   ]
  },
  {
   "cell_type": "markdown",
   "metadata": {},
   "source": [
    "## Multiple Integrals"
   ]
  },
  {
   "cell_type": "markdown",
   "metadata": {},
   "source": [
    "Multiple integration can be handled using repeated calls to `quad`. The mechanics of this for double and triple integration have been wrapped up into the functions `dblquad` and `tplquad`. The function `dblquad` performs double integration. Use the help function to be sure that you define the arguments in the correct order.  The limits on all inner integrals are actually functions (which can be constant)."
   ]
  },
  {
   "cell_type": "markdown",
   "metadata": {},
   "source": [
    "### Double integrals using `dblquad`"
   ]
  },
  {
   "cell_type": "markdown",
   "metadata": {},
   "source": [
    "Suppose we want to integrate $f(x,y)=y\\sin(x)+x\\cos(y)$ over $\\pi \\le x \\le 2\\pi$ and $0 \\le y \\le \\pi$:\n",
    "\n",
    "\n",
    "$$\\int_{x=\\pi}^{2\\pi}\\int_{y=0}^{\\pi} y \\sin(x) + x \\cos(y) dxdy$$\n",
    "\n"
   ]
  },
  {
   "cell_type": "markdown",
   "metadata": {},
   "source": [
    "To use `dblquad` we have to provide *callable functions* for the range of the x-variable. Although here they are constants, the use of functions for the limits enables freedom to integrate over non-constant limits.  In this case we create trivial lambda functions that return the constants. Note the order of the arguments in the integrand.  If you put them in the wrong order you will get the wrong answer."
   ]
  },
  {
   "cell_type": "code",
   "execution_count": 27,
   "metadata": {},
   "outputs": [
    {
     "name": "stdout",
     "output_type": "stream",
     "text": [
      "The double integral is = \n"
     ]
    },
    {
     "data": {
      "text/plain": [
       "(None, -9.869604401089354)"
      ]
     },
     "execution_count": 27,
     "metadata": {},
     "output_type": "execute_result"
    }
   ],
   "source": [
    "from scipy.integrate import dblquad\n",
    "\n",
    "#NOTE: the order of arguments matters - inner to outer\n",
    "integrand = lambda x,y: y * np.sin(x) + x * np.cos(y)\n",
    "\n",
    "ymin = 0\n",
    "ymax = np.pi\n",
    "\n",
    "#The callable functions for the x limits are just constants in this case:\n",
    "xmin = lambda y : np.pi\n",
    "xmax = lambda y : 2*np.pi\n",
    "\n",
    "#See the help for correct order of limits\n",
    "ans, err = dblquad(integrand, ymin, ymax, xmin, xmax)\n",
    "print(\"The double integral is = \"),ans"
   ]
  },
  {
   "cell_type": "markdown",
   "metadata": {},
   "source": [
    "### Triple integrals using `tplquad`"
   ]
  },
  {
   "cell_type": "markdown",
   "metadata": {},
   "source": [
    "We can also numerically evaluate a triple integral:\n",
    "\n",
    "$$ \\int_{x=0}^{\\pi}\\int_{y=0}^{1}\\int_{z=-1}^{1} y\\sin(x)+z\\cos(x) dxdydz$$"
   ]
  },
  {
   "cell_type": "code",
   "execution_count": 15,
   "metadata": {},
   "outputs": [
    {
     "name": "stdout",
     "output_type": "stream",
     "text": [
      "The triple integral =  1.9999999999999998\n"
     ]
    }
   ],
   "source": [
    "from scipy.integrate import tplquad\n",
    "\n",
    "#AGAIN: the order of arguments matters - inner to outer\n",
    "integrand = lambda x,y,z: y * np.sin(x) + z * np.cos(x)\n",
    "\n",
    "zmin = -1\n",
    "zmax = 1\n",
    "\n",
    "ymin = lambda z: 0\n",
    "ymax = lambda z: 1\n",
    "\n",
    "#Note the order of these arguments:\n",
    "xmin = lambda y,z: 0\n",
    "xmax = lambda y,z: np.pi\n",
    "\n",
    "#Here the order of limits is outer to inner\n",
    "ans, err = tplquad(integrand, zmin, zmax, ymin, ymax, xmin, xmax)\n",
    "print(\"The triple integral = \",ans)"
   ]
  },
  {
   "cell_type": "markdown",
   "metadata": {},
   "source": [
    "---"
   ]
  },
  {
   "cell_type": "markdown",
   "metadata": {},
   "source": [
    "## Monte Carlo Integration"
   ]
  },
  {
   "cell_type": "markdown",
   "metadata": {},
   "source": [
    "There is one other type of integration method, known as Monte Carlo Integration.  This one is very useful because it easily extends to intgrating functions in any number of dimensions.  In essence it uses a random sampling of points within a domain where our function is defined to estimate the area bounded by the function.  We'll learn how it works in a subsequent lesson."
   ]
  },
  {
   "cell_type": "markdown",
   "metadata": {},
   "source": [
    "---"
   ]
  },
  {
   "cell_type": "code",
   "execution_count": null,
   "metadata": {},
   "outputs": [],
   "source": []
  }
 ],
 "metadata": {
  "kernelspec": {
   "display_name": "Python 3",
   "language": "python",
   "name": "python3"
  },
  "language_info": {
   "codemirror_mode": {
    "name": "ipython",
    "version": 3
   },
   "file_extension": ".py",
   "mimetype": "text/x-python",
   "name": "python",
   "nbconvert_exporter": "python",
   "pygments_lexer": "ipython3",
   "version": "3.7.7"
  },
  "toc": {
   "base_numbering": 1,
   "nav_menu": {},
   "number_sections": true,
   "sideBar": true,
   "skip_h1_title": false,
   "title_cell": "Table of Contents",
   "title_sidebar": "Contents",
   "toc_cell": false,
   "toc_position": {},
   "toc_section_display": true,
   "toc_window_display": false
  }
 },
 "nbformat": 4,
 "nbformat_minor": 4
}
